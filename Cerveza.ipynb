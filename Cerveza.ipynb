{
 "cells": [
  {
   "cell_type": "markdown",
   "metadata": {},
   "source": [
    "Se toma una lata de gaseosa, cerveza o de cualquier líquido (de forma tal que la relación entre el tamaño de la lata y el del recinto sea lo más pequeña posible) y se enfría hasta una temperatura TL considerablemente inferior a la temperatura ambiente de un recinto, TR=18<sup>o</sup>C. Se ubica la lata en el recinto y se mide la temperatura del recinto y de la lata. Se realizan mediciones periódicas (igualmente espaciadas en el tiempo) de la temperatura de la lata. "
   ]
  },
  {
   "cell_type": "markdown",
   "metadata": {},
   "source": [
    "Se define un intervalo de tiempo entre observaciones a utilizar para obtener los datos base para la construcción del modelo."
   ]
  },
  {
   "cell_type": "code",
   "execution_count": 1,
   "metadata": {},
   "outputs": [],
   "source": [
    "import numpy as np\n",
    "import matplotlib.pyplot as plt\n",
    "import pandas as pd"
   ]
  },
  {
   "cell_type": "code",
   "execution_count": 2,
   "metadata": {},
   "outputs": [
    {
     "data": {
      "text/plain": [
       "21"
      ]
     },
     "execution_count": 2,
     "metadata": {},
     "output_type": "execute_result"
    }
   ],
   "source": [
    "datos=np.array([4.5,4.9,5.1,5.3,5.5,5.6,5.7,5.9,6.1,6.2,6.4,6.6,6.7,6.9,7.0,7.2,7.3,7.5,7.6,7.8,7.9])\n",
    "len(datos)"
   ]
  },
  {
   "cell_type": "code",
   "execution_count": 4,
   "metadata": {},
   "outputs": [
    {
     "name": "stdout",
     "output_type": "stream",
     "text": [
      "[ 1.  2.  3.  4.  5.  6.  7.  8.  9. 10. 11. 12. 13. 14. 15. 16. 17. 18.\n",
      " 19. 20. 21.]\n",
      "[13.5 13.1 12.9 12.7 12.5 12.4 12.3 12.1 11.9 11.8 11.6 11.4 11.3 11.1\n",
      " 11.  10.8 10.7 10.5 10.4 10.2 10.1]\n"
     ]
    }
   ],
   "source": [
    "TA=18.0\n",
    "n=np.linspace(1,len(datos),len(datos))\n",
    "print(n)\n",
    "X_n=TA-datos\n",
    "print(X_n)"
   ]
  },
  {
   "cell_type": "code",
   "execution_count": 5,
   "metadata": {},
   "outputs": [
    {
     "data": {
      "text/plain": [
       "<matplotlib.collections.PathCollection at 0x23ff2b14248>"
      ]
     },
     "execution_count": 5,
     "metadata": {},
     "output_type": "execute_result"
    },
    {
     "data": {
      "image/png": "[encoded data removed]",
      "text/plain": [
       "<Figure size 432x288 with 1 Axes>"
      ]
     },
     "metadata": {
      "needs_background": "light"
     },
     "output_type": "display_data"
    }
   ],
   "source": [
    "%matplotlib inline\n",
    "plt.scatter(n,X_n)"
   ]
  },
  {
   "cell_type": "code",
   "execution_count": 6,
   "metadata": {},
   "outputs": [
    {
     "data": {
      "text/html": [
       "<div>\n",
       "<style scoped>\n",
       "    .dataframe tbody tr th:only-of-type {\n",
       "        vertical-align: middle;\n",
       "    }\n",
       "\n",
       "    .dataframe tbody tr th {\n",
       "        vertical-align: top;\n",
       "    }\n",
       "\n",
       "    .dataframe thead th {\n",
       "        text-align: right;\n",
       "    }\n",
       "</style>\n",
       "<table border=\"1\" class=\"dataframe\">\n",
       "  <thead>\n",
       "    <tr style=\"text-align: right;\">\n",
       "      <th></th>\n",
       "      <th>temp</th>\n",
       "    </tr>\n",
       "  </thead>\n",
       "  <tbody>\n",
       "    <tr>\n",
       "      <td>0</td>\n",
       "      <td>4.5</td>\n",
       "    </tr>\n",
       "    <tr>\n",
       "      <td>1</td>\n",
       "      <td>4.9</td>\n",
       "    </tr>\n",
       "    <tr>\n",
       "      <td>2</td>\n",
       "      <td>5.1</td>\n",
       "    </tr>\n",
       "    <tr>\n",
       "      <td>3</td>\n",
       "      <td>5.3</td>\n",
       "    </tr>\n",
       "    <tr>\n",
       "      <td>4</td>\n",
       "      <td>5.5</td>\n",
       "    </tr>\n",
       "  </tbody>\n",
       "</table>\n",
       "</div>"
      ],
      "text/plain": [
       "   temp\n",
       "0   4.5\n",
       "1   4.9\n",
       "2   5.1\n",
       "3   5.3\n",
       "4   5.5"
      ]
     },
     "execution_count": 6,
     "metadata": {},
     "output_type": "execute_result"
    }
   ],
   "source": [
    "datosT=pd.DataFrame({\"temp\":datos})\n",
    "datosT.head()"
   ]
  },
  {
   "cell_type": "markdown",
   "metadata": {},
   "source": [
    "Variable de estado\n",
    "$$ X_n=TA-T_{lata_n}=X_{n-1}+k*X_{n-1}=(1+k)X_{n-1} $$\n",
    "$$ X_n=X_{n-1}+\\Delta_{X_{n-1}} $$\n",
    "$$ \\Delta_{X_{n-1}}=X_n-X_{n-1}$$\n",
    "$$ \\Delta_{X_{n-1}}=k*X_{n-1}$$"
   ]
  },
  {
   "cell_type": "code",
   "execution_count": 7,
   "metadata": {},
   "outputs": [
    {
     "data": {
      "text/html": [
       "<div>\n",
       "<style scoped>\n",
       "    .dataframe tbody tr th:only-of-type {\n",
       "        vertical-align: middle;\n",
       "    }\n",
       "\n",
       "    .dataframe tbody tr th {\n",
       "        vertical-align: top;\n",
       "    }\n",
       "\n",
       "    .dataframe thead th {\n",
       "        text-align: right;\n",
       "    }\n",
       "</style>\n",
       "<table border=\"1\" class=\"dataframe\">\n",
       "  <thead>\n",
       "    <tr style=\"text-align: right;\">\n",
       "      <th></th>\n",
       "      <th>temp</th>\n",
       "      <th>xn</th>\n",
       "    </tr>\n",
       "  </thead>\n",
       "  <tbody>\n",
       "    <tr>\n",
       "      <td>0</td>\n",
       "      <td>4.5</td>\n",
       "      <td>13.5</td>\n",
       "    </tr>\n",
       "    <tr>\n",
       "      <td>1</td>\n",
       "      <td>4.9</td>\n",
       "      <td>13.1</td>\n",
       "    </tr>\n",
       "    <tr>\n",
       "      <td>2</td>\n",
       "      <td>5.1</td>\n",
       "      <td>12.9</td>\n",
       "    </tr>\n",
       "    <tr>\n",
       "      <td>3</td>\n",
       "      <td>5.3</td>\n",
       "      <td>12.7</td>\n",
       "    </tr>\n",
       "    <tr>\n",
       "      <td>4</td>\n",
       "      <td>5.5</td>\n",
       "      <td>12.5</td>\n",
       "    </tr>\n",
       "  </tbody>\n",
       "</table>\n",
       "</div>"
      ],
      "text/plain": [
       "   temp    xn\n",
       "0   4.5  13.5\n",
       "1   4.9  13.1\n",
       "2   5.1  12.9\n",
       "3   5.3  12.7\n",
       "4   5.5  12.5"
      ]
     },
     "execution_count": 7,
     "metadata": {},
     "output_type": "execute_result"
    }
   ],
   "source": [
    "datosT[\"xn\"]=TA-datosT.temp\n",
    "datosT.head()"
   ]
  },
  {
   "cell_type": "code",
   "execution_count": 9,
   "metadata": {},
   "outputs": [
    {
     "data": {
      "text/html": [
       "<div>\n",
       "<style scoped>\n",
       "    .dataframe tbody tr th:only-of-type {\n",
       "        vertical-align: middle;\n",
       "    }\n",
       "\n",
       "    .dataframe tbody tr th {\n",
       "        vertical-align: top;\n",
       "    }\n",
       "\n",
       "    .dataframe thead th {\n",
       "        text-align: right;\n",
       "    }\n",
       "</style>\n",
       "<table border=\"1\" class=\"dataframe\">\n",
       "  <thead>\n",
       "    <tr style=\"text-align: right;\">\n",
       "      <th></th>\n",
       "      <th>temp</th>\n",
       "      <th>xn</th>\n",
       "      <th>delta</th>\n",
       "    </tr>\n",
       "  </thead>\n",
       "  <tbody>\n",
       "    <tr>\n",
       "      <td>0</td>\n",
       "      <td>4.5</td>\n",
       "      <td>13.5</td>\n",
       "      <td>NaN</td>\n",
       "    </tr>\n",
       "    <tr>\n",
       "      <td>1</td>\n",
       "      <td>4.9</td>\n",
       "      <td>13.1</td>\n",
       "      <td>-0.4</td>\n",
       "    </tr>\n",
       "    <tr>\n",
       "      <td>2</td>\n",
       "      <td>5.1</td>\n",
       "      <td>12.9</td>\n",
       "      <td>-0.2</td>\n",
       "    </tr>\n",
       "    <tr>\n",
       "      <td>3</td>\n",
       "      <td>5.3</td>\n",
       "      <td>12.7</td>\n",
       "      <td>-0.2</td>\n",
       "    </tr>\n",
       "    <tr>\n",
       "      <td>4</td>\n",
       "      <td>5.5</td>\n",
       "      <td>12.5</td>\n",
       "      <td>-0.2</td>\n",
       "    </tr>\n",
       "    <tr>\n",
       "      <td>5</td>\n",
       "      <td>5.6</td>\n",
       "      <td>12.4</td>\n",
       "      <td>-0.1</td>\n",
       "    </tr>\n",
       "    <tr>\n",
       "      <td>6</td>\n",
       "      <td>5.7</td>\n",
       "      <td>12.3</td>\n",
       "      <td>-0.1</td>\n",
       "    </tr>\n",
       "    <tr>\n",
       "      <td>7</td>\n",
       "      <td>5.9</td>\n",
       "      <td>12.1</td>\n",
       "      <td>-0.2</td>\n",
       "    </tr>\n",
       "    <tr>\n",
       "      <td>8</td>\n",
       "      <td>6.1</td>\n",
       "      <td>11.9</td>\n",
       "      <td>-0.2</td>\n",
       "    </tr>\n",
       "    <tr>\n",
       "      <td>9</td>\n",
       "      <td>6.2</td>\n",
       "      <td>11.8</td>\n",
       "      <td>-0.1</td>\n",
       "    </tr>\n",
       "  </tbody>\n",
       "</table>\n",
       "</div>"
      ],
      "text/plain": [
       "   temp    xn  delta\n",
       "0   4.5  13.5    NaN\n",
       "1   4.9  13.1   -0.4\n",
       "2   5.1  12.9   -0.2\n",
       "3   5.3  12.7   -0.2\n",
       "4   5.5  12.5   -0.2\n",
       "5   5.6  12.4   -0.1\n",
       "6   5.7  12.3   -0.1\n",
       "7   5.9  12.1   -0.2\n",
       "8   6.1  11.9   -0.2\n",
       "9   6.2  11.8   -0.1"
      ]
     },
     "execution_count": 9,
     "metadata": {},
     "output_type": "execute_result"
    }
   ],
   "source": [
    "datosT[\"delta\"]=datosT[\"xn\"].diff()\n",
    "datosT.head(10)"
   ]
  },
  {
   "cell_type": "code",
   "execution_count": 11,
   "metadata": {},
   "outputs": [
    {
     "data": {
      "text/plain": [
       "[<matplotlib.lines.Line2D at 0x23ff2cde708>]"
      ]
     },
     "execution_count": 11,
     "metadata": {},
     "output_type": "execute_result"
    },
    {
     "data": {
      "image/png": "[encoded data removed]",
      "text/plain": [
       "<Figure size 432x288 with 1 Axes>"
      ]
     },
     "metadata": {
      "needs_background": "light"
     },
     "output_type": "display_data"
    }
   ],
   "source": [
    "plt.plot(datosT.xn[0:-1],datosT.delta[1:],'bo')"
   ]
  },
  {
   "cell_type": "markdown",
   "metadata": {},
   "source": [
    "$$ \\Delta_{X_{n-1}}=k*X_{n-1}$$\n",
    "$$ k=\\frac{\\Delta_{X_{n-1}}}{X_{n-1}}$$"
   ]
  },
  {
   "cell_type": "code",
   "execution_count": 13,
   "metadata": {},
   "outputs": [
    {
     "name": "stdout",
     "output_type": "stream",
     "text": [
      "[-0.02962963 -0.01526718 -0.01550388 -0.01574803 -0.008      -0.00806452\n",
      " -0.01626016 -0.01652893 -0.00840336 -0.01694915 -0.01724138 -0.00877193\n",
      " -0.01769912 -0.00900901 -0.01818182 -0.00925926 -0.01869159 -0.00952381\n",
      " -0.01923077 -0.00980392]\n"
     ]
    }
   ],
   "source": [
    "k=datosT.delta[1:].values/datosT.xn[0:-1].values\n",
    "print(k)"
   ]
  },
  {
   "cell_type": "code",
   "execution_count": 14,
   "metadata": {},
   "outputs": [
    {
     "data": {
      "text/plain": [
       "-0.014388371532105055"
      ]
     },
     "execution_count": 14,
     "metadata": {},
     "output_type": "execute_result"
    }
   ],
   "source": [
    "k_mean=np.mean(k)\n",
    "k_mean"
   ]
  },
  {
   "cell_type": "code",
   "execution_count": 34,
   "metadata": {},
   "outputs": [],
   "source": [
    "Xn_modelo=np.zeros(len(datosT.xn))\n",
    "deltaXn_modelo=np.zeros(len(datosT.xn))\n",
    "Xn_modelo[0]=datosT.xn[0]\n",
    "deltaXn_modelo[0]=k_mean*Xn_modelo[0]\n",
    "for i in range(len(Xn_modelo)-1):\n",
    "    Xn_modelo[i+1]=Xn_modelo[i]+k_mean*Xn_modelo[i]\n",
    "    deltaXn_modelo[i+1]=k_mean*Xn_modelo[i+1]\n",
    "datosT[\"Xn_modelo\"]=Xn_modelo\n",
    "datosT[\"deltaXn_modelo\"]=deltaXn_modelo\n",
    "datosT[\"Tem_lata_modelo\"]=18-Xn_modelo"
   ]
  },
  {
   "cell_type": "code",
   "execution_count": 35,
   "metadata": {},
   "outputs": [
    {
     "data": {
      "text/html": [
       "<div>\n",
       "<style scoped>\n",
       "    .dataframe tbody tr th:only-of-type {\n",
       "        vertical-align: middle;\n",
       "    }\n",
       "\n",
       "    .dataframe tbody tr th {\n",
       "        vertical-align: top;\n",
       "    }\n",
       "\n",
       "    .dataframe thead th {\n",
       "        text-align: right;\n",
       "    }\n",
       "</style>\n",
       "<table border=\"1\" class=\"dataframe\">\n",
       "  <thead>\n",
       "    <tr style=\"text-align: right;\">\n",
       "      <th></th>\n",
       "      <th>temp</th>\n",
       "      <th>xn</th>\n",
       "      <th>delta</th>\n",
       "      <th>Xn_modelo</th>\n",
       "      <th>deltaXn_modelo</th>\n",
       "      <th>Tem_lata_modelo</th>\n",
       "      <th>Xn_modelo2</th>\n",
       "      <th>deltaXn_modelo2</th>\n",
       "    </tr>\n",
       "  </thead>\n",
       "  <tbody>\n",
       "    <tr>\n",
       "      <td>0</td>\n",
       "      <td>4.5</td>\n",
       "      <td>13.5</td>\n",
       "      <td>NaN</td>\n",
       "      <td>13.500000</td>\n",
       "      <td>-0.194243</td>\n",
       "      <td>4.500000</td>\n",
       "      <td>13.500000</td>\n",
       "      <td>-0.197894</td>\n",
       "    </tr>\n",
       "    <tr>\n",
       "      <td>1</td>\n",
       "      <td>4.9</td>\n",
       "      <td>13.1</td>\n",
       "      <td>-0.4</td>\n",
       "      <td>13.305757</td>\n",
       "      <td>-0.191448</td>\n",
       "      <td>4.694243</td>\n",
       "      <td>13.302106</td>\n",
       "      <td>-0.194993</td>\n",
       "    </tr>\n",
       "    <tr>\n",
       "      <td>2</td>\n",
       "      <td>5.1</td>\n",
       "      <td>12.9</td>\n",
       "      <td>-0.2</td>\n",
       "      <td>13.114309</td>\n",
       "      <td>-0.188694</td>\n",
       "      <td>4.885691</td>\n",
       "      <td>13.107114</td>\n",
       "      <td>-0.192134</td>\n",
       "    </tr>\n",
       "    <tr>\n",
       "      <td>3</td>\n",
       "      <td>5.3</td>\n",
       "      <td>12.7</td>\n",
       "      <td>-0.2</td>\n",
       "      <td>12.925615</td>\n",
       "      <td>-0.185979</td>\n",
       "      <td>5.074385</td>\n",
       "      <td>12.914979</td>\n",
       "      <td>-0.189318</td>\n",
       "    </tr>\n",
       "    <tr>\n",
       "      <td>4</td>\n",
       "      <td>5.5</td>\n",
       "      <td>12.5</td>\n",
       "      <td>-0.2</td>\n",
       "      <td>12.739637</td>\n",
       "      <td>-0.183303</td>\n",
       "      <td>5.260363</td>\n",
       "      <td>12.725662</td>\n",
       "      <td>-0.186543</td>\n",
       "    </tr>\n",
       "  </tbody>\n",
       "</table>\n",
       "</div>"
      ],
      "text/plain": [
       "   temp    xn  delta  Xn_modelo  deltaXn_modelo  Tem_lata_modelo  Xn_modelo2  \\\n",
       "0   4.5  13.5    NaN  13.500000       -0.194243         4.500000   13.500000   \n",
       "1   4.9  13.1   -0.4  13.305757       -0.191448         4.694243   13.302106   \n",
       "2   5.1  12.9   -0.2  13.114309       -0.188694         4.885691   13.107114   \n",
       "3   5.3  12.7   -0.2  12.925615       -0.185979         5.074385   12.914979   \n",
       "4   5.5  12.5   -0.2  12.739637       -0.183303         5.260363   12.725662   \n",
       "\n",
       "   deltaXn_modelo2  \n",
       "0        -0.197894  \n",
       "1        -0.194993  \n",
       "2        -0.192134  \n",
       "3        -0.189318  \n",
       "4        -0.186543  "
      ]
     },
     "execution_count": 35,
     "metadata": {},
     "output_type": "execute_result"
    }
   ],
   "source": [
    "datosT.head()"
   ]
  },
  {
   "cell_type": "code",
   "execution_count": 36,
   "metadata": {},
   "outputs": [
    {
     "data": {
      "text/plain": [
       "[<matplotlib.lines.Line2D at 0x23ff2e79e48>]"
      ]
     },
     "execution_count": 36,
     "metadata": {},
     "output_type": "execute_result"
    },
    {
     "data": {
      "image/png": "[encoded data removed]",
      "text/plain": [
       "<Figure size 432x288 with 1 Axes>"
      ]
     },
     "metadata": {
      "needs_background": "light"
     },
     "output_type": "display_data"
    }
   ],
   "source": [
    "plt.plot(n,datosT[\"temp\"],\"ro\")\n",
    "plt.plot(n,datosT[\"Tem_lata_modelo\"],\"bo\")"
   ]
  },
  {
   "cell_type": "markdown",
   "metadata": {},
   "source": [
    "Métricas de comparación\n",
    "$$ SCE=\\sum\\limits_{n=1}^{N}(X_n-\\hat{X}_n)^2 $$"
   ]
  },
  {
   "cell_type": "code",
   "execution_count": 48,
   "metadata": {},
   "outputs": [
    {
     "name": "stdout",
     "output_type": "stream",
     "text": [
      "0.290330392489619\n"
     ]
    }
   ],
   "source": [
    "sce1=sum((datosT[\"temp\"]-datosT[\"Tem_lata_modelo\"])**2)\n",
    "print(sce1)"
   ]
  },
  {
   "cell_type": "markdown",
   "metadata": {},
   "source": [
    "$$ MDA=\\max\\limits_{n=1,\\cdots, N}|X_n-\\hat{X}_n| $$"
   ]
  },
  {
   "cell_type": "code",
   "execution_count": 49,
   "metadata": {},
   "outputs": [
    {
     "name": "stdout",
     "output_type": "stream",
     "text": [
      "0.2396367071077492\n"
     ]
    }
   ],
   "source": [
    "mad1=np.max(np.abs(datosT[\"temp\"]-datosT[\"Tem_lata_modelo\"]))\n",
    "print(mad1)"
   ]
  },
  {
   "cell_type": "markdown",
   "metadata": {},
   "source": [
    "Estimación del valor de $k$ a través de la minimización de la SCE"
   ]
  },
  {
   "cell_type": "code",
   "execution_count": 50,
   "metadata": {},
   "outputs": [],
   "source": [
    "A=np.column_stack((np.array(datosT.xn[0:-1].tolist()),np.zeros(len(datosT.xn[0:-1].tolist()))))"
   ]
  },
  {
   "cell_type": "code",
   "execution_count": 51,
   "metadata": {},
   "outputs": [
    {
     "data": {
      "text/plain": [
       "array([[13.5,  0. ],\n",
       "       [13.1,  0. ],\n",
       "       [12.9,  0. ],\n",
       "       [12.7,  0. ],\n",
       "       [12.5,  0. ],\n",
       "       [12.4,  0. ],\n",
       "       [12.3,  0. ],\n",
       "       [12.1,  0. ],\n",
       "       [11.9,  0. ],\n",
       "       [11.8,  0. ],\n",
       "       [11.6,  0. ],\n",
       "       [11.4,  0. ],\n",
       "       [11.3,  0. ],\n",
       "       [11.1,  0. ],\n",
       "       [11. ,  0. ],\n",
       "       [10.8,  0. ],\n",
       "       [10.7,  0. ],\n",
       "       [10.5,  0. ],\n",
       "       [10.4,  0. ],\n",
       "       [10.2,  0. ]])"
      ]
     },
     "execution_count": 51,
     "metadata": {},
     "output_type": "execute_result"
    }
   ],
   "source": [
    "A"
   ]
  },
  {
   "cell_type": "code",
   "execution_count": 52,
   "metadata": {},
   "outputs": [],
   "source": [
    "popt,res,rank,val= np.linalg.lstsq(A,datosT.delta[1:].values,rcond=None)"
   ]
  },
  {
   "cell_type": "code",
   "execution_count": 53,
   "metadata": {},
   "outputs": [
    {
     "name": "stdout",
     "output_type": "stream",
     "text": [
      "-0.014658782951465877 0.0\n"
     ]
    }
   ],
   "source": [
    "m,c=popt\n",
    "print(m,c)"
   ]
  },
  {
   "cell_type": "code",
   "execution_count": 54,
   "metadata": {},
   "outputs": [],
   "source": [
    "Xn_modelo=np.zeros(len(datosT.xn))\n",
    "deltaXn_modelo=np.zeros(len(datosT.xn))\n",
    "Xn_modelo[0]=datosT.xn[0]\n",
    "deltaXn_modelo[0]=m*Xn_modelo[0]\n",
    "for i in range(len(Xn_modelo)-1):\n",
    "    Xn_modelo[i+1]=Xn_modelo[i]+m*Xn_modelo[i]\n",
    "    deltaXn_modelo[i+1]=m*Xn_modelo[i+1]\n",
    "datosT[\"Xn_modelo2\"]=Xn_modelo\n",
    "datosT[\"deltaXn_modelo2\"]=deltaXn_modelo\n",
    "datosT[\"Tem_lata_modelo2\"]=18-Xn_modelo"
   ]
  },
  {
   "cell_type": "code",
   "execution_count": 55,
   "metadata": {},
   "outputs": [
    {
     "data": {
      "text/html": [
       "<div>\n",
       "<style scoped>\n",
       "    .dataframe tbody tr th:only-of-type {\n",
       "        vertical-align: middle;\n",
       "    }\n",
       "\n",
       "    .dataframe tbody tr th {\n",
       "        vertical-align: top;\n",
       "    }\n",
       "\n",
       "    .dataframe thead th {\n",
       "        text-align: right;\n",
       "    }\n",
       "</style>\n",
       "<table border=\"1\" class=\"dataframe\">\n",
       "  <thead>\n",
       "    <tr style=\"text-align: right;\">\n",
       "      <th></th>\n",
       "      <th>temp</th>\n",
       "      <th>xn</th>\n",
       "      <th>delta</th>\n",
       "      <th>Xn_modelo</th>\n",
       "      <th>deltaXn_modelo</th>\n",
       "      <th>Tem_lata_modelo</th>\n",
       "      <th>Xn_modelo2</th>\n",
       "      <th>deltaXn_modelo2</th>\n",
       "      <th>Tem_lata_modelo2</th>\n",
       "    </tr>\n",
       "  </thead>\n",
       "  <tbody>\n",
       "    <tr>\n",
       "      <td>0</td>\n",
       "      <td>4.5</td>\n",
       "      <td>13.5</td>\n",
       "      <td>NaN</td>\n",
       "      <td>13.500000</td>\n",
       "      <td>-0.194243</td>\n",
       "      <td>4.500000</td>\n",
       "      <td>13.500000</td>\n",
       "      <td>-0.197894</td>\n",
       "      <td>4.500000</td>\n",
       "    </tr>\n",
       "    <tr>\n",
       "      <td>1</td>\n",
       "      <td>4.9</td>\n",
       "      <td>13.1</td>\n",
       "      <td>-0.4</td>\n",
       "      <td>13.305757</td>\n",
       "      <td>-0.191448</td>\n",
       "      <td>4.694243</td>\n",
       "      <td>13.302106</td>\n",
       "      <td>-0.194993</td>\n",
       "      <td>4.697894</td>\n",
       "    </tr>\n",
       "    <tr>\n",
       "      <td>2</td>\n",
       "      <td>5.1</td>\n",
       "      <td>12.9</td>\n",
       "      <td>-0.2</td>\n",
       "      <td>13.114309</td>\n",
       "      <td>-0.188694</td>\n",
       "      <td>4.885691</td>\n",
       "      <td>13.107114</td>\n",
       "      <td>-0.192134</td>\n",
       "      <td>4.892886</td>\n",
       "    </tr>\n",
       "    <tr>\n",
       "      <td>3</td>\n",
       "      <td>5.3</td>\n",
       "      <td>12.7</td>\n",
       "      <td>-0.2</td>\n",
       "      <td>12.925615</td>\n",
       "      <td>-0.185979</td>\n",
       "      <td>5.074385</td>\n",
       "      <td>12.914979</td>\n",
       "      <td>-0.189318</td>\n",
       "      <td>5.085021</td>\n",
       "    </tr>\n",
       "    <tr>\n",
       "      <td>4</td>\n",
       "      <td>5.5</td>\n",
       "      <td>12.5</td>\n",
       "      <td>-0.2</td>\n",
       "      <td>12.739637</td>\n",
       "      <td>-0.183303</td>\n",
       "      <td>5.260363</td>\n",
       "      <td>12.725662</td>\n",
       "      <td>-0.186543</td>\n",
       "      <td>5.274338</td>\n",
       "    </tr>\n",
       "  </tbody>\n",
       "</table>\n",
       "</div>"
      ],
      "text/plain": [
       "   temp    xn  delta  Xn_modelo  deltaXn_modelo  Tem_lata_modelo  Xn_modelo2  \\\n",
       "0   4.5  13.5    NaN  13.500000       -0.194243         4.500000   13.500000   \n",
       "1   4.9  13.1   -0.4  13.305757       -0.191448         4.694243   13.302106   \n",
       "2   5.1  12.9   -0.2  13.114309       -0.188694         4.885691   13.107114   \n",
       "3   5.3  12.7   -0.2  12.925615       -0.185979         5.074385   12.914979   \n",
       "4   5.5  12.5   -0.2  12.739637       -0.183303         5.260363   12.725662   \n",
       "\n",
       "   deltaXn_modelo2  Tem_lata_modelo2  \n",
       "0        -0.197894          4.500000  \n",
       "1        -0.194993          4.697894  \n",
       "2        -0.192134          4.892886  \n",
       "3        -0.189318          5.085021  \n",
       "4        -0.186543          5.274338  "
      ]
     },
     "execution_count": 55,
     "metadata": {},
     "output_type": "execute_result"
    }
   ],
   "source": [
    "datosT.head()"
   ]
  },
  {
   "cell_type": "code",
   "execution_count": 56,
   "metadata": {},
   "outputs": [
    {
     "data": {
      "text/plain": [
       "[<matplotlib.lines.Line2D at 0x23ff2f4e9c8>]"
      ]
     },
     "execution_count": 56,
     "metadata": {},
     "output_type": "execute_result"
    },
    {
     "data": {
      "image/png": "[encoded data removed]",
      "text/plain": [
       "<Figure size 432x288 with 1 Axes>"
      ]
     },
     "metadata": {
      "needs_background": "light"
     },
     "output_type": "display_data"
    }
   ],
   "source": [
    "plt.plot(n,datosT[\"temp\"],\"ro\")\n",
    "plt.plot(n,datosT[\"Tem_lata_modelo\"],\"bo\")\n",
    "plt.plot(n,datosT[\"Tem_lata_modelo2\"],\"ko\")"
   ]
  },
  {
   "cell_type": "code",
   "execution_count": 61,
   "metadata": {},
   "outputs": [
    {
     "name": "stdout",
     "output_type": "stream",
     "text": [
      "0.2359225522143977\n",
      "0.2256615238725903\n"
     ]
    }
   ],
   "source": [
    "sce2=sum((datosT[\"temp\"]-datosT[\"Tem_lata_modelo2\"])**2)\n",
    "print(sce2)\n",
    "mad2=np.max(np.abs(datosT[\"temp\"]-datosT[\"Tem_lata_modelo2\"]))\n",
    "print(mad2)"
   ]
  },
  {
   "cell_type": "code",
   "execution_count": 62,
   "metadata": {},
   "outputs": [
    {
     "name": "stdout",
     "output_type": "stream",
     "text": [
      "0.290330392489619 0.2359225522143977\n",
      "0.2396367071077492 0.2256615238725903\n"
     ]
    }
   ],
   "source": [
    "print(sce1,sce2)\n",
    "print(mad1,mad2)"
   ]
  },
  {
   "cell_type": "markdown",
   "metadata": {
    "collapsed": true
   },
   "source": [
    "$$\\Delta_{X_{n-1}}=k*X_{n-1}$$\n",
    "$$ minimizar\\ z=\\max\\limits_{n=1,\\cdots,N}\\{|\\Delta_{X_{n-1}}-\\hat{k}*X_{n-1}|\\}$$"
   ]
  },
  {
   "cell_type": "code",
   "execution_count": null,
   "metadata": {},
   "outputs": [],
   "source": []
  }
 ],
 "metadata": {
  "kernelspec": {
   "display_name": "Python 3",
   "language": "python",
   "name": "python3"
  },
  "language_info": {
   "codemirror_mode": {
    "name": "ipython",
    "version": 3
   },
   "file_extension": ".py",
   "mimetype": "text/x-python",
   "name": "python",
   "nbconvert_exporter": "python",
   "pygments_lexer": "ipython3",
   "version": "3.7.4"
  }
 },
 "nbformat": 4,
 "nbformat_minor": 2
}
