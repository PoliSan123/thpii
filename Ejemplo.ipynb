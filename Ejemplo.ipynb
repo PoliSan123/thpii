{
 "cells": [
  {
   "cell_type": "code",
   "execution_count": 1,
   "metadata": {},
   "outputs": [],
   "source": [
    "import numpy as np\n",
    "import pandas as pd\n",
    "import matplotlib.pyplot as plp"
   ]
  },
  {
   "cell_type": "markdown",
   "metadata": {},
   "source": [
    "### Enunciado"
   ]
  },
  {
   "cell_type": "markdown",
   "metadata": {},
   "source": [
    "Obtener del sitio web del DANE (http://www.dane.gov.co/) la estimación de la población de Colombia para el año 2017 por municipios y del sitio de Datos Abiertos de Colombia (https://www.datos.gov.co/) los datos del Directorio de la Red Nacional de Bibliotecas Públicas . Realizar los siguientes procedimientos y análisis:\n",
    "<ol>\n",
    "    <li> Organizar cada tabla en una hoja de Excel de Microsoft, una para cada grupo de datos, leer los datos y guardarlos en dos Data Frame distintos usando Pandas de Python. </li>\n",
    "    <li> Crear un nuevo Data Frame a partir de los dos creados en el punto anterior con un registro por cada municipio, y con las columnas de Nombre (Nombre del Municipio), Departamento (Departamento del municipio), Población (Población proyectada para el año 2017) y número de bibliotecas abiertas </li>\n",
    "    <li> Crear una tabla de frecuencia utilizando los rangos definidos de acuerdo al número de Bibliotecas abiertas en el municipio (Cada pareja de estudiantes debe definir el número de rangos entre 4 y 6 categorías). Realizar un diagrama de barras usando esta tabla de frecuencias.</li>    \n",
    "    <li> Clasificar los municipios de acuerdo al tamaño de su población en 5 categorías (es libre la definición de los rangos). Agregar una columna al Data Frame creado en el punto dos con esta clasificación. Usando este último Data Frame, calcular la media, desviación estándar, primer y tercer cuartil del del número de Bibliotecas por cada una de las clasificaciones de los municipios acordes al tamaño de la población.</li>\n",
    "    <li>Que conclusiones puede deducir entre la relación del del número de Bibliotecas y el tamaño de los municipios a partir de los resultados del punto anterior.</li>\n",
    "</ol>"
   ]
  },
  {
   "cell_type": "markdown",
   "metadata": {},
   "source": [
    "### Respuesta"
   ]
  },
  {
   "cell_type": "markdown",
   "metadata": {},
   "source": [
    "#### 1. Se obtuvo del sitio web del DANE (http://www.dane.gov.co/) la estimación de la población de Colombia para el año 2017 por municipios y del sitio de Datos Abiertos de Colombia (https://www.datos.gov.co/) los datos del Directorio de la Red Nacional de Bibliotecas Públicas. \n",
    "\n",
    "#### Organizar cada tabla en una hoja de Excel de Microsoft, una para cada grupo de datos, leer los datos y guardarlos en dos Data Frame distintos usando Pandas de Python. Se organizaron las tablas en Excel, estas dos tablas se leen y acontinuación se muestran los tamaños de los Data Frames resultantes y los primeros 10 registros de cada *DataFrame*"
   ]
  },
  {
   "cell_type": "code",
   "execution_count": 2,
   "metadata": {},
   "outputs": [
    {
     "name": "stdout",
     "output_type": "stream",
     "text": [
      "(1122, 4)\n",
      "(1455, 9)\n"
     ]
    }
   ],
   "source": [
    "poblacion=pd.read_excel(\"poblacion2017.xlsx\",index=True)\n",
    "bibliotecas=pd.read_excel(\"bibliotecas.xlsx\",index=True)\n",
    "print(poblacion.shape)\n",
    "print(bibliotecas.shape)"
   ]
  },
  {
   "cell_type": "markdown",
   "metadata": {},
   "source": [
    "#### Para la tabla población se definieron cuatro columnas: departamento, código del municipio, nombre del municipio y tamaño de la población"
   ]
  },
  {
   "cell_type": "code",
   "execution_count": 3,
   "metadata": {},
   "outputs": [
    {
     "data": {
      "text/html": [
       "<div>\n",
       "<style scoped>\n",
       "    .dataframe tbody tr th:only-of-type {\n",
       "        vertical-align: middle;\n",
       "    }\n",
       "\n",
       "    .dataframe tbody tr th {\n",
       "        vertical-align: top;\n",
       "    }\n",
       "\n",
       "    .dataframe thead th {\n",
       "        text-align: right;\n",
       "    }\n",
       "</style>\n",
       "<table border=\"1\" class=\"dataframe\">\n",
       "  <thead>\n",
       "    <tr style=\"text-align: right;\">\n",
       "      <th></th>\n",
       "      <th>Departamento</th>\n",
       "      <th>Codigo</th>\n",
       "      <th>Municipio</th>\n",
       "      <th>Poblacion</th>\n",
       "    </tr>\n",
       "  </thead>\n",
       "  <tbody>\n",
       "    <tr>\n",
       "      <th>0</th>\n",
       "      <td>Antioquia</td>\n",
       "      <td>5001</td>\n",
       "      <td>Medellín</td>\n",
       "      <td>2508452</td>\n",
       "    </tr>\n",
       "    <tr>\n",
       "      <th>1</th>\n",
       "      <td>Antioquia</td>\n",
       "      <td>5002</td>\n",
       "      <td>Abejorral</td>\n",
       "      <td>19096</td>\n",
       "    </tr>\n",
       "    <tr>\n",
       "      <th>2</th>\n",
       "      <td>Antioquia</td>\n",
       "      <td>5004</td>\n",
       "      <td>Abriaquí</td>\n",
       "      <td>2019</td>\n",
       "    </tr>\n",
       "    <tr>\n",
       "      <th>3</th>\n",
       "      <td>Antioquia</td>\n",
       "      <td>5021</td>\n",
       "      <td>Alejandría</td>\n",
       "      <td>3393</td>\n",
       "    </tr>\n",
       "    <tr>\n",
       "      <th>4</th>\n",
       "      <td>Antioquia</td>\n",
       "      <td>5030</td>\n",
       "      <td>Amagá</td>\n",
       "      <td>29980</td>\n",
       "    </tr>\n",
       "    <tr>\n",
       "      <th>5</th>\n",
       "      <td>Antioquia</td>\n",
       "      <td>5031</td>\n",
       "      <td>Amalfi</td>\n",
       "      <td>22414</td>\n",
       "    </tr>\n",
       "    <tr>\n",
       "      <th>6</th>\n",
       "      <td>Antioquia</td>\n",
       "      <td>5034</td>\n",
       "      <td>Andes</td>\n",
       "      <td>46621</td>\n",
       "    </tr>\n",
       "    <tr>\n",
       "      <th>7</th>\n",
       "      <td>Antioquia</td>\n",
       "      <td>5036</td>\n",
       "      <td>Angelópolis</td>\n",
       "      <td>9216</td>\n",
       "    </tr>\n",
       "    <tr>\n",
       "      <th>8</th>\n",
       "      <td>Antioquia</td>\n",
       "      <td>5038</td>\n",
       "      <td>Angostura</td>\n",
       "      <td>11139</td>\n",
       "    </tr>\n",
       "    <tr>\n",
       "      <th>9</th>\n",
       "      <td>Antioquia</td>\n",
       "      <td>5040</td>\n",
       "      <td>Anorí</td>\n",
       "      <td>17521</td>\n",
       "    </tr>\n",
       "  </tbody>\n",
       "</table>\n",
       "</div>"
      ],
      "text/plain": [
       "  Departamento  Codigo    Municipio  Poblacion\n",
       "0    Antioquia    5001     Medellín    2508452\n",
       "1    Antioquia    5002    Abejorral      19096\n",
       "2    Antioquia    5004     Abriaquí       2019\n",
       "3    Antioquia    5021   Alejandría       3393\n",
       "4    Antioquia    5030        Amagá      29980\n",
       "5    Antioquia    5031       Amalfi      22414\n",
       "6    Antioquia    5034        Andes      46621\n",
       "7    Antioquia    5036  Angelópolis       9216\n",
       "8    Antioquia    5038    Angostura      11139\n",
       "9    Antioquia    5040        Anorí      17521"
      ]
     },
     "execution_count": 3,
     "metadata": {},
     "output_type": "execute_result"
    }
   ],
   "source": [
    "poblacion.head(10)"
   ]
  },
  {
   "cell_type": "markdown",
   "metadata": {},
   "source": [
    "#### En la tabla para las bibliotecas se definieron las columnas código del municipio, departamento, nombre del municipio, nombre del centro poblado, tipo de biblioteca, nombre, estado y georeferenciación"
   ]
  },
  {
   "cell_type": "code",
   "execution_count": 4,
   "metadata": {},
   "outputs": [
    {
     "data": {
      "text/html": [
       "<div>\n",
       "<style scoped>\n",
       "    .dataframe tbody tr th:only-of-type {\n",
       "        vertical-align: middle;\n",
       "    }\n",
       "\n",
       "    .dataframe tbody tr th {\n",
       "        vertical-align: top;\n",
       "    }\n",
       "\n",
       "    .dataframe thead th {\n",
       "        text-align: right;\n",
       "    }\n",
       "</style>\n",
       "<table border=\"1\" class=\"dataframe\">\n",
       "  <thead>\n",
       "    <tr style=\"text-align: right;\">\n",
       "      <th></th>\n",
       "      <th>Codigo</th>\n",
       "      <th>Departamento</th>\n",
       "      <th>Municipio</th>\n",
       "      <th>CentroPoblado</th>\n",
       "      <th>Naturaleza</th>\n",
       "      <th>Tipo</th>\n",
       "      <th>Nombre</th>\n",
       "      <th>Estado</th>\n",
       "      <th>Georeferencia</th>\n",
       "    </tr>\n",
       "  </thead>\n",
       "  <tbody>\n",
       "    <tr>\n",
       "      <th>0</th>\n",
       "      <td>91001000</td>\n",
       "      <td>AMAZONAS</td>\n",
       "      <td>LETICIA</td>\n",
       "      <td>LETICIA</td>\n",
       "      <td>ESTATAL</td>\n",
       "      <td>MUNICIPAL</td>\n",
       "      <td>BIBLIOTECA PÚBLICA MUNICIPAL DE LETICIA</td>\n",
       "      <td>ABIERTA</td>\n",
       "      <td>(-4.2031650°,-69.9359070°)</td>\n",
       "    </tr>\n",
       "    <tr>\n",
       "      <th>1</th>\n",
       "      <td>91530000</td>\n",
       "      <td>AMAZONAS</td>\n",
       "      <td>PUERTO ALEGRIA</td>\n",
       "      <td>PUERTO ALEGRÍA</td>\n",
       "      <td>ESTATAL</td>\n",
       "      <td>RURAL</td>\n",
       "      <td>BIBLIOTECA PÚBLICA DE PUERTO ALEGRIA</td>\n",
       "      <td>ABIERTA</td>\n",
       "      <td>(-1.0056436°,-74.0157723°)</td>\n",
       "    </tr>\n",
       "    <tr>\n",
       "      <th>2</th>\n",
       "      <td>91540000</td>\n",
       "      <td>AMAZONAS</td>\n",
       "      <td>PUERTO NARIÑO</td>\n",
       "      <td>PUERTO NARIÑO</td>\n",
       "      <td>ESTATAL</td>\n",
       "      <td>MUNICIPAL</td>\n",
       "      <td>BIBLIOTECA PÚBLICA MUNICIPAL POPERAPATA</td>\n",
       "      <td>ABIERTA</td>\n",
       "      <td>(-3.7733333°,-70.3819444°)</td>\n",
       "    </tr>\n",
       "    <tr>\n",
       "      <th>3</th>\n",
       "      <td>5002000</td>\n",
       "      <td>ANTIOQUIA</td>\n",
       "      <td>ABEJORRAL</td>\n",
       "      <td>ABEJORRAL</td>\n",
       "      <td>ESTATAL</td>\n",
       "      <td>MUNICIPAL</td>\n",
       "      <td>BIBLIOTECA PÚBLICA MUNICIPAL DE ABEJORRAL \"JAI...</td>\n",
       "      <td>ABIERTA</td>\n",
       "      <td>(5.7916768°,-75.4282028°)</td>\n",
       "    </tr>\n",
       "    <tr>\n",
       "      <th>4</th>\n",
       "      <td>5004000</td>\n",
       "      <td>ANTIOQUIA</td>\n",
       "      <td>ABRIAQUI</td>\n",
       "      <td>ABRIAQUÍ</td>\n",
       "      <td>ESTATAL</td>\n",
       "      <td>MUNICIPAL</td>\n",
       "      <td>BIBLIOTECA PÚBLICA MUNICIPAL DAVID CASTRO LÓPEZ</td>\n",
       "      <td>ABIERTA</td>\n",
       "      <td>(6.8867393°,-75.3351273°)</td>\n",
       "    </tr>\n",
       "    <tr>\n",
       "      <th>5</th>\n",
       "      <td>5021000</td>\n",
       "      <td>ANTIOQUIA</td>\n",
       "      <td>ALEJANDRIA</td>\n",
       "      <td>ALEJANDRÍA</td>\n",
       "      <td>ESTATAL</td>\n",
       "      <td>MUNICIPAL</td>\n",
       "      <td>BIBLIOTECA PÚBLICA ALEJANDRO OSORIO CASA DE LA...</td>\n",
       "      <td>ABIERTA</td>\n",
       "      <td>(6.3770122°,-75.1403026°)</td>\n",
       "    </tr>\n",
       "    <tr>\n",
       "      <th>6</th>\n",
       "      <td>5030000</td>\n",
       "      <td>ANTIOQUIA</td>\n",
       "      <td>AMAGA</td>\n",
       "      <td>AMAGÁ</td>\n",
       "      <td>ESTATAL</td>\n",
       "      <td>MUNICIPAL</td>\n",
       "      <td>BIBLIOTECA PÙBLICA  MUNICIPAL \"EMIRO KASTOS\"</td>\n",
       "      <td>ABIERTA</td>\n",
       "      <td>(6.0398343°,-75.7040737°)</td>\n",
       "    </tr>\n",
       "    <tr>\n",
       "      <th>7</th>\n",
       "      <td>5031000</td>\n",
       "      <td>ANTIOQUIA</td>\n",
       "      <td>AMALFI</td>\n",
       "      <td>AMALFI</td>\n",
       "      <td>ESTATAL</td>\n",
       "      <td>MUNICIPAL</td>\n",
       "      <td>BIBLIOTECA PÚBLICA MUNICIPAL DE AMALFI</td>\n",
       "      <td>ABIERTA</td>\n",
       "      <td>(6.9079500°,-75.0761500°)</td>\n",
       "    </tr>\n",
       "    <tr>\n",
       "      <th>8</th>\n",
       "      <td>5034000</td>\n",
       "      <td>ANTIOQUIA</td>\n",
       "      <td>ANDES</td>\n",
       "      <td>ANDES</td>\n",
       "      <td>ESTATAL</td>\n",
       "      <td>MUNICIPAL</td>\n",
       "      <td>BIBLIOTECA PÚBLICA GONZALO ARANGO ARIAS</td>\n",
       "      <td>ABIERTA</td>\n",
       "      <td>(5.6581043°,-75.8775382°)</td>\n",
       "    </tr>\n",
       "    <tr>\n",
       "      <th>9</th>\n",
       "      <td>5036000</td>\n",
       "      <td>ANTIOQUIA</td>\n",
       "      <td>ANGELOPOLIS</td>\n",
       "      <td>ANGELÓPOLIS</td>\n",
       "      <td>ESTATAL</td>\n",
       "      <td>MUNICIPAL</td>\n",
       "      <td>BIBLIOTECA PÚBLICA MUNICIPAL ERNESTO BETANCUR</td>\n",
       "      <td>ABIERTA</td>\n",
       "      <td>(6.1096610°,-75.7118080°)</td>\n",
       "    </tr>\n",
       "  </tbody>\n",
       "</table>\n",
       "</div>"
      ],
      "text/plain": [
       "     Codigo Departamento       Municipio   CentroPoblado Naturaleza  \\\n",
       "0  91001000     AMAZONAS         LETICIA         LETICIA    ESTATAL   \n",
       "1  91530000     AMAZONAS  PUERTO ALEGRIA  PUERTO ALEGRÍA    ESTATAL   \n",
       "2  91540000     AMAZONAS   PUERTO NARIÑO   PUERTO NARIÑO    ESTATAL   \n",
       "3   5002000    ANTIOQUIA       ABEJORRAL       ABEJORRAL    ESTATAL   \n",
       "4   5004000    ANTIOQUIA        ABRIAQUI        ABRIAQUÍ    ESTATAL   \n",
       "5   5021000    ANTIOQUIA      ALEJANDRIA      ALEJANDRÍA    ESTATAL   \n",
       "6   5030000    ANTIOQUIA           AMAGA           AMAGÁ    ESTATAL   \n",
       "7   5031000    ANTIOQUIA          AMALFI          AMALFI    ESTATAL   \n",
       "8   5034000    ANTIOQUIA           ANDES           ANDES    ESTATAL   \n",
       "9   5036000    ANTIOQUIA     ANGELOPOLIS     ANGELÓPOLIS    ESTATAL   \n",
       "\n",
       "        Tipo                                             Nombre   Estado  \\\n",
       "0  MUNICIPAL            BIBLIOTECA PÚBLICA MUNICIPAL DE LETICIA  ABIERTA   \n",
       "1      RURAL               BIBLIOTECA PÚBLICA DE PUERTO ALEGRIA  ABIERTA   \n",
       "2  MUNICIPAL            BIBLIOTECA PÚBLICA MUNICIPAL POPERAPATA  ABIERTA   \n",
       "3  MUNICIPAL  BIBLIOTECA PÚBLICA MUNICIPAL DE ABEJORRAL \"JAI...  ABIERTA   \n",
       "4  MUNICIPAL    BIBLIOTECA PÚBLICA MUNICIPAL DAVID CASTRO LÓPEZ  ABIERTA   \n",
       "5  MUNICIPAL  BIBLIOTECA PÚBLICA ALEJANDRO OSORIO CASA DE LA...  ABIERTA   \n",
       "6  MUNICIPAL       BIBLIOTECA PÙBLICA  MUNICIPAL \"EMIRO KASTOS\"  ABIERTA   \n",
       "7  MUNICIPAL             BIBLIOTECA PÚBLICA MUNICIPAL DE AMALFI  ABIERTA   \n",
       "8  MUNICIPAL            BIBLIOTECA PÚBLICA GONZALO ARANGO ARIAS  ABIERTA   \n",
       "9  MUNICIPAL      BIBLIOTECA PÚBLICA MUNICIPAL ERNESTO BETANCUR  ABIERTA   \n",
       "\n",
       "                Georeferencia  \n",
       "0  (-4.2031650°,-69.9359070°)  \n",
       "1  (-1.0056436°,-74.0157723°)  \n",
       "2  (-3.7733333°,-70.3819444°)  \n",
       "3   (5.7916768°,-75.4282028°)  \n",
       "4   (6.8867393°,-75.3351273°)  \n",
       "5   (6.3770122°,-75.1403026°)  \n",
       "6   (6.0398343°,-75.7040737°)  \n",
       "7   (6.9079500°,-75.0761500°)  \n",
       "8   (5.6581043°,-75.8775382°)  \n",
       "9   (6.1096610°,-75.7118080°)  "
      ]
     },
     "execution_count": 4,
     "metadata": {},
     "output_type": "execute_result"
    }
   ],
   "source": [
    "bibliotecas.head(10)"
   ]
  },
  {
   "cell_type": "markdown",
   "metadata": {},
   "source": [
    "#### 2. Crear un nuevo Data Frame a partir de los dos creados en el punto anterior con un registro por cada municipio, y con las columnas de Nombre (Nombre del Municipio), Departamento (Departamento del municipio), Población (Población proyectada para el año 2017) y número de bibliotecas abiertas (20 puntos)\n",
    "\n",
    "#### Se utilizó el código del municipio para realizar el conteo de las bibliotecas por municipio y luego se agregó las columnas pedidas."
   ]
  },
  {
   "cell_type": "code",
   "execution_count": 5,
   "metadata": {},
   "outputs": [],
   "source": [
    "def extraerCodigo(codigoPrueba2):\n",
    "    texto=\"\"\n",
    "    if(len(str(codigoPrueba2))==7):\n",
    "        texto= str(codigoPrueba2)[:4]\n",
    "    else:    \n",
    "        texto= str(codigoPrueba2)[:5]\n",
    "    return texto    "
   ]
  },
  {
   "cell_type": "code",
   "execution_count": 6,
   "metadata": {},
   "outputs": [],
   "source": [
    "bibliotecas[\"NCodigo\"]=bibliotecas[\"Codigo\"].apply(lambda x: extraerCodigo(x))"
   ]
  },
  {
   "cell_type": "code",
   "execution_count": 7,
   "metadata": {},
   "outputs": [],
   "source": [
    "bibliotecasCodigo=bibliotecas[bibliotecas[\"Estado\"]==\"ABIERTA\"].groupby(\"NCodigo\").count()"
   ]
  },
  {
   "cell_type": "code",
   "execution_count": 8,
   "metadata": {},
   "outputs": [],
   "source": [
    "codigoBiblioteca=[]\n",
    "departamentoBiblioteca=[]\n",
    "municipioBiblioteca=[]\n",
    "numeroBiblioteca=[]\n",
    "poblacionBiblioteca=[]\n",
    "for indice in bibliotecasCodigo.index:    \n",
    "    municipio=poblacion[poblacion.Codigo==int(indice)][[\"Municipio\",\"Poblacion\",\"Departamento\"]]    \n",
    "    if municipio.shape[0]>0:        \n",
    "        #print indice,\" \",municipio.values[0][0],\" \",municipio.values[0][1]\n",
    "        codigoBiblioteca.append(indice)\n",
    "        municipioBiblioteca.append(municipio.values[0][0])\n",
    "        poblacionBiblioteca.append(municipio.values[0][1])\n",
    "        numeroBiblioteca.append(bibliotecasCodigo.loc[indice][0])\n",
    "        departamentoBiblioteca.append(municipio.values[0][2])\n",
    "    else:\n",
    "        print(\"No encontrado \",indice)    "
   ]
  },
  {
   "cell_type": "code",
   "execution_count": 9,
   "metadata": {},
   "outputs": [],
   "source": [
    "datos1=pd.DataFrame({\"Codigo\":codigoBiblioteca,\"Municipio\":municipioBiblioteca,\n",
    "                    \"Departamento\":departamentoBiblioteca,\"Poblacion\":poblacionBiblioteca,\n",
    "                     \"Numero\":numeroBiblioteca})"
   ]
  },
  {
   "cell_type": "markdown",
   "metadata": {},
   "source": [
    "#### Se muestran las diez primeras filas para la nueva tabla creada y el tamaño de la nueva tabla"
   ]
  },
  {
   "cell_type": "code",
   "execution_count": 10,
   "metadata": {},
   "outputs": [
    {
     "data": {
      "text/html": [
       "<div>\n",
       "<style scoped>\n",
       "    .dataframe tbody tr th:only-of-type {\n",
       "        vertical-align: middle;\n",
       "    }\n",
       "\n",
       "    .dataframe tbody tr th {\n",
       "        vertical-align: top;\n",
       "    }\n",
       "\n",
       "    .dataframe thead th {\n",
       "        text-align: right;\n",
       "    }\n",
       "</style>\n",
       "<table border=\"1\" class=\"dataframe\">\n",
       "  <thead>\n",
       "    <tr style=\"text-align: right;\">\n",
       "      <th></th>\n",
       "      <th>Codigo</th>\n",
       "      <th>Municipio</th>\n",
       "      <th>Departamento</th>\n",
       "      <th>Poblacion</th>\n",
       "      <th>Numero</th>\n",
       "    </tr>\n",
       "  </thead>\n",
       "  <tbody>\n",
       "    <tr>\n",
       "      <th>0</th>\n",
       "      <td>11001</td>\n",
       "      <td>Bogotá, D.C.</td>\n",
       "      <td>Bogotá, D.C.</td>\n",
       "      <td>8080734</td>\n",
       "      <td>19</td>\n",
       "    </tr>\n",
       "    <tr>\n",
       "      <th>1</th>\n",
       "      <td>13001</td>\n",
       "      <td>Cartagena</td>\n",
       "      <td>Bolívar</td>\n",
       "      <td>1024882</td>\n",
       "      <td>17</td>\n",
       "    </tr>\n",
       "    <tr>\n",
       "      <th>2</th>\n",
       "      <td>13006</td>\n",
       "      <td>Achí</td>\n",
       "      <td>Bolívar</td>\n",
       "      <td>23851</td>\n",
       "      <td>1</td>\n",
       "    </tr>\n",
       "    <tr>\n",
       "      <th>3</th>\n",
       "      <td>13030</td>\n",
       "      <td>Altos del Rosario</td>\n",
       "      <td>Bolívar</td>\n",
       "      <td>14215</td>\n",
       "      <td>1</td>\n",
       "    </tr>\n",
       "    <tr>\n",
       "      <th>4</th>\n",
       "      <td>13042</td>\n",
       "      <td>Arenal</td>\n",
       "      <td>Bolívar</td>\n",
       "      <td>19743</td>\n",
       "      <td>1</td>\n",
       "    </tr>\n",
       "    <tr>\n",
       "      <th>5</th>\n",
       "      <td>13052</td>\n",
       "      <td>Arjona</td>\n",
       "      <td>Bolívar</td>\n",
       "      <td>75271</td>\n",
       "      <td>1</td>\n",
       "    </tr>\n",
       "    <tr>\n",
       "      <th>6</th>\n",
       "      <td>13062</td>\n",
       "      <td>Arroyohondo</td>\n",
       "      <td>Bolívar</td>\n",
       "      <td>10174</td>\n",
       "      <td>1</td>\n",
       "    </tr>\n",
       "    <tr>\n",
       "      <th>7</th>\n",
       "      <td>13074</td>\n",
       "      <td>Barranco de Loba</td>\n",
       "      <td>Bolívar</td>\n",
       "      <td>18426</td>\n",
       "      <td>1</td>\n",
       "    </tr>\n",
       "    <tr>\n",
       "      <th>8</th>\n",
       "      <td>13140</td>\n",
       "      <td>Calamar</td>\n",
       "      <td>Bolívar</td>\n",
       "      <td>23928</td>\n",
       "      <td>1</td>\n",
       "    </tr>\n",
       "    <tr>\n",
       "      <th>9</th>\n",
       "      <td>13160</td>\n",
       "      <td>Cantagallo</td>\n",
       "      <td>Bolívar</td>\n",
       "      <td>9556</td>\n",
       "      <td>1</td>\n",
       "    </tr>\n",
       "  </tbody>\n",
       "</table>\n",
       "</div>"
      ],
      "text/plain": [
       "  Codigo          Municipio  Departamento  Poblacion  Numero\n",
       "0  11001       Bogotá, D.C.  Bogotá, D.C.    8080734      19\n",
       "1  13001          Cartagena       Bolívar    1024882      17\n",
       "2  13006               Achí       Bolívar      23851       1\n",
       "3  13030  Altos del Rosario       Bolívar      14215       1\n",
       "4  13042             Arenal       Bolívar      19743       1\n",
       "5  13052             Arjona       Bolívar      75271       1\n",
       "6  13062        Arroyohondo       Bolívar      10174       1\n",
       "7  13074   Barranco de Loba       Bolívar      18426       1\n",
       "8  13140            Calamar       Bolívar      23928       1\n",
       "9  13160         Cantagallo       Bolívar       9556       1"
      ]
     },
     "execution_count": 10,
     "metadata": {},
     "output_type": "execute_result"
    }
   ],
   "source": [
    "datos1.head(10)"
   ]
  },
  {
   "cell_type": "code",
   "execution_count": 11,
   "metadata": {},
   "outputs": [
    {
     "data": {
      "text/plain": [
       "(1094, 5)"
      ]
     },
     "execution_count": 11,
     "metadata": {},
     "output_type": "execute_result"
    }
   ],
   "source": [
    "datos1.shape"
   ]
  },
  {
   "cell_type": "markdown",
   "metadata": {},
   "source": [
    "#### Se comprueba que hay 1099 registros diferentes y que la suma del número de bibliotecas es de 1455 igual al número de registros originales de la tabla bibliotecas."
   ]
  },
  {
   "cell_type": "markdown",
   "metadata": {},
   "source": [
    "#### 3. Crear una tabla de frecuencia utilizando los rangos definidos de acuerdo al número de Bibliotecas abiertas en el municipio (Cada pareja de estudiantes debe definir el número de rangos entre 4 y 6 categorías).  Realizar un diagrama de barras usando esta tabla de frecuencias. \n",
    "\n",
    "#### Para realizar la tabla de frecuencias se utilizan 5 categorías para el número de bibliotecas que se definen en el vector bins_limits"
   ]
  },
  {
   "cell_type": "code",
   "execution_count": 12,
   "metadata": {},
   "outputs": [
    {
     "name": "stderr",
     "output_type": "stream",
     "text": [
      "C:\\Users\\PORTATIL\\Anaconda3\\lib\\site-packages\\ipykernel_launcher.py:10: FutureWarning: from_items is deprecated. Please use DataFrame.from_dict(dict(items), ...) instead. DataFrame.from_dict(OrderedDict(items)) may be used to preserve the key order.\n",
      "  # Remove the CWD from sys.path while we load stuff.\n"
     ]
    }
   ],
   "source": [
    "bins_limits=[0,2,5,10,100]\n",
    "intervals_name=[]\n",
    "for i in range(len(bins_limits)-1):\n",
    "    lim_inf=bins_limits[i]\n",
    "    lim_sup=bins_limits[i+1]\n",
    "    label='['+str(lim_inf)+\",\"+str(lim_sup)+\")\"\n",
    "    intervals_name.append(label)\n",
    "Nbibliotecas=datos1['Numero']\n",
    "x_freq,x_bins=np.histogram(Nbibliotecas,bins_limits)\n",
    "dataFrameP3=pd.DataFrame.from_items([('Intervalos',intervals_name),('Frecuencia',x_freq)])"
   ]
  },
  {
   "cell_type": "markdown",
   "metadata": {},
   "source": [
    "#### A continuacion se muestra la tabla de frecuencias"
   ]
  },
  {
   "cell_type": "code",
   "execution_count": 13,
   "metadata": {},
   "outputs": [
    {
     "data": {
      "text/html": [
       "<div>\n",
       "<style scoped>\n",
       "    .dataframe tbody tr th:only-of-type {\n",
       "        vertical-align: middle;\n",
       "    }\n",
       "\n",
       "    .dataframe tbody tr th {\n",
       "        vertical-align: top;\n",
       "    }\n",
       "\n",
       "    .dataframe thead th {\n",
       "        text-align: right;\n",
       "    }\n",
       "</style>\n",
       "<table border=\"1\" class=\"dataframe\">\n",
       "  <thead>\n",
       "    <tr style=\"text-align: right;\">\n",
       "      <th></th>\n",
       "      <th>Intervalos</th>\n",
       "      <th>Frecuencia</th>\n",
       "    </tr>\n",
       "  </thead>\n",
       "  <tbody>\n",
       "    <tr>\n",
       "      <th>0</th>\n",
       "      <td>[0,2)</td>\n",
       "      <td>952</td>\n",
       "    </tr>\n",
       "    <tr>\n",
       "      <th>1</th>\n",
       "      <td>[2,5)</td>\n",
       "      <td>127</td>\n",
       "    </tr>\n",
       "    <tr>\n",
       "      <th>2</th>\n",
       "      <td>[5,10)</td>\n",
       "      <td>9</td>\n",
       "    </tr>\n",
       "    <tr>\n",
       "      <th>3</th>\n",
       "      <td>[10,100)</td>\n",
       "      <td>6</td>\n",
       "    </tr>\n",
       "  </tbody>\n",
       "</table>\n",
       "</div>"
      ],
      "text/plain": [
       "  Intervalos  Frecuencia\n",
       "0      [0,2)         952\n",
       "1      [2,5)         127\n",
       "2     [5,10)           9\n",
       "3   [10,100)           6"
      ]
     },
     "execution_count": 13,
     "metadata": {},
     "output_type": "execute_result"
    }
   ],
   "source": [
    "dataFrameP3"
   ]
  },
  {
   "cell_type": "markdown",
   "metadata": {},
   "source": [
    "#### Se comprueba que las frecuencias sumen en número de observaciones"
   ]
  },
  {
   "cell_type": "code",
   "execution_count": 14,
   "metadata": {},
   "outputs": [
    {
     "data": {
      "text/plain": [
       "Intervalos    [0,2)[2,5)[5,10)[10,100)\n",
       "Frecuencia                        1094\n",
       "dtype: object"
      ]
     },
     "execution_count": 14,
     "metadata": {},
     "output_type": "execute_result"
    }
   ],
   "source": [
    "dataFrameP3.sum()"
   ]
  },
  {
   "cell_type": "markdown",
   "metadata": {},
   "source": [
    "#### El diagrama de barras correspondiente es"
   ]
  },
  {
   "cell_type": "code",
   "execution_count": 15,
   "metadata": {},
   "outputs": [
    {
     "data": {
      "text/plain": [
       "<matplotlib.axes._subplots.AxesSubplot at 0x153effdbac8>"
      ]
     },
     "execution_count": 15,
     "metadata": {},
     "output_type": "execute_result"
    },
    {
     "data": {
      "image/png": "[encoded data removed]",
      "text/plain": [
       "<Figure size 432x288 with 1 Axes>"
      ]
     },
     "metadata": {
      "needs_background": "light"
     },
     "output_type": "display_data"
    }
   ],
   "source": [
    "%matplotlib inline\n",
    "dataFrameP3.plot.bar(x='Intervalos', y='Frecuencia', rot=0)"
   ]
  },
  {
   "cell_type": "markdown",
   "metadata": {},
   "source": [
    "#### 4. Clasificar los municipios de acuerdo al tamaño de su población en 5 categorías (es libre la definición de los rangos). Agregar una columna al Data Frame creado en el punto dos con esta clasificación. Usando este último Data Frame,  calcular la media, desviación estándar, primer y tercer cuartil del del número de Bibliotecas por cada una de las clasificaciones de los municipios acordes al tamaño de la población.\n",
    "\n",
    "#### Se clasífican los municipios es 5 categorías de 0-5 000, 5 000-10 000, 10 000-100 000, 100 000-1 000 000 y de 1 000 000 - 9 000 000 habitantes"
   ]
  },
  {
   "cell_type": "code",
   "execution_count": 16,
   "metadata": {},
   "outputs": [],
   "source": [
    "lim1=0\n",
    "lim2=5001\n",
    "lim3=10001\n",
    "lim4=100001\n",
    "lim5=1000001\n",
    "lim6=10000001\n",
    "\n",
    "datos1[\"categoria\"]=np.zeros(datos1.shape[0]).tolist()\n",
    "datos1.loc[(datos1.Poblacion>lim1)&(datos1.Poblacion<=lim2),[\"categoria\"]]=1\n",
    "datos1.loc[(datos1.Poblacion>lim2)&(datos1.Poblacion<=lim3),[\"categoria\"]]=2\n",
    "datos1.loc[(datos1.Poblacion>lim3)&(datos1.Poblacion<=lim4),[\"categoria\"]]=3\n",
    "datos1.loc[(datos1.Poblacion>lim4)&(datos1.Poblacion<=lim5),[\"categoria\"]]=4\n",
    "datos1.loc[(datos1.Poblacion>lim5)&(datos1.Poblacion<=lim6),[\"categoria\"]]=5"
   ]
  },
  {
   "cell_type": "markdown",
   "metadata": {},
   "source": [
    "#### Se muestran las primeras filas de tabla modificada"
   ]
  },
  {
   "cell_type": "code",
   "execution_count": 17,
   "metadata": {},
   "outputs": [
    {
     "data": {
      "text/html": [
       "<div>\n",
       "<style scoped>\n",
       "    .dataframe tbody tr th:only-of-type {\n",
       "        vertical-align: middle;\n",
       "    }\n",
       "\n",
       "    .dataframe tbody tr th {\n",
       "        vertical-align: top;\n",
       "    }\n",
       "\n",
       "    .dataframe thead th {\n",
       "        text-align: right;\n",
       "    }\n",
       "</style>\n",
       "<table border=\"1\" class=\"dataframe\">\n",
       "  <thead>\n",
       "    <tr style=\"text-align: right;\">\n",
       "      <th></th>\n",
       "      <th>Codigo</th>\n",
       "      <th>Municipio</th>\n",
       "      <th>Departamento</th>\n",
       "      <th>Poblacion</th>\n",
       "      <th>Numero</th>\n",
       "      <th>categoria</th>\n",
       "    </tr>\n",
       "  </thead>\n",
       "  <tbody>\n",
       "    <tr>\n",
       "      <th>0</th>\n",
       "      <td>11001</td>\n",
       "      <td>Bogotá, D.C.</td>\n",
       "      <td>Bogotá, D.C.</td>\n",
       "      <td>8080734</td>\n",
       "      <td>19</td>\n",
       "      <td>5.0</td>\n",
       "    </tr>\n",
       "    <tr>\n",
       "      <th>1</th>\n",
       "      <td>13001</td>\n",
       "      <td>Cartagena</td>\n",
       "      <td>Bolívar</td>\n",
       "      <td>1024882</td>\n",
       "      <td>17</td>\n",
       "      <td>5.0</td>\n",
       "    </tr>\n",
       "    <tr>\n",
       "      <th>2</th>\n",
       "      <td>13006</td>\n",
       "      <td>Achí</td>\n",
       "      <td>Bolívar</td>\n",
       "      <td>23851</td>\n",
       "      <td>1</td>\n",
       "      <td>3.0</td>\n",
       "    </tr>\n",
       "    <tr>\n",
       "      <th>3</th>\n",
       "      <td>13030</td>\n",
       "      <td>Altos del Rosario</td>\n",
       "      <td>Bolívar</td>\n",
       "      <td>14215</td>\n",
       "      <td>1</td>\n",
       "      <td>3.0</td>\n",
       "    </tr>\n",
       "    <tr>\n",
       "      <th>4</th>\n",
       "      <td>13042</td>\n",
       "      <td>Arenal</td>\n",
       "      <td>Bolívar</td>\n",
       "      <td>19743</td>\n",
       "      <td>1</td>\n",
       "      <td>3.0</td>\n",
       "    </tr>\n",
       "  </tbody>\n",
       "</table>\n",
       "</div>"
      ],
      "text/plain": [
       "  Codigo          Municipio  Departamento  Poblacion  Numero  categoria\n",
       "0  11001       Bogotá, D.C.  Bogotá, D.C.    8080734      19        5.0\n",
       "1  13001          Cartagena       Bolívar    1024882      17        5.0\n",
       "2  13006               Achí       Bolívar      23851       1        3.0\n",
       "3  13030  Altos del Rosario       Bolívar      14215       1        3.0\n",
       "4  13042             Arenal       Bolívar      19743       1        3.0"
      ]
     },
     "execution_count": 17,
     "metadata": {},
     "output_type": "execute_result"
    }
   ],
   "source": [
    "datos1.head()"
   ]
  },
  {
   "cell_type": "markdown",
   "metadata": {},
   "source": [
    "#### Se calcula la media, desviación estándar, primer y tercer cuartil por categoria"
   ]
  },
  {
   "cell_type": "code",
   "execution_count": 18,
   "metadata": {},
   "outputs": [
    {
     "data": {
      "text/html": [
       "<div>\n",
       "<style scoped>\n",
       "    .dataframe tbody tr th:only-of-type {\n",
       "        vertical-align: middle;\n",
       "    }\n",
       "\n",
       "    .dataframe tbody tr th {\n",
       "        vertical-align: top;\n",
       "    }\n",
       "\n",
       "    .dataframe thead th {\n",
       "        text-align: right;\n",
       "    }\n",
       "</style>\n",
       "<table border=\"1\" class=\"dataframe\">\n",
       "  <thead>\n",
       "    <tr style=\"text-align: right;\">\n",
       "      <th></th>\n",
       "      <th>count</th>\n",
       "      <th>mean</th>\n",
       "      <th>std</th>\n",
       "      <th>min</th>\n",
       "      <th>25%</th>\n",
       "      <th>50%</th>\n",
       "      <th>75%</th>\n",
       "      <th>max</th>\n",
       "    </tr>\n",
       "    <tr>\n",
       "      <th>categoria</th>\n",
       "      <th></th>\n",
       "      <th></th>\n",
       "      <th></th>\n",
       "      <th></th>\n",
       "      <th></th>\n",
       "      <th></th>\n",
       "      <th></th>\n",
       "      <th></th>\n",
       "    </tr>\n",
       "  </thead>\n",
       "  <tbody>\n",
       "    <tr>\n",
       "      <th>1.0</th>\n",
       "      <td>166.0</td>\n",
       "      <td>1.030120</td>\n",
       "      <td>0.171436</td>\n",
       "      <td>1.0</td>\n",
       "      <td>1.0</td>\n",
       "      <td>1.0</td>\n",
       "      <td>1.0</td>\n",
       "      <td>2.0</td>\n",
       "    </tr>\n",
       "    <tr>\n",
       "      <th>2.0</th>\n",
       "      <td>251.0</td>\n",
       "      <td>1.051793</td>\n",
       "      <td>0.222051</td>\n",
       "      <td>1.0</td>\n",
       "      <td>1.0</td>\n",
       "      <td>1.0</td>\n",
       "      <td>1.0</td>\n",
       "      <td>2.0</td>\n",
       "    </tr>\n",
       "    <tr>\n",
       "      <th>3.0</th>\n",
       "      <td>615.0</td>\n",
       "      <td>1.186992</td>\n",
       "      <td>0.534625</td>\n",
       "      <td>1.0</td>\n",
       "      <td>1.0</td>\n",
       "      <td>1.0</td>\n",
       "      <td>1.0</td>\n",
       "      <td>5.0</td>\n",
       "    </tr>\n",
       "    <tr>\n",
       "      <th>4.0</th>\n",
       "      <td>57.0</td>\n",
       "      <td>2.578947</td>\n",
       "      <td>2.764232</td>\n",
       "      <td>1.0</td>\n",
       "      <td>1.0</td>\n",
       "      <td>2.0</td>\n",
       "      <td>3.0</td>\n",
       "      <td>17.0</td>\n",
       "    </tr>\n",
       "    <tr>\n",
       "      <th>5.0</th>\n",
       "      <td>5.0</td>\n",
       "      <td>26.000000</td>\n",
       "      <td>19.467922</td>\n",
       "      <td>6.0</td>\n",
       "      <td>17.0</td>\n",
       "      <td>19.0</td>\n",
       "      <td>31.0</td>\n",
       "      <td>57.0</td>\n",
       "    </tr>\n",
       "  </tbody>\n",
       "</table>\n",
       "</div>"
      ],
      "text/plain": [
       "           count       mean        std  min   25%   50%   75%   max\n",
       "categoria                                                          \n",
       "1.0        166.0   1.030120   0.171436  1.0   1.0   1.0   1.0   2.0\n",
       "2.0        251.0   1.051793   0.222051  1.0   1.0   1.0   1.0   2.0\n",
       "3.0        615.0   1.186992   0.534625  1.0   1.0   1.0   1.0   5.0\n",
       "4.0         57.0   2.578947   2.764232  1.0   1.0   2.0   3.0  17.0\n",
       "5.0          5.0  26.000000  19.467922  6.0  17.0  19.0  31.0  57.0"
      ]
     },
     "execution_count": 18,
     "metadata": {},
     "output_type": "execute_result"
    }
   ],
   "source": [
    "datos1.groupby(\"categoria\")[\"Numero\"].describe()"
   ]
  },
  {
   "cell_type": "markdown",
   "metadata": {},
   "source": [
    "#### 5. Que conclusiones puede deducir entre la relación del del número de Bibliotecas y el tamaño de los municipios a partir de los  resultados del punto anterior.\n",
    "\n",
    "Como se observa en la tabla anterior solo los municipios con más de $100.000$, categoría 4, habitantes poseen la mitad más de dos o más bibliotecas, y con más de un millón de habitantes, categoría 5, la gran mayoría posee más de 17 bibliotecas."
   ]
  },
  {
   "cell_type": "code",
   "execution_count": null,
   "metadata": {},
   "outputs": [],
   "source": []
  },
  {
   "cell_type": "code",
   "execution_count": null,
   "metadata": {},
   "outputs": [],
   "source": []
  },
  {
   "cell_type": "code",
   "execution_count": null,
   "metadata": {},
   "outputs": [],
   "source": []
  },
  {
   "cell_type": "code",
   "execution_count": null,
   "metadata": {},
   "outputs": [],
   "source": []
  }
 ],
 "metadata": {
  "kernelspec": {
   "display_name": "Python 3",
   "language": "python",
   "name": "python3"
  },
  "language_info": {
   "codemirror_mode": {
    "name": "ipython",
    "version": 3
   },
   "file_extension": ".py",
   "mimetype": "text/x-python",
   "name": "python",
   "nbconvert_exporter": "python",
   "pygments_lexer": "ipython3",
   "version": "3.7.3"
  }
 },
 "nbformat": 4,
 "nbformat_minor": 2
}
