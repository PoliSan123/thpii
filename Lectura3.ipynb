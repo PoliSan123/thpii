{
 "cells": [
  {
   "cell_type": "markdown",
   "metadata": {
    "colab_type": "text",
    "id": "gkC8kxtO8CXV"
   },
   "source": [
    "Obtener del sitio web del DANE (https://www.dane.gov.co/index.php/estadisticas-por-tema/demografia-y-poblacion/proyecciones-de-poblacion) la estimación de la población de Colombia para el año 2016 por municipios y del sitio de Datos Abiertos de Colombia (https://www.datos.gov.co/Salud-y-Protecci-n-Social/SIVICAP-2016/rj6b-fmu2/data) los datos de calidad de agua potable para el consumo humano por municipios de Colombia. Realizar los siguientes procedimientos y análisis:"
   ]
  },
  {
   "cell_type": "markdown",
   "metadata": {
    "colab_type": "text",
    "id": "Yr1Uhk1i8CXW"
   },
   "source": [
    "Organizar cada tabla en una hoja de Excel de Microsoft, una para cada grupo de datos, leer los datos y guardarlos en dos Data Frame distintos usando Pandas de Python"
   ]
  },
  {
   "cell_type": "code",
   "execution_count": 1,
   "metadata": {
    "colab": {},
    "colab_type": "code",
    "id": "kcCvAYca8CXX"
   },
   "outputs": [],
   "source": [
    "import pandas as pd"
   ]
  },
  {
   "cell_type": "code",
   "execution_count": 2,
   "metadata": {
    "colab": {},
    "colab_type": "code",
    "id": "RWa4st508CXa",
    "outputId": "df79dff2-c378-42ba-8519-2b33677c572a"
   },
   "outputs": [
    {
     "data": {
      "text/plain": [
       "(1122, 4)"
      ]
     },
     "execution_count": 2,
     "metadata": {},
     "output_type": "execute_result"
    }
   ],
   "source": [
    "datos_pob=pd.read_excel(\"poblacion2016.xlsx\",index=True)\n",
    "datos_pob.shape"
   ]
  },
  {
   "cell_type": "code",
   "execution_count": 3,
   "metadata": {
    "colab": {},
    "colab_type": "code",
    "id": "f7WX_I3m8CXd",
    "outputId": "14e3ae0b-211c-46f5-aa59-90f0cb969f2a"
   },
   "outputs": [
    {
     "data": {
      "text/html": [
       "<div>\n",
       "<style scoped>\n",
       "    .dataframe tbody tr th:only-of-type {\n",
       "        vertical-align: middle;\n",
       "    }\n",
       "\n",
       "    .dataframe tbody tr th {\n",
       "        vertical-align: top;\n",
       "    }\n",
       "\n",
       "    .dataframe thead th {\n",
       "        text-align: right;\n",
       "    }\n",
       "</style>\n",
       "<table border=\"1\" class=\"dataframe\">\n",
       "  <thead>\n",
       "    <tr style=\"text-align: right;\">\n",
       "      <th></th>\n",
       "      <th>Departamento</th>\n",
       "      <th>Codigo</th>\n",
       "      <th>Municipio</th>\n",
       "      <th>Poblacion</th>\n",
       "    </tr>\n",
       "  </thead>\n",
       "  <tbody>\n",
       "    <tr>\n",
       "      <td>0</td>\n",
       "      <td>Amazonas</td>\n",
       "      <td>91001</td>\n",
       "      <td>Leticia</td>\n",
       "      <td>41639</td>\n",
       "    </tr>\n",
       "    <tr>\n",
       "      <td>1</td>\n",
       "      <td>Amazonas</td>\n",
       "      <td>91263</td>\n",
       "      <td>El Encanto (ANM)</td>\n",
       "      <td>4884</td>\n",
       "    </tr>\n",
       "    <tr>\n",
       "      <td>2</td>\n",
       "      <td>Amazonas</td>\n",
       "      <td>91405</td>\n",
       "      <td>La Chorrera (ANM)</td>\n",
       "      <td>3933</td>\n",
       "    </tr>\n",
       "    <tr>\n",
       "      <td>3</td>\n",
       "      <td>Amazonas</td>\n",
       "      <td>91407</td>\n",
       "      <td>La Pedrera (ANM)</td>\n",
       "      <td>5125</td>\n",
       "    </tr>\n",
       "    <tr>\n",
       "      <td>4</td>\n",
       "      <td>Amazonas</td>\n",
       "      <td>91430</td>\n",
       "      <td>La Victoria (ANM)</td>\n",
       "      <td>1115</td>\n",
       "    </tr>\n",
       "  </tbody>\n",
       "</table>\n",
       "</div>"
      ],
      "text/plain": [
       "  Departamento  Codigo          Municipio  Poblacion\n",
       "0     Amazonas   91001            Leticia      41639\n",
       "1     Amazonas   91263   El Encanto (ANM)       4884\n",
       "2     Amazonas   91405  La Chorrera (ANM)       3933\n",
       "3     Amazonas   91407   La Pedrera (ANM)       5125\n",
       "4     Amazonas   91430  La Victoria (ANM)       1115"
      ]
     },
     "execution_count": 3,
     "metadata": {},
     "output_type": "execute_result"
    }
   ],
   "source": [
    "datos_pob.head()\n"
   ]
  },
  {
   "cell_type": "code",
   "execution_count": 4,
   "metadata": {
    "colab": {},
    "colab_type": "code",
    "id": "vSG_RiFa8CXf",
    "outputId": "da46ff7e-0811-4ab5-8d65-64900907c475"
   },
   "outputs": [
    {
     "data": {
      "text/plain": [
       "(1023, 3)"
      ]
     },
     "execution_count": 4,
     "metadata": {},
     "output_type": "execute_result"
    }
   ],
   "source": [
    "datos_agua=pd.read_excel(\"aguaPotable.xlsx\",index=True)\n",
    "datos_agua.shape"
   ]
  },
  {
   "cell_type": "code",
   "execution_count": 5,
   "metadata": {
    "colab": {},
    "colab_type": "code",
    "id": "fso7T_kd8CXi",
    "outputId": "a6ef5f08-9469-4c1c-fc85-a46088fcbf77"
   },
   "outputs": [
    {
     "data": {
      "text/html": [
       "<div>\n",
       "<style scoped>\n",
       "    .dataframe tbody tr th:only-of-type {\n",
       "        vertical-align: middle;\n",
       "    }\n",
       "\n",
       "    .dataframe tbody tr th {\n",
       "        vertical-align: top;\n",
       "    }\n",
       "\n",
       "    .dataframe thead th {\n",
       "        text-align: right;\n",
       "    }\n",
       "</style>\n",
       "<table border=\"1\" class=\"dataframe\">\n",
       "  <thead>\n",
       "    <tr style=\"text-align: right;\">\n",
       "      <th></th>\n",
       "      <th>departamento</th>\n",
       "      <th>municipio</th>\n",
       "      <th>promedio_irca</th>\n",
       "    </tr>\n",
       "  </thead>\n",
       "  <tbody>\n",
       "    <tr>\n",
       "      <td>0</td>\n",
       "      <td>Bolívar</td>\n",
       "      <td>Norosí</td>\n",
       "      <td>91.43</td>\n",
       "    </tr>\n",
       "    <tr>\n",
       "      <td>1</td>\n",
       "      <td>Nariño</td>\n",
       "      <td>Sapuyes</td>\n",
       "      <td>24.81</td>\n",
       "    </tr>\n",
       "    <tr>\n",
       "      <td>2</td>\n",
       "      <td>Norte de Santander</td>\n",
       "      <td>Chinácota</td>\n",
       "      <td>23.42</td>\n",
       "    </tr>\n",
       "    <tr>\n",
       "      <td>3</td>\n",
       "      <td>Norte de Santander</td>\n",
       "      <td>Bucarasica</td>\n",
       "      <td>29.39</td>\n",
       "    </tr>\n",
       "    <tr>\n",
       "      <td>4</td>\n",
       "      <td>Córdoba</td>\n",
       "      <td>Momil</td>\n",
       "      <td>3.35</td>\n",
       "    </tr>\n",
       "  </tbody>\n",
       "</table>\n",
       "</div>"
      ],
      "text/plain": [
       "         departamento   municipio  promedio_irca\n",
       "0             Bolívar      Norosí          91.43\n",
       "1              Nariño     Sapuyes          24.81\n",
       "2  Norte de Santander   Chinácota          23.42\n",
       "3  Norte de Santander  Bucarasica          29.39\n",
       "4             Córdoba       Momil           3.35"
      ]
     },
     "execution_count": 5,
     "metadata": {},
     "output_type": "execute_result"
    }
   ],
   "source": [
    "datos_agua.head()"
   ]
  },
  {
   "cell_type": "markdown",
   "metadata": {
    "colab_type": "text",
    "id": "z5o9TILq8CXk"
   },
   "source": [
    "Crear un nuevo Data Frame a partir de los dos creados en el punto anterior con un registro por cada municipio, y con las columnas de Nombre (Nombre del Municipio), Departamento (Departamento del municipio), Población (Población proyectada para el año 2016) e Indice de calidad del agua potable"
   ]
  },
  {
   "cell_type": "code",
   "execution_count": 6,
   "metadata": {
    "colab": {},
    "colab_type": "code",
    "id": "KDaWSx1r8CXl"
   },
   "outputs": [],
   "source": [
    "datos=datos_agua.copy()"
   ]
  },
  {
   "cell_type": "code",
   "execution_count": 7,
   "metadata": {},
   "outputs": [
    {
     "data": {
      "text/plain": [
       "(1023, 3)"
      ]
     },
     "execution_count": 7,
     "metadata": {},
     "output_type": "execute_result"
    }
   ],
   "source": [
    "datos.shape"
   ]
  },
  {
   "cell_type": "code",
   "execution_count": 8,
   "metadata": {},
   "outputs": [
    {
     "data": {
      "text/html": [
       "<div>\n",
       "<style scoped>\n",
       "    .dataframe tbody tr th:only-of-type {\n",
       "        vertical-align: middle;\n",
       "    }\n",
       "\n",
       "    .dataframe tbody tr th {\n",
       "        vertical-align: top;\n",
       "    }\n",
       "\n",
       "    .dataframe thead th {\n",
       "        text-align: right;\n",
       "    }\n",
       "</style>\n",
       "<table border=\"1\" class=\"dataframe\">\n",
       "  <thead>\n",
       "    <tr style=\"text-align: right;\">\n",
       "      <th></th>\n",
       "      <th>municipio</th>\n",
       "      <th>promedio_irca</th>\n",
       "    </tr>\n",
       "  </thead>\n",
       "  <tbody>\n",
       "    <tr>\n",
       "      <td>0</td>\n",
       "      <td>Norosí</td>\n",
       "      <td>91.43</td>\n",
       "    </tr>\n",
       "    <tr>\n",
       "      <td>1</td>\n",
       "      <td>Sapuyes</td>\n",
       "      <td>24.81</td>\n",
       "    </tr>\n",
       "  </tbody>\n",
       "</table>\n",
       "</div>"
      ],
      "text/plain": [
       "  municipio  promedio_irca\n",
       "0    Norosí          91.43\n",
       "1   Sapuyes          24.81"
      ]
     },
     "execution_count": 8,
     "metadata": {},
     "output_type": "execute_result"
    }
   ],
   "source": [
    "datos.iloc[0:2][[\"municipio\",\"promedio_irca\"]]"
   ]
  },
  {
   "cell_type": "code",
   "execution_count": 9,
   "metadata": {
    "colab": {},
    "colab_type": "code",
    "id": "zG49Qw_q8CXn",
    "outputId": "84213346-8126-4bfc-8f1b-81b864fdbf97"
   },
   "outputs": [
    {
     "data": {
      "text/html": [
       "<div>\n",
       "<style scoped>\n",
       "    .dataframe tbody tr th:only-of-type {\n",
       "        vertical-align: middle;\n",
       "    }\n",
       "\n",
       "    .dataframe tbody tr th {\n",
       "        vertical-align: top;\n",
       "    }\n",
       "\n",
       "    .dataframe thead th {\n",
       "        text-align: right;\n",
       "    }\n",
       "</style>\n",
       "<table border=\"1\" class=\"dataframe\">\n",
       "  <thead>\n",
       "    <tr style=\"text-align: right;\">\n",
       "      <th></th>\n",
       "      <th>departamento</th>\n",
       "      <th>municipio</th>\n",
       "      <th>promedio_irca</th>\n",
       "    </tr>\n",
       "  </thead>\n",
       "  <tbody>\n",
       "    <tr>\n",
       "      <td>0</td>\n",
       "      <td>Bolívar</td>\n",
       "      <td>Norosí</td>\n",
       "      <td>91.43</td>\n",
       "    </tr>\n",
       "    <tr>\n",
       "      <td>1</td>\n",
       "      <td>Nariño</td>\n",
       "      <td>Sapuyes</td>\n",
       "      <td>24.81</td>\n",
       "    </tr>\n",
       "    <tr>\n",
       "      <td>2</td>\n",
       "      <td>Norte de Santander</td>\n",
       "      <td>Chinácota</td>\n",
       "      <td>23.42</td>\n",
       "    </tr>\n",
       "    <tr>\n",
       "      <td>3</td>\n",
       "      <td>Norte de Santander</td>\n",
       "      <td>Bucarasica</td>\n",
       "      <td>29.39</td>\n",
       "    </tr>\n",
       "    <tr>\n",
       "      <td>4</td>\n",
       "      <td>Córdoba</td>\n",
       "      <td>Momil</td>\n",
       "      <td>3.35</td>\n",
       "    </tr>\n",
       "  </tbody>\n",
       "</table>\n",
       "</div>"
      ],
      "text/plain": [
       "         departamento   municipio  promedio_irca\n",
       "0             Bolívar      Norosí          91.43\n",
       "1              Nariño     Sapuyes          24.81\n",
       "2  Norte de Santander   Chinácota          23.42\n",
       "3  Norte de Santander  Bucarasica          29.39\n",
       "4             Córdoba       Momil           3.35"
      ]
     },
     "execution_count": 9,
     "metadata": {},
     "output_type": "execute_result"
    }
   ],
   "source": [
    "datos.head()"
   ]
  },
  {
   "cell_type": "code",
   "execution_count": 10,
   "metadata": {
    "colab": {},
    "colab_type": "code",
    "id": "JCYtVD8J8CXp",
    "outputId": "a874f6d9-9032-4109-9889-56e0fba41a46"
   },
   "outputs": [
    {
     "name": "stdout",
     "output_type": "stream",
     "text": [
      "1023\n"
     ]
    }
   ],
   "source": [
    "municipios_encontrados=0\n",
    "municipios_faltantes=[]\n",
    "poblacion_municipios=[]\n",
    "for index, row in datos_agua.iterrows():\n",
    "    municipio=row['municipio']\n",
    "    departamento=row['departamento']\n",
    "    poblacion=datos_pob.loc[datos_pob[\"Departamento\"].str.contains(departamento, na=False)&\n",
    "       datos_pob[\"Municipio\"].str.contains(municipio, na=False)]['Poblacion']\n",
    "    if poblacion.shape[0]>0:\n",
    "        #print municipio,' ',poblacion.iloc[0]\n",
    "        municipios_encontrados+=1\n",
    "        poblacion_municipios.append(poblacion.iloc[0])\n",
    "    else:\n",
    "        municipios_faltantes.append(municipio)\n",
    "        poblacion_municipios.append(15000)\n",
    "print(municipios_encontrados)\n",
    "   \n",
    "for munic in municipios_faltantes:\n",
    "    print (munic)\n"
   ]
  },
  {
   "cell_type": "code",
   "execution_count": 11,
   "metadata": {
    "colab": {},
    "colab_type": "code",
    "id": "ZEZA0zSg8CXr"
   },
   "outputs": [],
   "source": [
    "datos['poblacion']=poblacion_municipios"
   ]
  },
  {
   "cell_type": "code",
   "execution_count": 12,
   "metadata": {
    "colab": {},
    "colab_type": "code",
    "id": "lvdREs8f8CXu",
    "outputId": "4e792ec1-1438-436d-82fd-4094123f4ddb"
   },
   "outputs": [
    {
     "data": {
      "text/html": [
       "<div>\n",
       "<style scoped>\n",
       "    .dataframe tbody tr th:only-of-type {\n",
       "        vertical-align: middle;\n",
       "    }\n",
       "\n",
       "    .dataframe tbody tr th {\n",
       "        vertical-align: top;\n",
       "    }\n",
       "\n",
       "    .dataframe thead th {\n",
       "        text-align: right;\n",
       "    }\n",
       "</style>\n",
       "<table border=\"1\" class=\"dataframe\">\n",
       "  <thead>\n",
       "    <tr style=\"text-align: right;\">\n",
       "      <th></th>\n",
       "      <th>departamento</th>\n",
       "      <th>municipio</th>\n",
       "      <th>promedio_irca</th>\n",
       "      <th>poblacion</th>\n",
       "    </tr>\n",
       "  </thead>\n",
       "  <tbody>\n",
       "    <tr>\n",
       "      <td>0</td>\n",
       "      <td>Bolívar</td>\n",
       "      <td>Norosí</td>\n",
       "      <td>91.43</td>\n",
       "      <td>5177</td>\n",
       "    </tr>\n",
       "    <tr>\n",
       "      <td>1</td>\n",
       "      <td>Nariño</td>\n",
       "      <td>Sapuyes</td>\n",
       "      <td>24.81</td>\n",
       "      <td>6237</td>\n",
       "    </tr>\n",
       "    <tr>\n",
       "      <td>2</td>\n",
       "      <td>Norte de Santander</td>\n",
       "      <td>Chinácota</td>\n",
       "      <td>23.42</td>\n",
       "      <td>16513</td>\n",
       "    </tr>\n",
       "    <tr>\n",
       "      <td>3</td>\n",
       "      <td>Norte de Santander</td>\n",
       "      <td>Bucarasica</td>\n",
       "      <td>29.39</td>\n",
       "      <td>4570</td>\n",
       "    </tr>\n",
       "    <tr>\n",
       "      <td>4</td>\n",
       "      <td>Córdoba</td>\n",
       "      <td>Momil</td>\n",
       "      <td>3.35</td>\n",
       "      <td>14962</td>\n",
       "    </tr>\n",
       "  </tbody>\n",
       "</table>\n",
       "</div>"
      ],
      "text/plain": [
       "         departamento   municipio  promedio_irca  poblacion\n",
       "0             Bolívar      Norosí          91.43       5177\n",
       "1              Nariño     Sapuyes          24.81       6237\n",
       "2  Norte de Santander   Chinácota          23.42      16513\n",
       "3  Norte de Santander  Bucarasica          29.39       4570\n",
       "4             Córdoba       Momil           3.35      14962"
      ]
     },
     "execution_count": 12,
     "metadata": {},
     "output_type": "execute_result"
    }
   ],
   "source": [
    "datos.head()"
   ]
  },
  {
   "cell_type": "code",
   "execution_count": 13,
   "metadata": {},
   "outputs": [
    {
     "data": {
      "text/html": [
       "<div>\n",
       "<style scoped>\n",
       "    .dataframe tbody tr th:only-of-type {\n",
       "        vertical-align: middle;\n",
       "    }\n",
       "\n",
       "    .dataframe tbody tr th {\n",
       "        vertical-align: top;\n",
       "    }\n",
       "\n",
       "    .dataframe thead th {\n",
       "        text-align: right;\n",
       "    }\n",
       "</style>\n",
       "<table border=\"1\" class=\"dataframe\">\n",
       "  <thead>\n",
       "    <tr style=\"text-align: right;\">\n",
       "      <th></th>\n",
       "      <th>departamento</th>\n",
       "      <th>municipio</th>\n",
       "      <th>promedio_irca</th>\n",
       "      <th>poblacion</th>\n",
       "    </tr>\n",
       "  </thead>\n",
       "  <tbody>\n",
       "    <tr>\n",
       "      <td>958</td>\n",
       "      <td>Caldas</td>\n",
       "      <td>Marquetalia</td>\n",
       "      <td>67.6</td>\n",
       "      <td>15000</td>\n",
       "    </tr>\n",
       "  </tbody>\n",
       "</table>\n",
       "</div>"
      ],
      "text/plain": [
       "    departamento    municipio  promedio_irca  poblacion\n",
       "958       Caldas  Marquetalia           67.6      15000"
      ]
     },
     "execution_count": 13,
     "metadata": {},
     "output_type": "execute_result"
    }
   ],
   "source": [
    "datos.loc[datos[\"poblacion\"]==15000]"
   ]
  },
  {
   "cell_type": "code",
   "execution_count": 14,
   "metadata": {
    "colab": {},
    "colab_type": "code",
    "id": "JaLotKOT8CXw",
    "outputId": "a260fb86-fbdb-4c7f-b688-8af171b44d1a"
   },
   "outputs": [
    {
     "data": {
      "text/html": [
       "<div>\n",
       "<style scoped>\n",
       "    .dataframe tbody tr th:only-of-type {\n",
       "        vertical-align: middle;\n",
       "    }\n",
       "\n",
       "    .dataframe tbody tr th {\n",
       "        vertical-align: top;\n",
       "    }\n",
       "\n",
       "    .dataframe thead th {\n",
       "        text-align: right;\n",
       "    }\n",
       "</style>\n",
       "<table border=\"1\" class=\"dataframe\">\n",
       "  <thead>\n",
       "    <tr style=\"text-align: right;\">\n",
       "      <th></th>\n",
       "      <th>departamento</th>\n",
       "      <th>municipio</th>\n",
       "      <th>promedio_irca</th>\n",
       "      <th>poblacion</th>\n",
       "    </tr>\n",
       "  </thead>\n",
       "  <tbody>\n",
       "    <tr>\n",
       "      <td>0</td>\n",
       "      <td>Bolívar</td>\n",
       "      <td>Norosí</td>\n",
       "      <td>91.43</td>\n",
       "      <td>5177</td>\n",
       "    </tr>\n",
       "    <tr>\n",
       "      <td>1</td>\n",
       "      <td>Nariño</td>\n",
       "      <td>Sapuyes</td>\n",
       "      <td>24.81</td>\n",
       "      <td>6237</td>\n",
       "    </tr>\n",
       "    <tr>\n",
       "      <td>2</td>\n",
       "      <td>Norte de Santander</td>\n",
       "      <td>Chinácota</td>\n",
       "      <td>23.42</td>\n",
       "      <td>16513</td>\n",
       "    </tr>\n",
       "    <tr>\n",
       "      <td>3</td>\n",
       "      <td>Norte de Santander</td>\n",
       "      <td>Bucarasica</td>\n",
       "      <td>29.39</td>\n",
       "      <td>4570</td>\n",
       "    </tr>\n",
       "    <tr>\n",
       "      <td>4</td>\n",
       "      <td>Córdoba</td>\n",
       "      <td>Momil</td>\n",
       "      <td>3.35</td>\n",
       "      <td>14962</td>\n",
       "    </tr>\n",
       "  </tbody>\n",
       "</table>\n",
       "</div>"
      ],
      "text/plain": [
       "         departamento   municipio  promedio_irca  poblacion\n",
       "0             Bolívar      Norosí          91.43       5177\n",
       "1              Nariño     Sapuyes          24.81       6237\n",
       "2  Norte de Santander   Chinácota          23.42      16513\n",
       "3  Norte de Santander  Bucarasica          29.39       4570\n",
       "4             Córdoba       Momil           3.35      14962"
      ]
     },
     "execution_count": 14,
     "metadata": {},
     "output_type": "execute_result"
    }
   ],
   "source": [
    "datos.head()"
   ]
  },
  {
   "cell_type": "markdown",
   "metadata": {
    "colab_type": "text",
    "id": "PaVw1KTF8CXy"
   },
   "source": [
    "Crear una tabla de frecuencia utilizando los rangos definidos para el IRCA. Rangos y puntajes de riesgo: Entre 0-5 se encuentra sin riesgo; el agua es apta para el consumo humano y se debe continuar la vigilancia, 5.1-14 se encuentra con nivel de riesgo bajo; el agua no es apta para el consumo humano y es susceptible de mejoramiento, 14.1-35 se encuentra en riesgo medio; el agua no es apta para el consumo humano, debe haber una gestión directa de la persona prestadora, 35.1-80 se encuentra en nivel de riesgo alto; el agua no es apta para el consumo humano, requiere de gestión directa de la persona prestadora y 80.1-100 se encuentra inviable sanitariamente; el agua se considera no apta para el consumo humano y requiere de una gestión directa de la persona prestadora. Realizar el histograma usando esta tabla de frecuencias."
   ]
  },
  {
   "cell_type": "code",
   "execution_count": 15,
   "metadata": {
    "colab": {},
    "colab_type": "code",
    "id": "3I1Qu3Wh8CXz",
    "outputId": "df2dfc7a-cbdc-4bdf-c032-f504253d8a92"
   },
   "outputs": [
    {
     "name": "stdout",
     "output_type": "stream",
     "text": [
      "(0,5]\n",
      "(5,14]\n",
      "(14,35]\n",
      "(35,80]\n",
      "(80,100]\n",
      "[283 179 268 276  17]\n",
      "[  0   5  14  35  80 100]\n"
     ]
    }
   ],
   "source": [
    "bins_limits=[0,5,14,35,80,100]\n",
    "intervals_name=[]\n",
    "for i in range(len(bins_limits)-1):\n",
    "    lim_inf=bins_limits[i]\n",
    "    lim_sup=bins_limits[i+1]\n",
    "    label='('+str(lim_inf)+\",\"+str(lim_sup)+\"]\"\n",
    "    intervals_name.append(label)\n",
    "    print(label)\n",
    "import numpy as np\n",
    "indice_irca=datos['promedio_irca']\n",
    "x_freq,x_bins=np.histogram(indice_irca,bins_limits)\n",
    "print(x_freq)\n",
    "print(x_bins)\n",
    "dataFrameP3=pd.DataFrame.from_dict({'Intervals':intervals_name,'Frecuencia':x_freq})"
   ]
  },
  {
   "cell_type": "code",
   "execution_count": 16,
   "metadata": {
    "colab": {},
    "colab_type": "code",
    "id": "Tc1mu1U58CX1",
    "outputId": "500524db-0129-4e68-a7e2-db4aab9dbde8"
   },
   "outputs": [
    {
     "data": {
      "text/html": [
       "<div>\n",
       "<style scoped>\n",
       "    .dataframe tbody tr th:only-of-type {\n",
       "        vertical-align: middle;\n",
       "    }\n",
       "\n",
       "    .dataframe tbody tr th {\n",
       "        vertical-align: top;\n",
       "    }\n",
       "\n",
       "    .dataframe thead th {\n",
       "        text-align: right;\n",
       "    }\n",
       "</style>\n",
       "<table border=\"1\" class=\"dataframe\">\n",
       "  <thead>\n",
       "    <tr style=\"text-align: right;\">\n",
       "      <th></th>\n",
       "      <th>Intervals</th>\n",
       "      <th>Frecuencia</th>\n",
       "    </tr>\n",
       "  </thead>\n",
       "  <tbody>\n",
       "    <tr>\n",
       "      <td>0</td>\n",
       "      <td>(0,5]</td>\n",
       "      <td>283</td>\n",
       "    </tr>\n",
       "    <tr>\n",
       "      <td>1</td>\n",
       "      <td>(5,14]</td>\n",
       "      <td>179</td>\n",
       "    </tr>\n",
       "    <tr>\n",
       "      <td>2</td>\n",
       "      <td>(14,35]</td>\n",
       "      <td>268</td>\n",
       "    </tr>\n",
       "    <tr>\n",
       "      <td>3</td>\n",
       "      <td>(35,80]</td>\n",
       "      <td>276</td>\n",
       "    </tr>\n",
       "    <tr>\n",
       "      <td>4</td>\n",
       "      <td>(80,100]</td>\n",
       "      <td>17</td>\n",
       "    </tr>\n",
       "  </tbody>\n",
       "</table>\n",
       "</div>"
      ],
      "text/plain": [
       "  Intervals  Frecuencia\n",
       "0     (0,5]         283\n",
       "1    (5,14]         179\n",
       "2   (14,35]         268\n",
       "3   (35,80]         276\n",
       "4  (80,100]          17"
      ]
     },
     "execution_count": 16,
     "metadata": {},
     "output_type": "execute_result"
    }
   ],
   "source": [
    "dataFrameP3"
   ]
  },
  {
   "cell_type": "code",
   "execution_count": 17,
   "metadata": {
    "colab": {},
    "colab_type": "code",
    "id": "--bNCcMs8CX4"
   },
   "outputs": [],
   "source": [
    "%matplotlib inline"
   ]
  },
  {
   "cell_type": "code",
   "execution_count": 18,
   "metadata": {
    "colab": {},
    "colab_type": "code",
    "id": "PJv7nHQf8CX6",
    "outputId": "649610e5-5edd-49bc-d94d-2dc3c618fa06"
   },
   "outputs": [
    {
     "data": {
      "text/plain": [
       "<matplotlib.axes._subplots.AxesSubplot at 0x2a508813508>"
      ]
     },
     "execution_count": 18,
     "metadata": {},
     "output_type": "execute_result"
    },
    {
     "data": {
      "image/png": "[encoded data removed]",
      "text/plain": [
       "<Figure size 432x288 with 1 Axes>"
      ]
     },
     "metadata": {
      "needs_background": "light"
     },
     "output_type": "display_data"
    }
   ],
   "source": [
    "datos['promedio_irca'].hist(bins=bins_limits)"
   ]
  },
  {
   "cell_type": "markdown",
   "metadata": {
    "colab_type": "text",
    "id": "GFe2FRf-8CX8"
   },
   "source": [
    "Clasificar los municipios de acuerdo al tamaño de su población en 5 categorías (es libre la definición de los rangos). Agregar una columna al Data Frame creado en el punto dos con esta clasificación. Usando este último Data Frame,  calcular la media, desviación estándar, primer y tercer cuartil del Indice de calidad del agua potable agrupado por cada una de las clasificaciones de los municipios acordes al tamaño de la población."
   ]
  },
  {
   "cell_type": "code",
   "execution_count": 19,
   "metadata": {
    "colab": {},
    "colab_type": "code",
    "id": "-2GzaPZw8CX9"
   },
   "outputs": [],
   "source": [
    "lim1=0\n",
    "lim2=5000\n",
    "lim3=10000\n",
    "lim4=100000\n",
    "lim5=1000000\n",
    "lim6=8000000\n",
    "\n",
    "datos[\"categoria\"]=np.zeros(datos.shape[0]).tolist()\n",
    "datos.loc[(datos.poblacion>lim1)&(datos.poblacion<=lim2),[\"categoria\"]]=1\n",
    "datos.loc[(datos.poblacion>lim2)&(datos.poblacion<=lim3),[\"categoria\"]]=2\n",
    "datos.loc[(datos.poblacion>lim3)&(datos.poblacion<=lim4),[\"categoria\"]]=3\n",
    "datos.loc[(datos.poblacion>lim4)&(datos.poblacion<=lim5),[\"categoria\"]]=4\n",
    "datos.loc[(datos.poblacion>lim5)&(datos.poblacion<=lim6),[\"categoria\"]]=5\n"
   ]
  },
  {
   "cell_type": "code",
   "execution_count": 20,
   "metadata": {
    "colab": {},
    "colab_type": "code",
    "id": "T8Q0rTRS8CX_",
    "outputId": "ae852ceb-1394-4555-e29f-8d7a97418cc4"
   },
   "outputs": [
    {
     "data": {
      "text/html": [
       "<div>\n",
       "<style scoped>\n",
       "    .dataframe tbody tr th:only-of-type {\n",
       "        vertical-align: middle;\n",
       "    }\n",
       "\n",
       "    .dataframe tbody tr th {\n",
       "        vertical-align: top;\n",
       "    }\n",
       "\n",
       "    .dataframe thead th {\n",
       "        text-align: right;\n",
       "    }\n",
       "</style>\n",
       "<table border=\"1\" class=\"dataframe\">\n",
       "  <thead>\n",
       "    <tr style=\"text-align: right;\">\n",
       "      <th></th>\n",
       "      <th>departamento</th>\n",
       "      <th>municipio</th>\n",
       "      <th>promedio_irca</th>\n",
       "      <th>poblacion</th>\n",
       "      <th>categoria</th>\n",
       "    </tr>\n",
       "  </thead>\n",
       "  <tbody>\n",
       "    <tr>\n",
       "      <td>179</td>\n",
       "      <td>Antioquia</td>\n",
       "      <td>Medellín</td>\n",
       "      <td>1.43</td>\n",
       "      <td>2486723</td>\n",
       "      <td>5.0</td>\n",
       "    </tr>\n",
       "    <tr>\n",
       "      <td>455</td>\n",
       "      <td>Valle del Cauca</td>\n",
       "      <td>Cali</td>\n",
       "      <td>3.72</td>\n",
       "      <td>2394925</td>\n",
       "      <td>5.0</td>\n",
       "    </tr>\n",
       "    <tr>\n",
       "      <td>733</td>\n",
       "      <td>Atlántico</td>\n",
       "      <td>Barranquilla</td>\n",
       "      <td>0.00</td>\n",
       "      <td>1223616</td>\n",
       "      <td>5.0</td>\n",
       "    </tr>\n",
       "    <tr>\n",
       "      <td>822</td>\n",
       "      <td>Bogotá DC</td>\n",
       "      <td>Bogotá DC</td>\n",
       "      <td>7.35</td>\n",
       "      <td>7980001</td>\n",
       "      <td>5.0</td>\n",
       "    </tr>\n",
       "    <tr>\n",
       "      <td>897</td>\n",
       "      <td>Bolívar</td>\n",
       "      <td>Cartagena</td>\n",
       "      <td>0.01</td>\n",
       "      <td>1013389</td>\n",
       "      <td>5.0</td>\n",
       "    </tr>\n",
       "  </tbody>\n",
       "</table>\n",
       "</div>"
      ],
      "text/plain": [
       "        departamento     municipio  promedio_irca  poblacion  categoria\n",
       "179        Antioquia      Medellín           1.43    2486723        5.0\n",
       "455  Valle del Cauca          Cali           3.72    2394925        5.0\n",
       "733        Atlántico  Barranquilla           0.00    1223616        5.0\n",
       "822        Bogotá DC     Bogotá DC           7.35    7980001        5.0\n",
       "897          Bolívar     Cartagena           0.01    1013389        5.0"
      ]
     },
     "execution_count": 20,
     "metadata": {},
     "output_type": "execute_result"
    }
   ],
   "source": [
    "datos[datos.categoria==5].head()"
   ]
  },
  {
   "cell_type": "code",
   "execution_count": 21,
   "metadata": {
    "colab": {},
    "colab_type": "code",
    "id": "7e7oXB2y8CYB",
    "outputId": "500f930d-d5f0-48cd-a5bb-96461d6dec61"
   },
   "outputs": [
    {
     "data": {
      "text/plain": [
       "categoria\n",
       "1.0    160\n",
       "2.0    228\n",
       "3.0    573\n",
       "4.0     57\n",
       "5.0      5\n",
       "Name: promedio_irca, dtype: int64"
      ]
     },
     "execution_count": 21,
     "metadata": {},
     "output_type": "execute_result"
    }
   ],
   "source": [
    "datos.groupby('categoria')['promedio_irca'].count()"
   ]
  },
  {
   "cell_type": "code",
   "execution_count": 22,
   "metadata": {
    "colab": {},
    "colab_type": "code",
    "id": "6LXItz-Y8CYE",
    "outputId": "529a59e4-28bb-4ed7-a27f-c4e7e12dbf12"
   },
   "outputs": [
    {
     "data": {
      "text/plain": [
       "categoria\n",
       "1.0    23.413563\n",
       "2.0    26.610658\n",
       "3.0    23.496527\n",
       "4.0    11.903509\n",
       "5.0     2.502000\n",
       "Name: promedio_irca, dtype: float64"
      ]
     },
     "execution_count": 22,
     "metadata": {},
     "output_type": "execute_result"
    }
   ],
   "source": [
    "datos.groupby('categoria')['promedio_irca'].mean()"
   ]
  },
  {
   "cell_type": "code",
   "execution_count": 23,
   "metadata": {
    "colab": {},
    "colab_type": "code",
    "id": "cLHR_xpz8CYJ",
    "outputId": "95f71864-6a90-447e-f78e-d0e88687fd9c"
   },
   "outputs": [
    {
     "data": {
      "text/plain": [
       "categoria\n",
       "1.0    17.729723\n",
       "2.0    23.067569\n",
       "3.0    22.668677\n",
       "4.0    15.594158\n",
       "5.0     3.106682\n",
       "Name: promedio_irca, dtype: float64"
      ]
     },
     "execution_count": 23,
     "metadata": {},
     "output_type": "execute_result"
    }
   ],
   "source": [
    "datos.groupby('categoria')['promedio_irca'].std()"
   ]
  },
  {
   "cell_type": "code",
   "execution_count": 24,
   "metadata": {
    "colab": {},
    "colab_type": "code",
    "id": "i9x0nzkS8CYO",
    "outputId": "6cc4cf27-53de-40af-afd3-0f332e74bcf6"
   },
   "outputs": [
    {
     "data": {
      "text/plain": [
       "0.25     8.1375\n",
       "0.75    34.5500\n",
       "Name: promedio_irca, dtype: float64"
      ]
     },
     "execution_count": 24,
     "metadata": {},
     "output_type": "execute_result"
    }
   ],
   "source": [
    "datos[datos['categoria']==1]['promedio_irca'].quantile([0.25,0.75])"
   ]
  },
  {
   "cell_type": "code",
   "execution_count": 25,
   "metadata": {
    "colab": {},
    "colab_type": "code",
    "id": "WSIJTCkZ8CYQ",
    "outputId": "1d52966f-9642-421d-bab0-c8fb179b09ec"
   },
   "outputs": [
    {
     "data": {
      "text/plain": [
       "0.25     5.345\n",
       "0.75    44.205\n",
       "Name: promedio_irca, dtype: float64"
      ]
     },
     "execution_count": 25,
     "metadata": {},
     "output_type": "execute_result"
    }
   ],
   "source": [
    "datos[datos['categoria']==2]['promedio_irca'].quantile([0.25,0.75])"
   ]
  },
  {
   "cell_type": "code",
   "execution_count": 26,
   "metadata": {
    "colab": {},
    "colab_type": "code",
    "id": "nG1Ipr3C8CYS",
    "outputId": "f843bbda-1f9b-433d-8ca8-8734d7ee9bce"
   },
   "outputs": [
    {
     "data": {
      "text/plain": [
       "0.25     3.87\n",
       "0.75    40.52\n",
       "Name: promedio_irca, dtype: float64"
      ]
     },
     "execution_count": 26,
     "metadata": {},
     "output_type": "execute_result"
    }
   ],
   "source": [
    "datos[datos['categoria']==3]['promedio_irca'].quantile([0.25,0.75])"
   ]
  },
  {
   "cell_type": "code",
   "execution_count": 27,
   "metadata": {
    "colab": {},
    "colab_type": "code",
    "id": "nB3TapzR8CYY",
    "outputId": "6d429189-a86e-4135-cab7-96ca34d554b1"
   },
   "outputs": [
    {
     "data": {
      "text/plain": [
       "0.25     1.40\n",
       "0.75    16.19\n",
       "Name: promedio_irca, dtype: float64"
      ]
     },
     "execution_count": 27,
     "metadata": {},
     "output_type": "execute_result"
    }
   ],
   "source": [
    "datos[datos['categoria']==4]['promedio_irca'].quantile([0.25,0.75])"
   ]
  },
  {
   "cell_type": "code",
   "execution_count": 28,
   "metadata": {
    "colab": {},
    "colab_type": "code",
    "id": "OEzY0EKP8CYa",
    "outputId": "68c78898-8809-477d-c8ae-5723e2adf3d9"
   },
   "outputs": [
    {
     "data": {
      "text/plain": [
       "0.25    0.01\n",
       "0.75    3.72\n",
       "Name: promedio_irca, dtype: float64"
      ]
     },
     "execution_count": 28,
     "metadata": {},
     "output_type": "execute_result"
    }
   ],
   "source": [
    "datos[datos['categoria']==5]['promedio_irca'].quantile([0.25,0.75])"
   ]
  },
  {
   "cell_type": "markdown",
   "metadata": {
    "colab_type": "text",
    "id": "x4QUWKfK8CYc"
   },
   "source": [
    "Entre más pequeño el municipio mayor el irca, los municipios más grandes tienen mejor agua potable aunque la dispersión es muy similar a partir de la segunda categoría. El 75% al menos de los municipios grandes tienen un indice bajo 8. Una curata parte de los municipios aproximadamente se encuentran con riesgo bajo."
   ]
  },
  {
   "cell_type": "code",
   "execution_count": 29,
   "metadata": {
    "colab": {},
    "colab_type": "code",
    "id": "tkcc-8s98CYd",
    "outputId": "b1dbaa95-7f46-4892-86b3-307464a54702"
   },
   "outputs": [
    {
     "data": {
      "text/html": [
       "<div>\n",
       "<style scoped>\n",
       "    .dataframe tbody tr th:only-of-type {\n",
       "        vertical-align: middle;\n",
       "    }\n",
       "\n",
       "    .dataframe tbody tr th {\n",
       "        vertical-align: top;\n",
       "    }\n",
       "\n",
       "    .dataframe thead th {\n",
       "        text-align: right;\n",
       "    }\n",
       "</style>\n",
       "<table border=\"1\" class=\"dataframe\">\n",
       "  <thead>\n",
       "    <tr style=\"text-align: right;\">\n",
       "      <th></th>\n",
       "      <th>departamento</th>\n",
       "      <th>municipio</th>\n",
       "      <th>promedio_irca</th>\n",
       "      <th>poblacion</th>\n",
       "      <th>categoria</th>\n",
       "    </tr>\n",
       "  </thead>\n",
       "  <tbody>\n",
       "    <tr>\n",
       "      <td>179</td>\n",
       "      <td>Antioquia</td>\n",
       "      <td>Medellín</td>\n",
       "      <td>1.43</td>\n",
       "      <td>2486723</td>\n",
       "      <td>5.0</td>\n",
       "    </tr>\n",
       "    <tr>\n",
       "      <td>455</td>\n",
       "      <td>Valle del Cauca</td>\n",
       "      <td>Cali</td>\n",
       "      <td>3.72</td>\n",
       "      <td>2394925</td>\n",
       "      <td>5.0</td>\n",
       "    </tr>\n",
       "    <tr>\n",
       "      <td>733</td>\n",
       "      <td>Atlántico</td>\n",
       "      <td>Barranquilla</td>\n",
       "      <td>0.00</td>\n",
       "      <td>1223616</td>\n",
       "      <td>5.0</td>\n",
       "    </tr>\n",
       "    <tr>\n",
       "      <td>822</td>\n",
       "      <td>Bogotá DC</td>\n",
       "      <td>Bogotá DC</td>\n",
       "      <td>7.35</td>\n",
       "      <td>7980001</td>\n",
       "      <td>5.0</td>\n",
       "    </tr>\n",
       "    <tr>\n",
       "      <td>897</td>\n",
       "      <td>Bolívar</td>\n",
       "      <td>Cartagena</td>\n",
       "      <td>0.01</td>\n",
       "      <td>1013389</td>\n",
       "      <td>5.0</td>\n",
       "    </tr>\n",
       "  </tbody>\n",
       "</table>\n",
       "</div>"
      ],
      "text/plain": [
       "        departamento     municipio  promedio_irca  poblacion  categoria\n",
       "179        Antioquia      Medellín           1.43    2486723        5.0\n",
       "455  Valle del Cauca          Cali           3.72    2394925        5.0\n",
       "733        Atlántico  Barranquilla           0.00    1223616        5.0\n",
       "822        Bogotá DC     Bogotá DC           7.35    7980001        5.0\n",
       "897          Bolívar     Cartagena           0.01    1013389        5.0"
      ]
     },
     "execution_count": 29,
     "metadata": {},
     "output_type": "execute_result"
    }
   ],
   "source": [
    "datos[datos.categoria==5]"
   ]
  },
  {
   "cell_type": "code",
   "execution_count": null,
   "metadata": {
    "colab": {},
    "colab_type": "code",
    "id": "VUtuOQih8CYe"
   },
   "outputs": [],
   "source": []
  },
  {
   "cell_type": "code",
   "execution_count": null,
   "metadata": {},
   "outputs": [],
   "source": []
  }
 ],
 "metadata": {
  "colab": {
   "name": "Lectura3.ipynb",
   "provenance": []
  },
  "kernelspec": {
   "display_name": "Python 3",
   "language": "python",
   "name": "python3"
  },
  "language_info": {
   "codemirror_mode": {
    "name": "ipython",
    "version": 3
   },
   "file_extension": ".py",
   "mimetype": "text/x-python",
   "name": "python",
   "nbconvert_exporter": "python",
   "pygments_lexer": "ipython3",
   "version": "3.7.4"
  }
 },
 "nbformat": 4,
 "nbformat_minor": 1
}
