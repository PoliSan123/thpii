{
 "cells": [
  {
   "cell_type": "markdown",
   "metadata": {
    "colab_type": "text",
    "id": "m8xg_4XrQOd1"
   },
   "source": [
    "# Lectura 4 Modelo Logístico en Tiempo Discreto\n",
    "### Taller de herramientas y problemas en ingeniería industrial\n",
    "### g.a.b."
   ]
  },
  {
   "cell_type": "markdown",
   "metadata": {
    "colab_type": "text",
    "id": "0Zzhf41AQOd9"
   },
   "source": [
    "# Nonlinear Models\n",
    "one simply defined recurrence relations can have very\n",
    "complex (chaotic) behaviors, and they are a part of the field of\n",
    "mathematics known as nonlinear analysis.\n",
    "\n",
    "## Logistic difference equation (Discrete Logistic Model)\n",
    "As a population increases, fixed resources must be shared between more and more individuals. A reasonable assumption is that as the population\n",
    "increases, the growth rate declines because of some combination of\n",
    "increased death and decreases of birth. Further there is probably\n",
    "some population level which cannot be exceeded called ${carrying\\ \n",
    "capacity}$. If a population were near the carrying capacity, its\n",
    "growth rate would be zero. If the population were small, the growth\n",
    "rate would be at its largest.\n"
   ]
  },
  {
   "cell_type": "markdown",
   "metadata": {
    "colab_type": "text",
    "id": "IRzYRIIiQOeC"
   },
   "source": [
    "$r(x)$ is defined as the growth rate depending on the value of $x$, the state variable (size of population). The growth rate function $r(x)$ should pass through $(0,R$) and $(K,0)$, where $R$ is the intrinsic growth rate and $K$ is the carrying capacity. The growth rate function for the logistic model is found using the point-slope\n",
    "equation for a line trough  $(0,R$) and $(K,0)$, which is\n",
    "\n",
    "$r(x)-R=-\\frac{R}{K}(x-0)$\n",
    "\n",
    "solving for $r(x)$ yields\n",
    "\n",
    "$r(x)=R-\\frac{Rx}{K}=R(1-\\frac{x}{K})$"
   ]
  },
  {
   "cell_type": "markdown",
   "metadata": {
    "colab_type": "text",
    "id": "hpYy2DdbQOeG"
   },
   "source": [
    "given the growth equation\n",
    "\n",
    "$\\Delta_{x_{(n-1)}}=x_{(n)}-x_{(n-1)}=rx_{(n-1)}$\n",
    "\n",
    "and conisdering that $r$ is not constant but changing according to the avlue of $x$,substituting our expression for $r(x)$ gives us\n",
    "\n",
    "$\\Delta_{x_{(n-1)}}=x_{(n)}-x_{(n-1)}=R\\left(1-\\frac{x_{(n-1)}}{K}\\right)x_{(n-1)}=Rx_{(n-1)}-\\frac{Rx_{(n-1)}^2}{K}$\n",
    "\n",
    "then the dinamic system in discrete time can be defined as:\n",
    "\n",
    "$$x_{(n)}=x_{(n-1)}+\\Delta_{x_{(n-1)}}$$\n",
    "\n",
    "$$x_{(n)}=x_{(n-1)}+R\\left(1-\\frac{x_{(n-1)}}{K}\\right)x_{(n-1)}$$\n",
    "\n",
    "given the state at $n=0$, $x_{(0)}$"
   ]
  },
  {
   "cell_type": "markdown",
   "metadata": {
    "colab_type": "text",
    "id": "5Pk9kSF-QOeP"
   },
   "source": [
    "### Example: Growth of a yeast culture\n",
    "The next data was collected from an experiment measuring the growth of yeast culture"
   ]
  },
  {
   "cell_type": "code",
   "execution_count": 1,
   "metadata": {
    "colab": {},
    "colab_type": "code",
    "id": "sBnEam73QOeR"
   },
   "outputs": [],
   "source": [
    "import pandas as pd\n",
    "import numpy as np\n",
    "import matplotlib.pyplot as plp"
   ]
  },
  {
   "cell_type": "code",
   "execution_count": 2,
   "metadata": {
    "colab": {
     "base_uri": "https://localhost:8080/",
     "height": 74,
     "resources": {
      "http://localhost:8080/nbextensions/google.colab/files.js": {
       "data": "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",
       "headers": [
        [
         "content-type",
         "application/javascript"
        ]
       ],
       "ok": true,
       "status": 200,
       "status_text": "OK"
      }
     }
    },
    "colab_type": "code",
    "executionInfo": {
     "elapsed": 10534,
     "status": "ok",
     "timestamp": 1587658222848,
     "user": {
      "displayName": "Gustavo Alfredo Bula",
      "photoUrl": "https://lh3.googleusercontent.com/a-/AOh14GgjvNa5HdfZeuEkjmAruyGPGKLMQ9exM90ySykcVA=s64",
      "userId": "08035793455689332064"
     },
     "user_tz": 300
    },
    "id": "KWVW9eZGgxLo",
    "outputId": "5f095465-9278-4177-e6b2-ce01655a3504"
   },
   "outputs": [],
   "source": [
    "#For uploading the file using Colaboratory\n",
    "#from google.colab import files\n",
    "#uploaded = files.upload()"
   ]
  },
  {
   "cell_type": "code",
   "execution_count": 3,
   "metadata": {
    "colab": {},
    "colab_type": "code",
    "id": "2cAhboqfQOeb"
   },
   "outputs": [],
   "source": [
    "datos=pd.read_csv(\"datos1.txt\", sep=' ')"
   ]
  },
  {
   "cell_type": "code",
   "execution_count": 4,
   "metadata": {
    "colab": {
     "base_uri": "https://localhost:8080/",
     "height": 36
    },
    "colab_type": "code",
    "executionInfo": {
     "elapsed": 547,
     "status": "ok",
     "timestamp": 1587658238976,
     "user": {
      "displayName": "Gustavo Alfredo Bula",
      "photoUrl": "https://lh3.googleusercontent.com/a-/AOh14GgjvNa5HdfZeuEkjmAruyGPGKLMQ9exM90ySykcVA=s64",
      "userId": "08035793455689332064"
     },
     "user_tz": 300
    },
    "id": "H2wjKD8KoMHT",
    "outputId": "be697650-1889-4a73-c2d4-38fec5c2208e"
   },
   "outputs": [
    {
     "data": {
      "text/plain": [
       "(21, 2)"
      ]
     },
     "execution_count": 4,
     "metadata": {},
     "output_type": "execute_result"
    }
   ],
   "source": [
    "datos.shape"
   ]
  },
  {
   "cell_type": "code",
   "execution_count": 5,
   "metadata": {
    "colab": {
     "base_uri": "https://localhost:8080/",
     "height": 708
    },
    "colab_type": "code",
    "executionInfo": {
     "elapsed": 854,
     "status": "ok",
     "timestamp": 1587658240488,
     "user": {
      "displayName": "Gustavo Alfredo Bula",
      "photoUrl": "https://lh3.googleusercontent.com/a-/AOh14GgjvNa5HdfZeuEkjmAruyGPGKLMQ9exM90ySykcVA=s64",
      "userId": "08035793455689332064"
     },
     "user_tz": 300
    },
    "id": "JpIyZ-F3QOej",
    "outputId": "7b1d932f-eb42-4d02-891a-b35a2d67d639"
   },
   "outputs": [
    {
     "data": {
      "text/html": [
       "<div>\n",
       "<style scoped>\n",
       "    .dataframe tbody tr th:only-of-type {\n",
       "        vertical-align: middle;\n",
       "    }\n",
       "\n",
       "    .dataframe tbody tr th {\n",
       "        vertical-align: top;\n",
       "    }\n",
       "\n",
       "    .dataframe thead th {\n",
       "        text-align: right;\n",
       "    }\n",
       "</style>\n",
       "<table border=\"1\" class=\"dataframe\">\n",
       "  <thead>\n",
       "    <tr style=\"text-align: right;\">\n",
       "      <th></th>\n",
       "      <th>tiempo</th>\n",
       "      <th>pob</th>\n",
       "    </tr>\n",
       "  </thead>\n",
       "  <tbody>\n",
       "    <tr>\n",
       "      <th>0</th>\n",
       "      <td>0</td>\n",
       "      <td>20.000000</td>\n",
       "    </tr>\n",
       "    <tr>\n",
       "      <th>1</th>\n",
       "      <td>1</td>\n",
       "      <td>27.680670</td>\n",
       "    </tr>\n",
       "    <tr>\n",
       "      <th>2</th>\n",
       "      <td>2</td>\n",
       "      <td>37.998363</td>\n",
       "    </tr>\n",
       "    <tr>\n",
       "      <th>3</th>\n",
       "      <td>3</td>\n",
       "      <td>51.967770</td>\n",
       "    </tr>\n",
       "    <tr>\n",
       "      <th>4</th>\n",
       "      <td>4</td>\n",
       "      <td>70.774277</td>\n",
       "    </tr>\n",
       "    <tr>\n",
       "      <th>5</th>\n",
       "      <td>5</td>\n",
       "      <td>95.736130</td>\n",
       "    </tr>\n",
       "    <tr>\n",
       "      <th>6</th>\n",
       "      <td>6</td>\n",
       "      <td>128.403611</td>\n",
       "    </tr>\n",
       "    <tr>\n",
       "      <th>7</th>\n",
       "      <td>7</td>\n",
       "      <td>170.262015</td>\n",
       "    </tr>\n",
       "    <tr>\n",
       "      <th>8</th>\n",
       "      <td>8</td>\n",
       "      <td>222.458555</td>\n",
       "    </tr>\n",
       "    <tr>\n",
       "      <th>9</th>\n",
       "      <td>9</td>\n",
       "      <td>285.366102</td>\n",
       "    </tr>\n",
       "    <tr>\n",
       "      <th>10</th>\n",
       "      <td>10</td>\n",
       "      <td>357.716182</td>\n",
       "    </tr>\n",
       "    <tr>\n",
       "      <th>11</th>\n",
       "      <td>11</td>\n",
       "      <td>436.433226</td>\n",
       "    </tr>\n",
       "    <tr>\n",
       "      <th>12</th>\n",
       "      <td>12</td>\n",
       "      <td>516.706671</td>\n",
       "    </tr>\n",
       "    <tr>\n",
       "      <th>13</th>\n",
       "      <td>13</td>\n",
       "      <td>592.595367</td>\n",
       "    </tr>\n",
       "    <tr>\n",
       "      <th>14</th>\n",
       "      <td>14</td>\n",
       "      <td>658.876987</td>\n",
       "    </tr>\n",
       "    <tr>\n",
       "      <th>15</th>\n",
       "      <td>15</td>\n",
       "      <td>712.432445</td>\n",
       "    </tr>\n",
       "    <tr>\n",
       "      <th>16</th>\n",
       "      <td>16</td>\n",
       "      <td>752.737573</td>\n",
       "    </tr>\n",
       "    <tr>\n",
       "      <th>17</th>\n",
       "      <td>17</td>\n",
       "      <td>781.301935</td>\n",
       "    </tr>\n",
       "    <tr>\n",
       "      <th>18</th>\n",
       "      <td>18</td>\n",
       "      <td>800.680834</td>\n",
       "    </tr>\n",
       "    <tr>\n",
       "      <th>19</th>\n",
       "      <td>19</td>\n",
       "      <td>813.372842</td>\n",
       "    </tr>\n",
       "    <tr>\n",
       "      <th>20</th>\n",
       "      <td>20</td>\n",
       "      <td>821.502361</td>\n",
       "    </tr>\n",
       "  </tbody>\n",
       "</table>\n",
       "</div>"
      ],
      "text/plain": [
       "    tiempo         pob\n",
       "0        0   20.000000\n",
       "1        1   27.680670\n",
       "2        2   37.998363\n",
       "3        3   51.967770\n",
       "4        4   70.774277\n",
       "5        5   95.736130\n",
       "6        6  128.403611\n",
       "7        7  170.262015\n",
       "8        8  222.458555\n",
       "9        9  285.366102\n",
       "10      10  357.716182\n",
       "11      11  436.433226\n",
       "12      12  516.706671\n",
       "13      13  592.595367\n",
       "14      14  658.876987\n",
       "15      15  712.432445\n",
       "16      16  752.737573\n",
       "17      17  781.301935\n",
       "18      18  800.680834\n",
       "19      19  813.372842\n",
       "20      20  821.502361"
      ]
     },
     "execution_count": 5,
     "metadata": {},
     "output_type": "execute_result"
    }
   ],
   "source": [
    "datos"
   ]
  },
  {
   "cell_type": "code",
   "execution_count": null,
   "metadata": {
    "colab": {},
    "colab_type": "code",
    "id": "mJlfAmQcQOeq"
   },
   "outputs": [],
   "source": []
  },
  {
   "cell_type": "markdown",
   "metadata": {
    "colab_type": "text",
    "id": "eooehLBSpQ8-"
   },
   "source": [
    "### Modelo logístico en tiempo discreto\n",
    "We assume that the logistic model in discrete time is adequate for modeling the observed data. That means the mathematical model is:\n",
    "\n",
    "$$x_{(n)}=x_{(n-1)}\\left(R\\left(1-\\frac{x_{(n-1)}}{K}\\right)+1\\right)$$\n",
    "$$x_{(0)}$$\n",
    "\n",
    "The values of parameters <b>$K$</b> and <b>$R$</b> have to be determined"
   ]
  },
  {
   "cell_type": "markdown",
   "metadata": {},
   "source": [
    "First, we have to corroborate that the logistic model is appropriate by plotting $n$ versus $P_{(n)}$ and $P_{(n)}$ versus $\\Delta{P_{(n)}}$. In this case $P_{(n)}$ is the state variable, the growth of yeast culture"
   ]
  },
  {
   "cell_type": "code",
   "execution_count": 6,
   "metadata": {
    "colab": {
     "base_uri": "https://localhost:8080/",
     "height": 284
    },
    "colab_type": "code",
    "executionInfo": {
     "elapsed": 894,
     "status": "ok",
     "timestamp": 1587658311335,
     "user": {
      "displayName": "Gustavo Alfredo Bula",
      "photoUrl": "https://lh3.googleusercontent.com/a-/AOh14GgjvNa5HdfZeuEkjmAruyGPGKLMQ9exM90ySykcVA=s64",
      "userId": "08035793455689332064"
     },
     "user_tz": 300
    },
    "id": "b2gKXROYQOey",
    "outputId": "532e2201-bbfc-4261-a827-b1cdec71ae50"
   },
   "outputs": [
    {
     "data": {
      "text/plain": [
       "[<matplotlib.lines.Line2D at 0x274c72c6d68>]"
      ]
     },
     "execution_count": 6,
     "metadata": {},
     "output_type": "execute_result"
    },
    {
     "data": {
      "image/png": "[encoded data removed]",
      "text/plain": [
       "<Figure size 432x288 with 1 Axes>"
      ]
     },
     "metadata": {
      "needs_background": "light"
     },
     "output_type": "display_data"
    }
   ],
   "source": [
    "plp.plot(datos[\"tiempo\"],datos[\"pob\"],\"bo\")"
   ]
  },
  {
   "cell_type": "markdown",
   "metadata": {
    "colab_type": "text",
    "id": "lJ7wEcggQOfr"
   },
   "source": [
    "Given <b>R</b> is the intrinsic growth rate\n",
    "\n",
    "$\\Delta x_{(n)}=x_{(n)}R-x_{(n)}^2\\frac{R}{K}$\n",
    "\n",
    "The maximum value is obtained when $x_{(n)}=K/2$\n",
    "\n",
    "$\\Delta x^{'}_{(n)}=R-2x_{(n)}\\frac{R}{K}$\n",
    "\n",
    "$\\Delta  x^{'}_{(n)}=0$\n",
    "\n",
    "$x_{(n)}=K/2$\n",
    "\n",
    "$\\Delta x^{''}_{(n)}=-2\\frac{R}{K}$"
   ]
  },
  {
   "cell_type": "code",
   "execution_count": 7,
   "metadata": {
    "colab": {
     "base_uri": "https://localhost:8080/",
     "height": 129
    },
    "colab_type": "code",
    "executionInfo": {
     "elapsed": 913,
     "status": "ok",
     "timestamp": 1587658406702,
     "user": {
      "displayName": "Gustavo Alfredo Bula",
      "photoUrl": "https://lh3.googleusercontent.com/a-/AOh14GgjvNa5HdfZeuEkjmAruyGPGKLMQ9exM90ySykcVA=s64",
      "userId": "08035793455689332064"
     },
     "user_tz": 300
    },
    "id": "ywhdQGJOQOfK",
    "outputId": "bf787c1e-9de7-431c-f13d-47b3c8ee1d2f"
   },
   "outputs": [
    {
     "name": "stdout",
     "output_type": "stream",
     "text": [
      "[ 20.          27.68066988  37.99836305  51.96776983  70.77427663\n",
      "  95.73613043 128.40361111 170.26201509 222.45855455 285.36610172\n",
      " 357.71618223 436.43322606 516.70667055 592.59536723 658.87698711\n",
      " 712.43244535 752.737573   781.30193458 800.68083407 813.37284237\n",
      " 821.50236112]\n",
      "21\n"
     ]
    }
   ],
   "source": [
    "p_n=datos[\"pob\"].values\n",
    "print(p_n)\n",
    "print(len(p_n))"
   ]
  },
  {
   "cell_type": "code",
   "execution_count": 8,
   "metadata": {
    "colab": {
     "base_uri": "https://localhost:8080/",
     "height": 92
    },
    "colab_type": "code",
    "executionInfo": {
     "elapsed": 1036,
     "status": "ok",
     "timestamp": 1587658408348,
     "user": {
      "displayName": "Gustavo Alfredo Bula",
      "photoUrl": "https://lh3.googleusercontent.com/a-/AOh14GgjvNa5HdfZeuEkjmAruyGPGKLMQ9exM90ySykcVA=s64",
      "userId": "08035793455689332064"
     },
     "user_tz": 300
    },
    "id": "3eURyFw4QOfR",
    "outputId": "4024e4c3-b11d-4996-b192-0918e005393c"
   },
   "outputs": [
    {
     "name": "stdout",
     "output_type": "stream",
     "text": [
      "[ 7.68066988 10.31769317 13.96940678 18.8065068  24.96185379 32.66748069\n",
      " 41.85840398 52.19653946 62.90754716 72.35008051 78.71704382 80.2734445\n",
      " 75.88869668 66.28161988 53.55545824 40.30512765 28.56436158 19.37889949\n",
      " 12.6920083   8.12951875]\n"
     ]
    }
   ],
   "source": [
    "delta_pn=np.zeros(len(p_n)-1)\n",
    "for i in range(len(p_n)-1):\n",
    "    delta_pn[i]=p_n[i+1]-p_n[i] \n",
    "print(delta_pn)    "
   ]
  },
  {
   "cell_type": "code",
   "execution_count": 9,
   "metadata": {
    "colab": {
     "base_uri": "https://localhost:8080/",
     "height": 284
    },
    "colab_type": "code",
    "executionInfo": {
     "elapsed": 799,
     "status": "ok",
     "timestamp": 1587658412054,
     "user": {
      "displayName": "Gustavo Alfredo Bula",
      "photoUrl": "https://lh3.googleusercontent.com/a-/AOh14GgjvNa5HdfZeuEkjmAruyGPGKLMQ9exM90ySykcVA=s64",
      "userId": "08035793455689332064"
     },
     "user_tz": 300
    },
    "id": "X4SnrW_WQOff",
    "outputId": "dc59565b-b5eb-4499-d118-02d74a2247e0"
   },
   "outputs": [
    {
     "data": {
      "text/plain": [
       "[<matplotlib.lines.Line2D at 0x274c7385400>]"
      ]
     },
     "execution_count": 9,
     "metadata": {},
     "output_type": "execute_result"
    },
    {
     "data": {
      "image/png": "[encoded data removed]",
      "text/plain": [
       "<Figure size 432x288 with 1 Axes>"
      ]
     },
     "metadata": {
      "needs_background": "light"
     },
     "output_type": "display_data"
    }
   ],
   "source": [
    "plp.plot(p_n[:-1],delta_pn,\"ro\")"
   ]
  },
  {
   "cell_type": "code",
   "execution_count": 10,
   "metadata": {
    "colab": {},
    "colab_type": "code",
    "id": "Bomql0j9QOfm"
   },
   "outputs": [],
   "source": [
    "plp.show()"
   ]
  },
  {
   "cell_type": "markdown",
   "metadata": {
    "colab": {
     "base_uri": "https://localhost:8080/",
     "height": 92
    },
    "colab_type": "code",
    "executionInfo": {
     "elapsed": 745,
     "status": "ok",
     "timestamp": 1587658448852,
     "user": {
      "displayName": "Gustavo Alfredo Bula",
      "photoUrl": "https://lh3.googleusercontent.com/a-/AOh14GgjvNa5HdfZeuEkjmAruyGPGKLMQ9exM90ySykcVA=s64",
      "userId": "08035793455689332064"
     },
     "user_tz": 300
    },
    "id": "zSUtJn5RQOfu",
    "outputId": "48930f1e-e495-4774-fc5b-cddc4645e8c9"
   },
   "source": [
    "In order to compute the values of $R$ and $K$, first, a values range is defined for $K$ based on the maximum value observed of the state variable $P_{(n)}$ and the fact that the maximux value for the growth rate is obtained when the state variable values  $P_{(n)}$ is equal to $K/2$"
   ]
  },
  {
   "cell_type": "code",
   "execution_count": 11,
   "metadata": {
    "colab": {
     "base_uri": "https://localhost:8080/",
     "height": 36
    },
    "colab_type": "code",
    "executionInfo": {
     "elapsed": 826,
     "status": "ok",
     "timestamp": 1587659579348,
     "user": {
      "displayName": "Gustavo Alfredo Bula",
      "photoUrl": "https://lh3.googleusercontent.com/a-/AOh14GgjvNa5HdfZeuEkjmAruyGPGKLMQ9exM90ySykcVA=s64",
      "userId": "08035793455689332064"
     },
     "user_tz": 300
    },
    "id": "RcysH4AdQOf0",
    "outputId": "a7c2c3ca-ef97-44f7-ef47-4465b73f988b"
   },
   "outputs": [
    {
     "name": "stdout",
     "output_type": "stream",
     "text": [
      "1033.4133411096468\n"
     ]
    }
   ],
   "source": [
    "k_max=2*p_n[np.argmax(delta_pn)+1]\n",
    "print(k_max)"
   ]
  },
  {
   "cell_type": "code",
   "execution_count": 12,
   "metadata": {
    "colab": {
     "base_uri": "https://localhost:8080/",
     "height": 36
    },
    "colab_type": "code",
    "executionInfo": {
     "elapsed": 532,
     "status": "ok",
     "timestamp": 1587659580424,
     "user": {
      "displayName": "Gustavo Alfredo Bula",
      "photoUrl": "https://lh3.googleusercontent.com/a-/AOh14GgjvNa5HdfZeuEkjmAruyGPGKLMQ9exM90ySykcVA=s64",
      "userId": "08035793455689332064"
     },
     "user_tz": 300
    },
    "id": "mkGgVgxZQOf6",
    "outputId": "4fefe070-3b41-40f4-9bcd-2692c419697e"
   },
   "outputs": [
    {
     "name": "stdout",
     "output_type": "stream",
     "text": [
      "821.5023611206648\n"
     ]
    }
   ],
   "source": [
    "k_min=np.max([p_n[-1],2*p_n[[np.argmax(delta_pn)-1]]])\n",
    "print(k_min)"
   ]
  },
  {
   "cell_type": "code",
   "execution_count": 13,
   "metadata": {
    "colab": {
     "base_uri": "https://localhost:8080/",
     "height": 36
    },
    "colab_type": "code",
    "executionInfo": {
     "elapsed": 829,
     "status": "ok",
     "timestamp": 1587658593988,
     "user": {
      "displayName": "Gustavo Alfredo Bula",
      "photoUrl": "https://lh3.googleusercontent.com/a-/AOh14GgjvNa5HdfZeuEkjmAruyGPGKLMQ9exM90ySykcVA=s64",
      "userId": "08035793455689332064"
     },
     "user_tz": 300
    },
    "id": "MnW1coeD00_2",
    "outputId": "7e32928f-3044-447f-d527-a7c271200f9d"
   },
   "outputs": [
    {
     "data": {
      "text/plain": [
       "array([715.43236446])"
      ]
     },
     "execution_count": 13,
     "metadata": {},
     "output_type": "execute_result"
    }
   ],
   "source": [
    "p_n[[np.argmax(delta_pn)-1]]*2"
   ]
  },
  {
   "cell_type": "code",
   "execution_count": 14,
   "metadata": {
    "colab": {
     "base_uri": "https://localhost:8080/",
     "height": 36
    },
    "colab_type": "code",
    "executionInfo": {
     "elapsed": 975,
     "status": "ok",
     "timestamp": 1587658991190,
     "user": {
      "displayName": "Gustavo Alfredo Bula",
      "photoUrl": "https://lh3.googleusercontent.com/a-/AOh14GgjvNa5HdfZeuEkjmAruyGPGKLMQ9exM90ySykcVA=s64",
      "userId": "08035793455689332064"
     },
     "user_tz": 300
    },
    "id": "lMx0rTN6QOgC",
    "outputId": "0373b89e-c2e9-4ee7-b244-10766fc4819f"
   },
   "outputs": [
    {
     "name": "stdout",
     "output_type": "stream",
     "text": [
      "821.5023611206648   1033.4133411096468\n"
     ]
    }
   ],
   "source": [
    "print(k_min,' ',k_max)"
   ]
  },
  {
   "cell_type": "markdown",
   "metadata": {},
   "source": [
    "Now for estimating the values of $K$ and $R$ we use a linear model relationating the change rate with the intrinsic growth rate $R$"
   ]
  },
  {
   "cell_type": "markdown",
   "metadata": {
    "colab_type": "text",
    "id": "LPTh0F1_0XPu"
   },
   "source": [
    "$$\\Delta_{x_{(n)}}=r(x)=my$$\n",
    "\n",
    "where $y$ is\n",
    "\n",
    "$x_{(n)}(1-\\frac{x_{(n)}}{K})$"
   ]
  },
  {
   "cell_type": "markdown",
   "metadata": {
    "colab_type": "text",
    "id": "nqiAXPqfQOgG"
   },
   "source": [
    "The growth rate function for the logistic model is\n",
    "\n",
    "$\\Delta r(x_{(n)})=x_{(n)}\\frac{R}{K}(K-x_{(n)})$\n",
    "\n",
    "redefine $y$ as\n",
    "\n",
    "$y=x_{(n)}(1-\\frac{x_{(n)}}{K})$\n",
    "then:\n",
    "\n",
    "$r(x_{(n)})=Ry$\n",
    "\n",
    "## Procedure for approximating the values of $K$ y $R$\n",
    "\n",
    "given the values range defined for $K$\n",
    "\n",
    "$K=\\{K_{min},K_{max}\\}$\n",
    "\n",
    "The value of $\\hat{K}$ is fixed as the interval middle point\n",
    "\n",
    "$\\hat{K}=\\frac{K_{min}+K_{max}}{2}$\n",
    "\n",
    "We compute the values of the variable\n",
    "\n",
    "$y=x_{(n)}(1-\\frac{x_{(n)}}{\\hat{K}})$\n",
    "\n",
    "We have the growth rate function\n",
    "\n",
    "$r(x_{(n)})=Ry$\n",
    "\n",
    "The estimated values of $K$ and $R$ are obtained using linear estimation. Depending on the results the values of $K_{min}$ and $K_{max}$ are updated, and the whole estimation process is redone. Next the first iteration is shown\n"
   ]
  },
  {
   "cell_type": "code",
   "execution_count": 15,
   "metadata": {
    "colab": {
     "base_uri": "https://localhost:8080/",
     "height": 36
    },
    "colab_type": "code",
    "executionInfo": {
     "elapsed": 828,
     "status": "ok",
     "timestamp": 1587664250030,
     "user": {
      "displayName": "Gustavo Alfredo Bula",
      "photoUrl": "https://lh3.googleusercontent.com/a-/AOh14GgjvNa5HdfZeuEkjmAruyGPGKLMQ9exM90ySykcVA=s64",
      "userId": "08035793455689332064"
     },
     "user_tz": 300
    },
    "id": "FWVLBY664r4j",
    "outputId": "8d90339b-139b-47c9-ff54-012deeacb002"
   },
   "outputs": [
    {
     "name": "stdout",
     "output_type": "stream",
     "text": [
      "821.5023611206648 1033.4133411096468\n"
     ]
    }
   ],
   "source": [
    "k_min_aux=k_min\n",
    "k_max_aux=k_max\n",
    "print(k_min_aux,k_max_aux)"
   ]
  },
  {
   "cell_type": "code",
   "execution_count": 16,
   "metadata": {
    "colab": {
     "base_uri": "https://localhost:8080/",
     "height": 36
    },
    "colab_type": "code",
    "executionInfo": {
     "elapsed": 805,
     "status": "ok",
     "timestamp": 1587664252276,
     "user": {
      "displayName": "Gustavo Alfredo Bula",
      "photoUrl": "https://lh3.googleusercontent.com/a-/AOh14GgjvNa5HdfZeuEkjmAruyGPGKLMQ9exM90ySykcVA=s64",
      "userId": "08035793455689332064"
     },
     "user_tz": 300
    },
    "id": "md_e6Wkt4sS6",
    "outputId": "08e3e4c2-7489-4440-8889-ad8e6b13dffc"
   },
   "outputs": [
    {
     "name": "stdout",
     "output_type": "stream",
     "text": [
      "927.4578511151558\n"
     ]
    }
   ],
   "source": [
    "k_medio=(k_max_aux+k_min_aux)/2\n",
    "print(k_medio)"
   ]
  },
  {
   "cell_type": "code",
   "execution_count": 17,
   "metadata": {
    "colab": {
     "base_uri": "https://localhost:8080/",
     "height": 36
    },
    "colab_type": "code",
    "executionInfo": {
     "elapsed": 777,
     "status": "ok",
     "timestamp": 1587664294160,
     "user": {
      "displayName": "Gustavo Alfredo Bula",
      "photoUrl": "https://lh3.googleusercontent.com/a-/AOh14GgjvNa5HdfZeuEkjmAruyGPGKLMQ9exM90ySykcVA=s64",
      "userId": "08035793455689332064"
     },
     "user_tz": 300
    },
    "id": "dpDD8Xl4QOgK",
    "outputId": "98735b0e-f8b6-45e7-ae84-15e9da28eafb"
   },
   "outputs": [
    {
     "name": "stdout",
     "output_type": "stream",
     "text": [
      "927.4578511151558\n"
     ]
    }
   ],
   "source": [
    "k_est=k_medio#(k_min_aux+k_medio)/2 and (k_max_aux+k_medio)/2 are used in next iterations\n",
    "print(k_est)"
   ]
  },
  {
   "cell_type": "code",
   "execution_count": 18,
   "metadata": {
    "colab": {},
    "colab_type": "code",
    "id": "20xhKFb3QOgO"
   },
   "outputs": [],
   "source": [
    "y=(1-p_n/k_est)*p_n"
   ]
  },
  {
   "cell_type": "code",
   "execution_count": 19,
   "metadata": {
    "colab": {
     "base_uri": "https://localhost:8080/",
     "height": 265
    },
    "colab_type": "code",
    "executionInfo": {
     "elapsed": 908,
     "status": "ok",
     "timestamp": 1587664296779,
     "user": {
      "displayName": "Gustavo Alfredo Bula",
      "photoUrl": "https://lh3.googleusercontent.com/a-/AOh14GgjvNa5HdfZeuEkjmAruyGPGKLMQ9exM90ySykcVA=s64",
      "userId": "08035793455689332064"
     },
     "user_tz": 300
    },
    "id": "i6oeHi5AQOgS",
    "outputId": "31dded01-20e1-4177-8401-d353139dca4f"
   },
   "outputs": [
    {
     "data": {
      "image/png": "[encoded data removed]",
      "text/plain": [
       "<Figure size 432x288 with 1 Axes>"
      ]
     },
     "metadata": {
      "needs_background": "light"
     },
     "output_type": "display_data"
    }
   ],
   "source": [
    "plp.scatter(y[0:-1],delta_pn)\n",
    "plp.show()"
   ]
  },
  {
   "cell_type": "code",
   "execution_count": 20,
   "metadata": {
    "colab": {
     "base_uri": "https://localhost:8080/",
     "height": 111
    },
    "colab_type": "code",
    "executionInfo": {
     "elapsed": 657,
     "status": "ok",
     "timestamp": 1587664297942,
     "user": {
      "displayName": "Gustavo Alfredo Bula",
      "photoUrl": "https://lh3.googleusercontent.com/a-/AOh14GgjvNa5HdfZeuEkjmAruyGPGKLMQ9exM90ySykcVA=s64",
      "userId": "08035793455689332064"
     },
     "user_tz": 300
    },
    "id": "8u-0mKAyQOgc",
    "outputId": "792311f1-0d74-41a0-c713-d8a161059684"
   },
   "outputs": [
    {
     "data": {
      "text/plain": [
       "array([ 19.56871355,  26.85451969,  36.44155312,  49.05588645,\n",
       "        65.37349402,  85.85384127, 110.62653658, 139.00544236,\n",
       "       169.10000199, 197.5628534 , 219.74671346, 231.06113224,\n",
       "       228.83829673, 213.95900242, 190.8030109 , 165.17308626,\n",
       "       141.80538549, 123.12354702, 109.44748339, 100.05160636])"
      ]
     },
     "execution_count": 20,
     "metadata": {},
     "output_type": "execute_result"
    }
   ],
   "source": [
    "y[0:-1]"
   ]
  },
  {
   "cell_type": "code",
   "execution_count": 21,
   "metadata": {
    "colab": {},
    "colab_type": "code",
    "id": "66xS2NgmQOgi"
   },
   "outputs": [],
   "source": [
    "A = np.column_stack((y[0:-1], np.ones(len(delta_pn))))"
   ]
  },
  {
   "cell_type": "code",
   "execution_count": 22,
   "metadata": {
    "colab": {
     "base_uri": "https://localhost:8080/",
     "height": 391
    },
    "colab_type": "code",
    "executionInfo": {
     "elapsed": 4449,
     "status": "ok",
     "timestamp": 1587664302972,
     "user": {
      "displayName": "Gustavo Alfredo Bula",
      "photoUrl": "https://lh3.googleusercontent.com/a-/AOh14GgjvNa5HdfZeuEkjmAruyGPGKLMQ9exM90ySykcVA=s64",
      "userId": "08035793455689332064"
     },
     "user_tz": 300
    },
    "id": "fK1SyMP1QOgp",
    "outputId": "71eee338-4872-4f14-fe42-4babfd077822"
   },
   "outputs": [
    {
     "data": {
      "text/plain": [
       "array([[ 19.56871355,   1.        ],\n",
       "       [ 26.85451969,   1.        ],\n",
       "       [ 36.44155312,   1.        ],\n",
       "       [ 49.05588645,   1.        ],\n",
       "       [ 65.37349402,   1.        ],\n",
       "       [ 85.85384127,   1.        ],\n",
       "       [110.62653658,   1.        ],\n",
       "       [139.00544236,   1.        ],\n",
       "       [169.10000199,   1.        ],\n",
       "       [197.5628534 ,   1.        ],\n",
       "       [219.74671346,   1.        ],\n",
       "       [231.06113224,   1.        ],\n",
       "       [228.83829673,   1.        ],\n",
       "       [213.95900242,   1.        ],\n",
       "       [190.8030109 ,   1.        ],\n",
       "       [165.17308626,   1.        ],\n",
       "       [141.80538549,   1.        ],\n",
       "       [123.12354702,   1.        ],\n",
       "       [109.44748339,   1.        ],\n",
       "       [100.05160636,   1.        ]])"
      ]
     },
     "execution_count": 22,
     "metadata": {},
     "output_type": "execute_result"
    }
   ],
   "source": [
    "A"
   ]
  },
  {
   "cell_type": "markdown",
   "metadata": {
    "colab_type": "text",
    "id": "H2XKBtWSAMI6"
   },
   "source": [
    "$$SCE=\\sum\\limits_{i=1}^{n}(\\Delta_{p_n}-\\hat{\\Delta}_{p_n})^2$$\n",
    "$$\\hat{\\Delta}_{p_n}=my+c$$"
   ]
  },
  {
   "cell_type": "code",
   "execution_count": 23,
   "metadata": {
    "colab": {
     "base_uri": "https://localhost:8080/",
     "height": 93
    },
    "colab_type": "code",
    "executionInfo": {
     "elapsed": 1135,
     "status": "ok",
     "timestamp": 1587664305074,
     "user": {
      "displayName": "Gustavo Alfredo Bula",
      "photoUrl": "https://lh3.googleusercontent.com/a-/AOh14GgjvNa5HdfZeuEkjmAruyGPGKLMQ9exM90ySykcVA=s64",
      "userId": "08035793455689332064"
     },
     "user_tz": 300
    },
    "id": "NyDSn9YPQOgu",
    "outputId": "395920ed-104d-47be-bb3f-9c76774583a9"
   },
   "outputs": [],
   "source": [
    "popt,res,rank,val= np.linalg.lstsq(A, delta_pn, rcond=None)"
   ]
  },
  {
   "cell_type": "code",
   "execution_count": 24,
   "metadata": {
    "colab": {
     "base_uri": "https://localhost:8080/",
     "height": 36
    },
    "colab_type": "code",
    "executionInfo": {
     "elapsed": 851,
     "status": "ok",
     "timestamp": 1587664307005,
     "user": {
      "displayName": "Gustavo Alfredo Bula",
      "photoUrl": "https://lh3.googleusercontent.com/a-/AOh14GgjvNa5HdfZeuEkjmAruyGPGKLMQ9exM90ySykcVA=s64",
      "userId": "08035793455689332064"
     },
     "user_tz": 300
    },
    "id": "Ovjfnp7MQOgy",
    "outputId": "e23ebc1b-1413-411a-e5cf-82f2a0c2c509"
   },
   "outputs": [
    {
     "name": "stdout",
     "output_type": "stream",
     "text": [
      "0.3345842025238874 -3.813163492490862\n"
     ]
    }
   ],
   "source": [
    "m,c=popt\n",
    "print(m,c)"
   ]
  },
  {
   "cell_type": "markdown",
   "metadata": {},
   "source": [
    "The value of $m$ corresponds to the estimation of $R$ and the value of $c$ is expected to be close to zero. The procedure has to be carry on several times."
   ]
  },
  {
   "cell_type": "code",
   "execution_count": 25,
   "metadata": {
    "colab": {
     "base_uri": "https://localhost:8080/",
     "height": 36
    },
    "colab_type": "code",
    "executionInfo": {
     "elapsed": 1046,
     "status": "ok",
     "timestamp": 1587661085054,
     "user": {
      "displayName": "Gustavo Alfredo Bula",
      "photoUrl": "https://lh3.googleusercontent.com/a-/AOh14GgjvNa5HdfZeuEkjmAruyGPGKLMQ9exM90ySykcVA=s64",
      "userId": "08035793455689332064"
     },
     "user_tz": 300
    },
    "id": "_0d2R5iD9HUJ",
    "outputId": "234676cf-629b-4986-b586-d15285dca314"
   },
   "outputs": [
    {
     "data": {
      "text/plain": [
       "927.4578511151558"
      ]
     },
     "execution_count": 25,
     "metadata": {},
     "output_type": "execute_result"
    }
   ],
   "source": [
    "k_est # "
   ]
  },
  {
   "cell_type": "markdown",
   "metadata": {},
   "source": [
    "The linear model is used for estimating $\\Delta_{P_{(n)}}$"
   ]
  },
  {
   "cell_type": "code",
   "execution_count": 26,
   "metadata": {
    "colab": {
     "base_uri": "https://localhost:8080/",
     "height": 92
    },
    "colab_type": "code",
    "executionInfo": {
     "elapsed": 619,
     "status": "ok",
     "timestamp": 1587660813830,
     "user": {
      "displayName": "Gustavo Alfredo Bula",
      "photoUrl": "https://lh3.googleusercontent.com/a-/AOh14GgjvNa5HdfZeuEkjmAruyGPGKLMQ9exM90ySykcVA=s64",
      "userId": "08035793455689332064"
     },
     "user_tz": 300
    },
    "id": "dmoMJmBDQOg4",
    "outputId": "864409ae-fb36-4102-b75d-c3c8c8615454"
   },
   "outputs": [
    {
     "data": {
      "text/plain": [
       "array([ 6.54738242,  8.98509805, 12.19276799, 16.41332465, 21.87293836,\n",
       "       28.72533901, 37.01389152, 46.50902508, 56.57818931, 66.10140975,\n",
       "       73.52377888, 77.30940467, 76.56567902, 71.5873022 , 63.83967324,\n",
       "       55.26430534, 47.44584182, 41.19519379, 36.61939895, 33.47568693])"
      ]
     },
     "execution_count": 26,
     "metadata": {},
     "output_type": "execute_result"
    }
   ],
   "source": [
    "delta_pn_est=m*y[0:-1]\n",
    "delta_pn_est"
   ]
  },
  {
   "cell_type": "code",
   "execution_count": 27,
   "metadata": {
    "colab": {
     "base_uri": "https://localhost:8080/",
     "height": 92
    },
    "colab_type": "code",
    "executionInfo": {
     "elapsed": 781,
     "status": "ok",
     "timestamp": 1587660819251,
     "user": {
      "displayName": "Gustavo Alfredo Bula",
      "photoUrl": "https://lh3.googleusercontent.com/a-/AOh14GgjvNa5HdfZeuEkjmAruyGPGKLMQ9exM90ySykcVA=s64",
      "userId": "08035793455689332064"
     },
     "user_tz": 300
    },
    "id": "PLm0i_ikQOg7",
    "outputId": "20ccbe6f-5e30-406b-fb51-9fc53cc83654"
   },
   "outputs": [
    {
     "data": {
      "text/plain": [
       "array([ 7.68066988, 10.31769317, 13.96940678, 18.8065068 , 24.96185379,\n",
       "       32.66748069, 41.85840398, 52.19653946, 62.90754716, 72.35008051,\n",
       "       78.71704382, 80.2734445 , 75.88869668, 66.28161988, 53.55545824,\n",
       "       40.30512765, 28.56436158, 19.37889949, 12.6920083 ,  8.12951875])"
      ]
     },
     "execution_count": 27,
     "metadata": {},
     "output_type": "execute_result"
    }
   ],
   "source": [
    "delta_pn"
   ]
  },
  {
   "cell_type": "code",
   "execution_count": 28,
   "metadata": {
    "colab": {
     "base_uri": "https://localhost:8080/",
     "height": 284
    },
    "colab_type": "code",
    "executionInfo": {
     "elapsed": 1171,
     "status": "ok",
     "timestamp": 1587660900034,
     "user": {
      "displayName": "Gustavo Alfredo Bula",
      "photoUrl": "https://lh3.googleusercontent.com/a-/AOh14GgjvNa5HdfZeuEkjmAruyGPGKLMQ9exM90ySykcVA=s64",
      "userId": "08035793455689332064"
     },
     "user_tz": 300
    },
    "id": "po0Mu8rs9gwN",
    "outputId": "eaff67bf-7ffd-4eee-8d46-863f10f89929"
   },
   "outputs": [
    {
     "data": {
      "text/plain": [
       "[<matplotlib.lines.Line2D at 0x274c742a710>]"
      ]
     },
     "execution_count": 28,
     "metadata": {},
     "output_type": "execute_result"
    },
    {
     "data": {
      "image/png": "[encoded data removed]",
      "text/plain": [
       "<Figure size 432x288 with 1 Axes>"
      ]
     },
     "metadata": {
      "needs_background": "light"
     },
     "output_type": "display_data"
    }
   ],
   "source": [
    "plp.plot(p_n[:-1],delta_pn,\"ro\")\n",
    "plp.plot(p_n[:-1],delta_pn_est,\"bo\")"
   ]
  },
  {
   "cell_type": "markdown",
   "metadata": {},
   "source": [
    "The values of the state variable are estimated using the values of $\\hat{K}=K\\_est$ and $\\hat{R}=m$"
   ]
  },
  {
   "cell_type": "code",
   "execution_count": 29,
   "metadata": {
    "colab": {},
    "colab_type": "code",
    "id": "bsMfGvFUQOhV"
   },
   "outputs": [],
   "source": [
    "pob_est=np.zeros(len(p_n))"
   ]
  },
  {
   "cell_type": "code",
   "execution_count": 30,
   "metadata": {
    "colab": {
     "base_uri": "https://localhost:8080/",
     "height": 36
    },
    "colab_type": "code",
    "executionInfo": {
     "elapsed": 800,
     "status": "ok",
     "timestamp": 1587661172936,
     "user": {
      "displayName": "Gustavo Alfredo Bula",
      "photoUrl": "https://lh3.googleusercontent.com/a-/AOh14GgjvNa5HdfZeuEkjmAruyGPGKLMQ9exM90ySykcVA=s64",
      "userId": "08035793455689332064"
     },
     "user_tz": 300
    },
    "id": "9rhv-olhQOhZ",
    "outputId": "d84a5372-09a6-4530-af7f-5c27c1f0c70f"
   },
   "outputs": [
    {
     "name": "stdout",
     "output_type": "stream",
     "text": [
      "20.0\n"
     ]
    }
   ],
   "source": [
    "pob_est[0]=p_n[0]\n",
    "print(pob_est[0])"
   ]
  },
  {
   "cell_type": "markdown",
   "metadata": {
    "colab_type": "text",
    "id": "6UrmsLlE-1c_"
   },
   "source": [
    "Modelo logístico en tiempo discreto\n",
    "$$P_{(n)}=P_{(n-1)}\\left(\\hat{R}\\left(1-\\frac{P_{(n-1)}}{\\hat{K}}\\right)+1\\right)$$\n",
    "$$P_{(0)}=20$$"
   ]
  },
  {
   "cell_type": "code",
   "execution_count": 31,
   "metadata": {
    "colab": {},
    "colab_type": "code",
    "id": "Wgfp6BnmQOhg"
   },
   "outputs": [],
   "source": [
    "for i in range(1,len(p_n)):\n",
    "    pob_est[i]=pob_est[i-1]+m*(1-pob_est[i-1]/k_est)*pob_est[i-1]"
   ]
  },
  {
   "cell_type": "code",
   "execution_count": 32,
   "metadata": {
    "colab": {
     "base_uri": "https://localhost:8080/",
     "height": 129
    },
    "colab_type": "code",
    "executionInfo": {
     "elapsed": 915,
     "status": "ok",
     "timestamp": 1587661279652,
     "user": {
      "displayName": "Gustavo Alfredo Bula",
      "photoUrl": "https://lh3.googleusercontent.com/a-/AOh14GgjvNa5HdfZeuEkjmAruyGPGKLMQ9exM90ySykcVA=s64",
      "userId": "08035793455689332064"
     },
     "user_tz": 300
    },
    "id": "j6-77GdXQOhi",
    "outputId": "c5521a83-e736-482c-92fc-a1c9f22124ad"
   },
   "outputs": [
    {
     "data": {
      "text/plain": [
       "array([ 20.        ,  26.54738242,  35.17547088,  46.49826177,\n",
       "        61.27586342,  80.42326463, 104.99829665, 136.15188333,\n",
       "       175.01873331, 222.52677749, 279.11684128, 344.39994363,\n",
       "       416.84120624, 493.62628984, 570.88201532, 644.31810105,\n",
       "       710.13121296, 765.80654473, 810.46560108, 844.67165138,\n",
       "       869.89815813])"
      ]
     },
     "execution_count": 32,
     "metadata": {},
     "output_type": "execute_result"
    }
   ],
   "source": [
    "pob_est"
   ]
  },
  {
   "cell_type": "code",
   "execution_count": 33,
   "metadata": {
    "colab": {},
    "colab_type": "code",
    "id": "NxXLyTMa_VTF"
   },
   "outputs": [],
   "source": [
    "n=datos[\"tiempo\"].values"
   ]
  },
  {
   "cell_type": "code",
   "execution_count": 34,
   "metadata": {
    "colab": {
     "base_uri": "https://localhost:8080/",
     "height": 284
    },
    "colab_type": "code",
    "executionInfo": {
     "elapsed": 830,
     "status": "ok",
     "timestamp": 1587661364221,
     "user": {
      "displayName": "Gustavo Alfredo Bula",
      "photoUrl": "https://lh3.googleusercontent.com/a-/AOh14GgjvNa5HdfZeuEkjmAruyGPGKLMQ9exM90ySykcVA=s64",
      "userId": "08035793455689332064"
     },
     "user_tz": 300
    },
    "id": "yXzijKuEQOhp",
    "outputId": "0b64bcc3-2718-4893-81c4-e8d99f60f69f"
   },
   "outputs": [
    {
     "data": {
      "text/plain": [
       "[<matplotlib.lines.Line2D at 0x274c748f358>]"
      ]
     },
     "execution_count": 34,
     "metadata": {},
     "output_type": "execute_result"
    },
    {
     "data": {
      "image/png": "[encoded data removed]",
      "text/plain": [
       "<Figure size 432x288 with 1 Axes>"
      ]
     },
     "metadata": {
      "needs_background": "light"
     },
     "output_type": "display_data"
    }
   ],
   "source": [
    "plp.plot(n,pob_est,\"ro\")\n",
    "plp.plot(n,p_n,\"bo\")"
   ]
  },
  {
   "cell_type": "code",
   "execution_count": 35,
   "metadata": {
    "colab": {},
    "colab_type": "code",
    "id": "J7EEgVm_QOiB",
    "outputId": "06c8d99b-42c8-4825-9f68-fc4efab16fac"
   },
   "outputs": [
    {
     "name": "stdout",
     "output_type": "stream",
     "text": [
      "927.4578511151558 0.3345842025238874\n"
     ]
    }
   ],
   "source": [
    "print(k_est, m)"
   ]
  },
  {
   "cell_type": "markdown",
   "metadata": {
    "colab": {},
    "colab_type": "code",
    "id": "ysq0R9R-QOiZ",
    "outputId": "cdbd8b46-771e-49b4-b048-21b12a65b253"
   },
   "source": [
    "Now, the values of $K$ and $R$ are estimated by minimizing the maximum absolute deviation"
   ]
  },
  {
   "cell_type": "markdown",
   "metadata": {
    "colab_type": "text",
    "id": "HYnArUgEEVcE"
   },
   "source": [
    "Máxima desviación absoluta\n",
    "$$MDA=\\max\\limits_{i=1\\cdots n}(|\\Delta_{p_n}-\\hat{\\Delta}_{p_n}|)$$\n",
    "$$\\hat{\\Delta}_{p_n}=my+c$$"
   ]
  },
  {
   "cell_type": "code",
   "execution_count": 36,
   "metadata": {
    "colab": {
     "base_uri": "https://localhost:8080/",
     "height": 36
    },
    "colab_type": "code",
    "executionInfo": {
     "elapsed": 955,
     "status": "ok",
     "timestamp": 1587663796497,
     "user": {
      "displayName": "Gustavo Alfredo Bula",
      "photoUrl": "https://lh3.googleusercontent.com/a-/AOh14GgjvNa5HdfZeuEkjmAruyGPGKLMQ9exM90ySykcVA=s64",
      "userId": "08035793455689332064"
     },
     "user_tz": 300
    },
    "id": "drkSp_JdGzI5",
    "outputId": "865de5ab-1681-482a-86de-7b22d4d9dd56"
   },
   "outputs": [
    {
     "name": "stdout",
     "output_type": "stream",
     "text": [
      "821.5023611206648 927.4578511151558\n"
     ]
    }
   ],
   "source": [
    "#k_min_aux=k_min\n",
    "k_max_aux=k_medio\n",
    "print(k_min_aux,k_max_aux)"
   ]
  },
  {
   "cell_type": "code",
   "execution_count": 37,
   "metadata": {
    "colab": {
     "base_uri": "https://localhost:8080/",
     "height": 36
    },
    "colab_type": "code",
    "executionInfo": {
     "elapsed": 574,
     "status": "ok",
     "timestamp": 1587663797878,
     "user": {
      "displayName": "Gustavo Alfredo Bula",
      "photoUrl": "https://lh3.googleusercontent.com/a-/AOh14GgjvNa5HdfZeuEkjmAruyGPGKLMQ9exM90ySykcVA=s64",
      "userId": "08035793455689332064"
     },
     "user_tz": 300
    },
    "id": "mq63EeHGHBOw",
    "outputId": "6e84c5ea-3cf3-4d33-a48e-1c9aa5f9f5aa"
   },
   "outputs": [
    {
     "name": "stdout",
     "output_type": "stream",
     "text": [
      "874.4801061179103\n"
     ]
    }
   ],
   "source": [
    "k_medio=(k_max_aux+k_min_aux)/2\n",
    "print(k_medio)"
   ]
  },
  {
   "cell_type": "code",
   "execution_count": 38,
   "metadata": {
    "colab": {
     "base_uri": "https://localhost:8080/",
     "height": 36
    },
    "colab_type": "code",
    "executionInfo": {
     "elapsed": 853,
     "status": "ok",
     "timestamp": 1587664852570,
     "user": {
      "displayName": "Gustavo Alfredo Bula",
      "photoUrl": "https://lh3.googleusercontent.com/a-/AOh14GgjvNa5HdfZeuEkjmAruyGPGKLMQ9exM90ySykcVA=s64",
      "userId": "08035793455689332064"
     },
     "user_tz": 300
    },
    "id": "40547WBhG4ws",
    "outputId": "4b147592-46c2-4568-8fa6-d0b9ff213c34"
   },
   "outputs": [
    {
     "name": "stdout",
     "output_type": "stream",
     "text": [
      "834.74679\n"
     ]
    }
   ],
   "source": [
    "k_est=834.74679#The best faound value is used this time\n",
    "print(k_est)"
   ]
  },
  {
   "cell_type": "code",
   "execution_count": 39,
   "metadata": {
    "colab": {},
    "colab_type": "code",
    "id": "wK0EBgPqHI0z"
   },
   "outputs": [],
   "source": [
    "y=(1-p_n/k_est)*p_n"
   ]
  },
  {
   "cell_type": "code",
   "execution_count": 40,
   "metadata": {
    "colab": {
     "base_uri": "https://localhost:8080/",
     "height": 765
    },
    "colab_type": "code",
    "executionInfo": {
     "elapsed": 618,
     "status": "ok",
     "timestamp": 1587664855627,
     "user": {
      "displayName": "Gustavo Alfredo Bula",
      "photoUrl": "https://lh3.googleusercontent.com/a-/AOh14GgjvNa5HdfZeuEkjmAruyGPGKLMQ9exM90ySykcVA=s64",
      "userId": "08035793455689332064"
     },
     "user_tz": 300
    },
    "id": "erHvg6fdQOij",
    "outputId": "5dbf2415-4a10-42ea-8445-4219a07a6a6a"
   },
   "outputs": [
    {
     "data": {
      "text/plain": [
       "array([[  -1.        ,  -19.52081277,   -1.        ],\n",
       "       [  -1.        ,  -26.76276341,   -1.        ],\n",
       "       [  -1.        ,  -36.26864619,   -1.        ],\n",
       "       [  -1.        ,  -48.73247844,   -1.        ],\n",
       "       [  -1.        ,  -64.77365669,   -1.        ],\n",
       "       [  -1.        ,  -84.7562659 ,   -1.        ],\n",
       "       [  -1.        , -108.65212774,   -1.        ],\n",
       "       [  -1.        , -135.53393452,   -1.        ],\n",
       "       [  -1.        , -163.17374018,   -1.        ],\n",
       "       [  -1.        , -187.8109952 ,   -1.        ],\n",
       "       [  -1.        , -204.42314947,   -1.        ],\n",
       "       [  -1.        , -208.25150306,   -1.        ],\n",
       "       [  -1.        , -196.86622721,   -1.        ],\n",
       "       [  -1.        , -171.90579589,   -1.        ],\n",
       "       [  -1.        , -138.81642582,   -1.        ],\n",
       "       [  -1.        , -104.39178528,   -1.        ],\n",
       "       [  -1.        ,  -73.95226877,   -1.        ],\n",
       "       [  -1.        ,  -50.02303625,   -1.        ],\n",
       "       [  -1.        ,  -32.67572674,   -1.        ],\n",
       "       [  -1.        ,  -20.82666115,   -1.        ],\n",
       "       [  -1.        ,   19.52081277,    1.        ],\n",
       "       [  -1.        ,   26.76276341,    1.        ],\n",
       "       [  -1.        ,   36.26864619,    1.        ],\n",
       "       [  -1.        ,   48.73247844,    1.        ],\n",
       "       [  -1.        ,   64.77365669,    1.        ],\n",
       "       [  -1.        ,   84.7562659 ,    1.        ],\n",
       "       [  -1.        ,  108.65212774,    1.        ],\n",
       "       [  -1.        ,  135.53393452,    1.        ],\n",
       "       [  -1.        ,  163.17374018,    1.        ],\n",
       "       [  -1.        ,  187.8109952 ,    1.        ],\n",
       "       [  -1.        ,  204.42314947,    1.        ],\n",
       "       [  -1.        ,  208.25150306,    1.        ],\n",
       "       [  -1.        ,  196.86622721,    1.        ],\n",
       "       [  -1.        ,  171.90579589,    1.        ],\n",
       "       [  -1.        ,  138.81642582,    1.        ],\n",
       "       [  -1.        ,  104.39178528,    1.        ],\n",
       "       [  -1.        ,   73.95226877,    1.        ],\n",
       "       [  -1.        ,   50.02303625,    1.        ],\n",
       "       [  -1.        ,   32.67572674,    1.        ],\n",
       "       [  -1.        ,   20.82666115,    1.        ]])"
      ]
     },
     "execution_count": 40,
     "metadata": {},
     "output_type": "execute_result"
    }
   ],
   "source": [
    "#xA=np.concatenate((x,-1*x),axis=0)\n",
    "wA=np.ones(len(delta_pn)*2)*-1\n",
    "yA=np.concatenate((y[0:-1]*-1,y[0:-1]),axis=0)\n",
    "delta_pnA=np.concatenate((delta_pn*-1,delta_pn),axis=0)\n",
    "cA=np.concatenate((np.ones(len(delta_pn))*-1,np.ones(len(delta_pn))),axis=0)\n",
    "A2=np.column_stack((wA,yA,cA))\n",
    "A2"
   ]
  },
  {
   "cell_type": "code",
   "execution_count": 41,
   "metadata": {
    "colab": {},
    "colab_type": "code",
    "id": "4-MBjYpMQOin"
   },
   "outputs": [],
   "source": [
    "from scipy.optimize import linprog"
   ]
  },
  {
   "cell_type": "code",
   "execution_count": 42,
   "metadata": {
    "colab": {},
    "colab_type": "code",
    "id": "VC_jBgr7QOiq"
   },
   "outputs": [],
   "source": [
    "w_bnds = (0, None)\n",
    "m_bnds = (None, None)\n",
    "c_bnds = (None, None)\n",
    "\n",
    "res = linprog((1,0,0), A2, delta_pnA,bounds=(w_bnds,m_bnds,c_bnds))"
   ]
  },
  {
   "cell_type": "code",
   "execution_count": 43,
   "metadata": {
    "colab": {
     "base_uri": "https://localhost:8080/",
     "height": 36
    },
    "colab_type": "code",
    "executionInfo": {
     "elapsed": 494,
     "status": "ok",
     "timestamp": 1587664859445,
     "user": {
      "displayName": "Gustavo Alfredo Bula",
      "photoUrl": "https://lh3.googleusercontent.com/a-/AOh14GgjvNa5HdfZeuEkjmAruyGPGKLMQ9exM90ySykcVA=s64",
      "userId": "08035793455689332064"
     },
     "user_tz": 300
    },
    "id": "88Fe3RhQQOit",
    "outputId": "4aacc3b1-0095-4b12-a4dd-3e506b1c7541"
   },
   "outputs": [
    {
     "data": {
      "text/plain": [
       "array([0.07654834, 0.38463683, 0.09569798])"
      ]
     },
     "execution_count": 43,
     "metadata": {},
     "output_type": "execute_result"
    }
   ],
   "source": [
    "res.x"
   ]
  },
  {
   "cell_type": "code",
   "execution_count": 44,
   "metadata": {
    "colab": {},
    "colab_type": "code",
    "id": "I13cCrslQOix"
   },
   "outputs": [],
   "source": [
    "delta_pn_est2=y[0:-1]*res.x[1]"
   ]
  },
  {
   "cell_type": "code",
   "execution_count": 45,
   "metadata": {
    "colab": {
     "base_uri": "https://localhost:8080/",
     "height": 284
    },
    "colab_type": "code",
    "executionInfo": {
     "elapsed": 1435,
     "status": "ok",
     "timestamp": 1587664071997,
     "user": {
      "displayName": "Gustavo Alfredo Bula",
      "photoUrl": "https://lh3.googleusercontent.com/a-/AOh14GgjvNa5HdfZeuEkjmAruyGPGKLMQ9exM90ySykcVA=s64",
      "userId": "08035793455689332064"
     },
     "user_tz": 300
    },
    "id": "Tt3aOR6MJL_1",
    "outputId": "eee128fe-4189-453e-cd69-9c64356028f6"
   },
   "outputs": [
    {
     "data": {
      "text/plain": [
       "[<matplotlib.lines.Line2D at 0x274c7b25240>]"
      ]
     },
     "execution_count": 45,
     "metadata": {},
     "output_type": "execute_result"
    },
    {
     "data": {
      "image/png": "[encoded data removed]",
      "text/plain": [
       "<Figure size 432x288 with 1 Axes>"
      ]
     },
     "metadata": {
      "needs_background": "light"
     },
     "output_type": "display_data"
    }
   ],
   "source": [
    "plp.plot(p_n[:-1],delta_pn,\"ro\")\n",
    "plp.plot(p_n[:-1],delta_pn_est2,\"bo\")"
   ]
  },
  {
   "cell_type": "code",
   "execution_count": 46,
   "metadata": {
    "colab": {
     "base_uri": "https://localhost:8080/",
     "height": 36
    },
    "colab_type": "code",
    "executionInfo": {
     "elapsed": 815,
     "status": "ok",
     "timestamp": 1587664084961,
     "user": {
      "displayName": "Gustavo Alfredo Bula",
      "photoUrl": "https://lh3.googleusercontent.com/a-/AOh14GgjvNa5HdfZeuEkjmAruyGPGKLMQ9exM90ySykcVA=s64",
      "userId": "08035793455689332064"
     },
     "user_tz": 300
    },
    "id": "NrICVkX9QOi0",
    "outputId": "ddbef81b-d417-42f5-d435-620070e4b77f"
   },
   "outputs": [
    {
     "data": {
      "text/plain": [
       "0.2863318652714916"
      ]
     },
     "execution_count": 46,
     "metadata": {},
     "output_type": "execute_result"
    }
   ],
   "source": [
    "np.sum((delta_pn-delta_pn_est2)*(delta_pn-delta_pn_est2))"
   ]
  },
  {
   "cell_type": "code",
   "execution_count": 47,
   "metadata": {
    "colab": {},
    "colab_type": "code",
    "id": "MHK4AEcqQOi2"
   },
   "outputs": [],
   "source": [
    "pob_est2=np.zeros(len(p_n))\n",
    "pob_est2[0]=p_n[0]\n",
    "for i in range(1,len(p_n)):\n",
    "    pob_est2[i]=pob_est2[i-1]+res.x[1]*(1-pob_est2[i-1]/k_est)*pob_est2[i-1]"
   ]
  },
  {
   "cell_type": "code",
   "execution_count": 48,
   "metadata": {
    "colab": {
     "base_uri": "https://localhost:8080/",
     "height": 284
    },
    "colab_type": "code",
    "executionInfo": {
     "elapsed": 777,
     "status": "ok",
     "timestamp": 1587664177904,
     "user": {
      "displayName": "Gustavo Alfredo Bula",
      "photoUrl": "https://lh3.googleusercontent.com/a-/AOh14GgjvNa5HdfZeuEkjmAruyGPGKLMQ9exM90ySykcVA=s64",
      "userId": "08035793455689332064"
     },
     "user_tz": 300
    },
    "id": "78TPRc21gopV",
    "outputId": "067c42be-6a86-448e-f2bb-efde3ded55ea"
   },
   "outputs": [
    {
     "data": {
      "text/plain": [
       "[<matplotlib.lines.Line2D at 0x274c7bbea20>]"
      ]
     },
     "execution_count": 48,
     "metadata": {},
     "output_type": "execute_result"
    },
    {
     "data": {
      "image/png": "[encoded data removed]",
      "text/plain": [
       "<Figure size 432x288 with 1 Axes>"
      ]
     },
     "metadata": {
      "needs_background": "light"
     },
     "output_type": "display_data"
    }
   ],
   "source": [
    "plp.plot(n,p_n,\"ro\")\n",
    "plp.plot(n,pob_est,\"bo\")\n",
    "plp.plot(n,pob_est2,\"go\")"
   ]
  },
  {
   "cell_type": "markdown",
   "metadata": {
    "colab_type": "text",
    "id": "wSnX5i2iLSn8"
   },
   "source": [
    "Sum of squares of deviations or errors / Sumatoria de cuadrados de las desviaciones o de los errores\n",
    "$$\\sum\\limits_{n=1}^N(P_n-\\hat{P}_n)^2$$"
   ]
  },
  {
   "cell_type": "code",
   "execution_count": 49,
   "metadata": {
    "colab": {
     "base_uri": "https://localhost:8080/",
     "height": 36
    },
    "colab_type": "code",
    "executionInfo": {
     "elapsed": 764,
     "status": "ok",
     "timestamp": 1587664539142,
     "user": {
      "displayName": "Gustavo Alfredo Bula",
      "photoUrl": "https://lh3.googleusercontent.com/a-/AOh14GgjvNa5HdfZeuEkjmAruyGPGKLMQ9exM90ySykcVA=s64",
      "userId": "08035793455689332064"
     },
     "user_tz": 300
    },
    "id": "DFIqmP09QOi5",
    "outputId": "9010902d-f43e-4dd1-c505-288e98b8ade9"
   },
   "outputs": [
    {
     "data": {
      "text/plain": [
       "65.44729698370708"
      ]
     },
     "execution_count": 49,
     "metadata": {},
     "output_type": "execute_result"
    }
   ],
   "source": [
    "np.sum((p_n-pob_est2)*(p_n-pob_est2))"
   ]
  },
  {
   "cell_type": "code",
   "execution_count": 50,
   "metadata": {
    "colab": {
     "base_uri": "https://localhost:8080/",
     "height": 36
    },
    "colab_type": "code",
    "executionInfo": {
     "elapsed": 448,
     "status": "ok",
     "timestamp": 1587664540133,
     "user": {
      "displayName": "Gustavo Alfredo Bula",
      "photoUrl": "https://lh3.googleusercontent.com/a-/AOh14GgjvNa5HdfZeuEkjmAruyGPGKLMQ9exM90ySykcVA=s64",
      "userId": "08035793455689332064"
     },
     "user_tz": 300
    },
    "id": "kR5HtdOELCFN",
    "outputId": "7ee62b5a-d07b-4dc0-fd47-f0623e631414"
   },
   "outputs": [
    {
     "data": {
      "text/plain": [
       "60546.068411175234"
      ]
     },
     "execution_count": 50,
     "metadata": {},
     "output_type": "execute_result"
    }
   ],
   "source": [
    "np.sum((p_n-pob_est)*(p_n-pob_est))"
   ]
  },
  {
   "cell_type": "markdown",
   "metadata": {
    "colab_type": "text",
    "id": "vICzztI3LqZ5"
   },
   "source": [
    "Maximum deviations or absolute errors / Máxima de las desviaciones o de los errores absolutos \n",
    "$$\\max\\limits_{n=1\\cdots N}|P_n-\\hat{P}_n|$$"
   ]
  },
  {
   "cell_type": "code",
   "execution_count": 51,
   "metadata": {
    "colab": {
     "base_uri": "https://localhost:8080/",
     "height": 36
    },
    "colab_type": "code",
    "executionInfo": {
     "elapsed": 891,
     "status": "ok",
     "timestamp": 1587664640885,
     "user": {
      "displayName": "Gustavo Alfredo Bula",
      "photoUrl": "https://lh3.googleusercontent.com/a-/AOh14GgjvNa5HdfZeuEkjmAruyGPGKLMQ9exM90ySykcVA=s64",
      "userId": "08035793455689332064"
     },
     "user_tz": 300
    },
    "id": "tOxWjI0WQOjG",
    "outputId": "7a28f41d-ab53-4b02-cc29-ccf0b8380560"
   },
   "outputs": [
    {
     "data": {
      "text/plain": [
       "3.050701718315395"
      ]
     },
     "execution_count": 51,
     "metadata": {},
     "output_type": "execute_result"
    }
   ],
   "source": [
    "np.max(np.abs(p_n-pob_est2))"
   ]
  },
  {
   "cell_type": "code",
   "execution_count": 52,
   "metadata": {
    "colab": {
     "base_uri": "https://localhost:8080/",
     "height": 36
    },
    "colab_type": "code",
    "executionInfo": {
     "elapsed": 523,
     "status": "ok",
     "timestamp": 1587664642149,
     "user": {
      "displayName": "Gustavo Alfredo Bula",
      "photoUrl": "https://lh3.googleusercontent.com/a-/AOh14GgjvNa5HdfZeuEkjmAruyGPGKLMQ9exM90ySykcVA=s64",
      "userId": "08035793455689332064"
     },
     "user_tz": 300
    },
    "id": "2edM6U0HLKba",
    "outputId": "541d9cb6-3e6c-425e-b04b-1430f476ad71"
   },
   "outputs": [
    {
     "data": {
      "text/plain": [
       "99.8654643175808"
      ]
     },
     "execution_count": 52,
     "metadata": {},
     "output_type": "execute_result"
    }
   ],
   "source": [
    "np.max(np.abs(p_n-pob_est))"
   ]
  },
  {
   "cell_type": "code",
   "execution_count": 53,
   "metadata": {
    "colab": {
     "base_uri": "https://localhost:8080/",
     "height": 36
    },
    "colab_type": "code",
    "executionInfo": {
     "elapsed": 787,
     "status": "ok",
     "timestamp": 1587664870141,
     "user": {
      "displayName": "Gustavo Alfredo Bula",
      "photoUrl": "https://lh3.googleusercontent.com/a-/AOh14GgjvNa5HdfZeuEkjmAruyGPGKLMQ9exM90ySykcVA=s64",
      "userId": "08035793455689332064"
     },
     "user_tz": 300
    },
    "id": "HpoGp5H7QOjM",
    "outputId": "f4424f1c-a183-41af-dedf-97febf00c623"
   },
   "outputs": [
    {
     "data": {
      "text/plain": [
       "834.74679"
      ]
     },
     "execution_count": 53,
     "metadata": {},
     "output_type": "execute_result"
    }
   ],
   "source": [
    "k_est # Valor del parametro K, capacidad máxima del sistema"
   ]
  },
  {
   "cell_type": "code",
   "execution_count": 54,
   "metadata": {
    "colab": {
     "base_uri": "https://localhost:8080/",
     "height": 36
    },
    "colab_type": "code",
    "executionInfo": {
     "elapsed": 818,
     "status": "ok",
     "timestamp": 1587664915943,
     "user": {
      "displayName": "Gustavo Alfredo Bula",
      "photoUrl": "https://lh3.googleusercontent.com/a-/AOh14GgjvNa5HdfZeuEkjmAruyGPGKLMQ9exM90ySykcVA=s64",
      "userId": "08035793455689332064"
     },
     "user_tz": 300
    },
    "id": "hIor2ZOWQOjO",
    "outputId": "e38df200-4ab2-4099-c9ce-850286a5c59d"
   },
   "outputs": [
    {
     "data": {
      "text/plain": [
       "0.38463683095741724"
      ]
     },
     "execution_count": 54,
     "metadata": {},
     "output_type": "execute_result"
    }
   ],
   "source": [
    "res.x[1] # Valor del parametyro R, la tasa intrínseca de crecimiento"
   ]
  },
  {
   "cell_type": "markdown",
   "metadata": {
    "colab": {},
    "colab_type": "code",
    "id": "UOWMmGw6QOjQ"
   },
   "source": [
    "### Fixed points logistic equation \n",
    "Rewriting the afore mentioned equation as a recurrence relation or difference equation\n",
    "$x_{(n)}=x_{(n-1)}\\left(R\\left(1-\\frac{x_{(n-1)}}{K}\\right)+1\\right)$\n",
    "\n",
    "thus\n",
    "\n",
    "$f(x)=x\\left(R\\left(1-\\frac{x}{K}\\right)+1\\right)$\n",
    "\n",
    "to find the fixed points $\\bar{x}$, we look at\n",
    "\n",
    "$\\bar{x}=\\bar{x}\\left(R\\left(1-\\frac{\\bar{x}}{K}\\right)+1\\right)$\n",
    "This has to solution, namely $\\bar{x}=0$ and $\\bar{x}=K$\n",
    "\n",
    "### Stability of nonlinear first-order recurrences\n",
    "Consider the nonlinear first-order recurrence\n",
    "\n",
    "$x_{(n)}=f(x_{(n-1)}$\n",
    "\n",
    "This recurrence is locally stable, meaning that it converges to a\n",
    "fixed point $x^*$ from points sufficiently close to $x^*$, if and\n",
    "only if the slope of $f$ in the neighborhood of $x^*$ is smaller\n",
    "than unity in absolute value: that is,\n",
    "\n",
    "$|f'(x^*)|<1$\n",
    "\n",
    "Note that a nonlinear recurrence could have multiple fixed points,\n",
    "in which case some fixed points may be locally stable and others\n",
    "locally unstable; for continuous $f$ two adjacent fixed points\n",
    "cannot both be locally stable. \n",
    "\n",
    "###  Stability of fixed points logistic equation\n",
    "Computing the derivative of $f(x)$ we obtain\n",
    "$f'(x)=R-\\frac{2Rx}{K}+1$\n",
    "\n",
    "$\\bar{x}=0$ is stable if\n",
    "\n",
    "$|R+1|<1\\ or \\ -2<R<0$\n",
    "\n",
    "$\\bar{x}=K$ is stable if\n",
    "\n",
    "$|1-R|<1\\ or\\ 0<R<2$\n",
    " }"
   ]
  },
  {
   "cell_type": "code",
   "execution_count": null,
   "metadata": {
    "colab": {},
    "colab_type": "code",
    "id": "Dk7ydKXnQOjT"
   },
   "outputs": [],
   "source": []
  },
  {
   "cell_type": "code",
   "execution_count": null,
   "metadata": {
    "colab": {},
    "colab_type": "code",
    "id": "aWYz7j7-QOjW"
   },
   "outputs": [],
   "source": []
  }
 ],
 "metadata": {
  "colab": {
   "name": "logisticModel.ipynb",
   "provenance": []
  },
  "kernelspec": {
   "display_name": "Python 3",
   "language": "python",
   "name": "python3"
  },
  "language_info": {
   "codemirror_mode": {
    "name": "ipython",
    "version": 3
   },
   "file_extension": ".py",
   "mimetype": "text/x-python",
   "name": "python",
   "nbconvert_exporter": "python",
   "pygments_lexer": "ipython3",
   "version": "3.7.3"
  }
 },
 "nbformat": 4,
 "nbformat_minor": 1
}
