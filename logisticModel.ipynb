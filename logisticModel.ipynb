{
 "cells": [
  {
   "cell_type": "markdown",
   "metadata": {
    "colab_type": "text",
    "id": "m8xg_4XrQOd1"
   },
   "source": [
    "# Lectura 4 Modelo Logístico en Tiempo Discreto\n",
    "### Taller de herramientas y problemas en ingeniería industrial\n",
    "### g.a.b."
   ]
  },
  {
   "cell_type": "markdown",
   "metadata": {
    "colab_type": "text",
    "id": "0Zzhf41AQOd9"
   },
   "source": [
    "# Nonlinear Models\n",
    "ome simply defined recurrence relations can have very\n",
    "complex (chaotic) behaviors, and they are a part of the field of\n",
    "mathematics known as nonlinear analysis.\n",
    "\n",
    "## Logistic difference equation\n",
    "As a populationincreases, fixed resources must be shared between more and more individuals. A reasonable assumption is that as the population\n",
    "increases, the growth rate declines because of some combination of\n",
    "increased death and decreases of birth. Further there is probably\n",
    "some population level which cannot be exceeded called ${carrying\\ \n",
    "capacity}$. If a population were near the carrying capacity, its\n",
    "growth rate would be zero. If the population were small, the growth\n",
    "rate would be at its largest.\n"
   ]
  },
  {
   "cell_type": "markdown",
   "metadata": {
    "colab_type": "text",
    "id": "IRzYRIIiQOeC"
   },
   "source": [
    "The growth rate\n",
    "function $r(x)$ should pass through $(0,R$) and $(K,0)$, where $R$ is the\n",
    "intrinsic growth rate and $K$ is the carrying capacity. The growth\n",
    "rate function for the logistic model is found using the point-slope\n",
    "equation for a line trough  $(0,R$) and $(K,0)$, which is\n",
    "\n",
    "$r(x)-R=-\\frac{R}{K}(x-0)$\n",
    "\n",
    "solving for $r(x)$ yields\n",
    "\n",
    "$r(x)=R-\\frac{Rx}{K}=R(1-\\frac{x}{K})$"
   ]
  },
  {
   "cell_type": "markdown",
   "metadata": {
    "colab_type": "text",
    "id": "hpYy2DdbQOeG"
   },
   "source": [
    "given the growth equation\n",
    "\n",
    "$x_{(n)}-x_{(n-1)}=rx_{(n-1)}$\n",
    "\n",
    "substituting our expression for $r(x)$ gives us\n",
    "\n",
    "$x_{(n)}-x_{(n-1)}=R\\left(1-\\frac{x_{(n-1)}}{K}\\right)x_{(n-1)}$"
   ]
  },
  {
   "cell_type": "markdown",
   "metadata": {
    "colab_type": "text",
    "id": "UbuP0ciRQOeK"
   },
   "source": [
    "### Fixed points logistic equation \n",
    "Rewriting the afore mentioned equation as a recurrence relation or difference equation\n",
    "$x_{(n)}=x_{(n-1)}\\left(R\\left(1-\\frac{x_{(n-1)}}{K}\\right)+1\\right)$\n",
    "\n",
    "thus\n",
    "\n",
    "$f(x)=x\\left(R\\left(1-\\frac{x}{K}\\right)+1\\right)$\n",
    "\n",
    "to find the fixed points $\\bar{x}$, we look at\n",
    "\n",
    "$\\bar{x}=\\bar{x}\\left(R\\left(1-\\frac{\\bar{x}}{K}\\right)+1\\right)$\n",
    "This has to solution, namely $\\bar{x}=0$ and $\\bar{x}=K$\n",
    "\n",
    "### Stability of nonlinear first-order recurrences\n",
    "Consider the nonlinear first-order recurrence\n",
    "\n",
    "$x_{(n)}=f(x_{(n-1)}$\n",
    "\n",
    "This recurrence is locally stable, meaning that it converges to a\n",
    "fixed point $x^*$ from points sufficiently close to $x^*$, if and\n",
    "only if the slope of $f$ in the neighborhood of $x^*$ is smaller\n",
    "than unity in absolute value: that is,\n",
    "\n",
    "$|f'(x^*)|<1$\n",
    "\n",
    "Note that a nonlinear recurrence could have multiple fixed points,\n",
    "in which case some fixed points may be locally stable and others\n",
    "locally unstable; for continuous $f$ two adjacent fixed points\n",
    "cannot both be locally stable. \n",
    "\n",
    "###  Stability of fixed points logistic equation\n",
    "Computing the derivative of $f(x)$ we obtain\n",
    "$f'(x)=R-\\frac{2Rx}{K}+1$\n",
    "\n",
    "$\\bar{x}=0$ is stable if\n",
    "\n",
    "$|R+1|<1\\ or \\ -2<R<0$\n",
    "\n",
    "$\\bar{x}=K$ is stable if\n",
    "\n",
    "$|1-R|<1\\ or\\ 0<R<2$\n",
    " }"
   ]
  },
  {
   "cell_type": "markdown",
   "metadata": {
    "colab_type": "text",
    "id": "5Pk9kSF-QOeP"
   },
   "source": [
    "## Growth of a yeast culture\n",
    "The next data was collected from an experiment measuring the growth of yeast culture"
   ]
  },
  {
   "cell_type": "code",
   "execution_count": 17,
   "metadata": {
    "colab": {},
    "colab_type": "code",
    "id": "sBnEam73QOeR"
   },
   "outputs": [],
   "source": [
    "import pandas as pd\n",
    "import numpy as np"
   ]
  },
  {
   "cell_type": "code",
   "execution_count": 18,
   "metadata": {
    "colab": {},
    "colab_type": "code",
    "id": "2cAhboqfQOeb"
   },
   "outputs": [],
   "source": [
    "datos=pd.read_table(\"datos1.txt\", sep=' ')\n",
    "#datos.columns=(\"tiempo\",\"pob\")"
   ]
  },
  {
   "cell_type": "code",
   "execution_count": 19,
   "metadata": {
    "colab": {},
    "colab_type": "code",
    "id": "JpIyZ-F3QOej",
    "outputId": "8fd55dc9-e7c6-4e99-9a57-94c1edc55483"
   },
   "outputs": [
    {
     "data": {
      "text/html": [
       "<div>\n",
       "<style scoped>\n",
       "    .dataframe tbody tr th:only-of-type {\n",
       "        vertical-align: middle;\n",
       "    }\n",
       "\n",
       "    .dataframe tbody tr th {\n",
       "        vertical-align: top;\n",
       "    }\n",
       "\n",
       "    .dataframe thead th {\n",
       "        text-align: right;\n",
       "    }\n",
       "</style>\n",
       "<table border=\"1\" class=\"dataframe\">\n",
       "  <thead>\n",
       "    <tr style=\"text-align: right;\">\n",
       "      <th></th>\n",
       "      <th>tiempo</th>\n",
       "      <th>pob</th>\n",
       "    </tr>\n",
       "  </thead>\n",
       "  <tbody>\n",
       "    <tr>\n",
       "      <td>0</td>\n",
       "      <td>0</td>\n",
       "      <td>20.000000</td>\n",
       "    </tr>\n",
       "    <tr>\n",
       "      <td>1</td>\n",
       "      <td>1</td>\n",
       "      <td>27.680670</td>\n",
       "    </tr>\n",
       "    <tr>\n",
       "      <td>2</td>\n",
       "      <td>2</td>\n",
       "      <td>37.998363</td>\n",
       "    </tr>\n",
       "    <tr>\n",
       "      <td>3</td>\n",
       "      <td>3</td>\n",
       "      <td>51.967770</td>\n",
       "    </tr>\n",
       "    <tr>\n",
       "      <td>4</td>\n",
       "      <td>4</td>\n",
       "      <td>70.774277</td>\n",
       "    </tr>\n",
       "    <tr>\n",
       "      <td>5</td>\n",
       "      <td>5</td>\n",
       "      <td>95.736130</td>\n",
       "    </tr>\n",
       "    <tr>\n",
       "      <td>6</td>\n",
       "      <td>6</td>\n",
       "      <td>128.403611</td>\n",
       "    </tr>\n",
       "    <tr>\n",
       "      <td>7</td>\n",
       "      <td>7</td>\n",
       "      <td>170.262015</td>\n",
       "    </tr>\n",
       "    <tr>\n",
       "      <td>8</td>\n",
       "      <td>8</td>\n",
       "      <td>222.458555</td>\n",
       "    </tr>\n",
       "    <tr>\n",
       "      <td>9</td>\n",
       "      <td>9</td>\n",
       "      <td>285.366102</td>\n",
       "    </tr>\n",
       "    <tr>\n",
       "      <td>10</td>\n",
       "      <td>10</td>\n",
       "      <td>357.716182</td>\n",
       "    </tr>\n",
       "    <tr>\n",
       "      <td>11</td>\n",
       "      <td>11</td>\n",
       "      <td>436.433226</td>\n",
       "    </tr>\n",
       "    <tr>\n",
       "      <td>12</td>\n",
       "      <td>12</td>\n",
       "      <td>516.706671</td>\n",
       "    </tr>\n",
       "    <tr>\n",
       "      <td>13</td>\n",
       "      <td>13</td>\n",
       "      <td>592.595367</td>\n",
       "    </tr>\n",
       "    <tr>\n",
       "      <td>14</td>\n",
       "      <td>14</td>\n",
       "      <td>658.876987</td>\n",
       "    </tr>\n",
       "    <tr>\n",
       "      <td>15</td>\n",
       "      <td>15</td>\n",
       "      <td>712.432445</td>\n",
       "    </tr>\n",
       "    <tr>\n",
       "      <td>16</td>\n",
       "      <td>16</td>\n",
       "      <td>752.737573</td>\n",
       "    </tr>\n",
       "    <tr>\n",
       "      <td>17</td>\n",
       "      <td>17</td>\n",
       "      <td>781.301935</td>\n",
       "    </tr>\n",
       "    <tr>\n",
       "      <td>18</td>\n",
       "      <td>18</td>\n",
       "      <td>800.680834</td>\n",
       "    </tr>\n",
       "    <tr>\n",
       "      <td>19</td>\n",
       "      <td>19</td>\n",
       "      <td>813.372842</td>\n",
       "    </tr>\n",
       "    <tr>\n",
       "      <td>20</td>\n",
       "      <td>20</td>\n",
       "      <td>821.502361</td>\n",
       "    </tr>\n",
       "  </tbody>\n",
       "</table>\n",
       "</div>"
      ],
      "text/plain": [
       "    tiempo         pob\n",
       "0        0   20.000000\n",
       "1        1   27.680670\n",
       "2        2   37.998363\n",
       "3        3   51.967770\n",
       "4        4   70.774277\n",
       "5        5   95.736130\n",
       "6        6  128.403611\n",
       "7        7  170.262015\n",
       "8        8  222.458555\n",
       "9        9  285.366102\n",
       "10      10  357.716182\n",
       "11      11  436.433226\n",
       "12      12  516.706671\n",
       "13      13  592.595367\n",
       "14      14  658.876987\n",
       "15      15  712.432445\n",
       "16      16  752.737573\n",
       "17      17  781.301935\n",
       "18      18  800.680834\n",
       "19      19  813.372842\n",
       "20      20  821.502361"
      ]
     },
     "execution_count": 19,
     "metadata": {},
     "output_type": "execute_result"
    }
   ],
   "source": [
    "datos"
   ]
  },
  {
   "cell_type": "code",
   "execution_count": 20,
   "metadata": {
    "colab": {},
    "colab_type": "code",
    "id": "mJlfAmQcQOeq"
   },
   "outputs": [],
   "source": [
    "import matplotlib.pyplot as plp"
   ]
  },
  {
   "cell_type": "code",
   "execution_count": 21,
   "metadata": {
    "colab": {},
    "colab_type": "code",
    "id": "b2gKXROYQOey",
    "outputId": "a2eeef3d-e235-43d0-d31c-72951ec53569"
   },
   "outputs": [
    {
     "data": {
      "text/plain": [
       "[<matplotlib.lines.Line2D at 0x20f15504f08>]"
      ]
     },
     "execution_count": 21,
     "metadata": {},
     "output_type": "execute_result"
    },
    {
     "data": {
      "image/png": "[encoded data removed]",
      "text/plain": [
       "<Figure size 432x288 with 1 Axes>"
      ]
     },
     "metadata": {
      "needs_background": "light"
     },
     "output_type": "display_data"
    }
   ],
   "source": [
    "plp.plot(datos[\"tiempo\"],datos[\"pob\"],\"ko\")"
   ]
  },
  {
   "cell_type": "code",
   "execution_count": 22,
   "metadata": {
    "colab": {},
    "colab_type": "code",
    "id": "j8CQUocMQOe7",
    "outputId": "452b07b3-6179-4287-cec1-d6950bbb7d93"
   },
   "outputs": [],
   "source": [
    "plp.show()"
   ]
  },
  {
   "cell_type": "code",
   "execution_count": 23,
   "metadata": {
    "colab": {},
    "colab_type": "code",
    "id": "H8eF4rSXQOfF",
    "outputId": "fbad7a5e-917b-47f1-ab8a-4cccfb740ece"
   },
   "outputs": [
    {
     "name": "stdout",
     "output_type": "stream",
     "text": [
      "[ 0  1  2  3  4  5  6  7  8  9 10 11 12 13 14 15 16 17 18 19 20]\n"
     ]
    }
   ],
   "source": [
    "import numpy as np\n",
    "\n",
    "n=datos[\"tiempo\"].values\n",
    "print(n)"
   ]
  },
  {
   "cell_type": "code",
   "execution_count": 24,
   "metadata": {
    "colab": {},
    "colab_type": "code",
    "id": "ywhdQGJOQOfK"
   },
   "outputs": [],
   "source": [
    "p_n=datos[\"pob\"].values"
   ]
  },
  {
   "cell_type": "code",
   "execution_count": 25,
   "metadata": {
    "colab": {},
    "colab_type": "code",
    "id": "3eURyFw4QOfR"
   },
   "outputs": [],
   "source": [
    "delta_pn=np.zeros(len(p_n)-1)\n",
    "for i in range(len(p_n)-1):\n",
    "    delta_pn[i]=p_n[i+1]-p_n[i] "
   ]
  },
  {
   "cell_type": "code",
   "execution_count": 27,
   "metadata": {
    "colab": {},
    "colab_type": "code",
    "id": "iIeYkSEaQOfa",
    "outputId": "675e182c-74ee-49df-da5a-b5ad0d4063bb"
   },
   "outputs": [
    {
     "name": "stdout",
     "output_type": "stream",
     "text": [
      "11\n",
      "436.4332260551016\n",
      "516.7066705548234\n",
      "[ 20.          27.68066988  37.99836305  51.96776983  70.77427663\n",
      "  95.73613043 128.40361111 170.26201509 222.45855455 285.36610172]\n",
      "[ 7.68066988 10.31769317 13.96940678 18.8065068  24.96185379 32.66748069\n",
      " 41.85840398 52.19653946 62.90754716 72.35008051]\n"
     ]
    }
   ],
   "source": [
    "print(np.argmax(delta_pn))\n",
    "print(p_n[np.argmax(delta_pn)])\n",
    "print(p_n[np.argmax(delta_pn)+1])\n",
    "print(p_n[0:10])\n",
    "print(delta_pn[0:10])"
   ]
  },
  {
   "cell_type": "code",
   "execution_count": 28,
   "metadata": {
    "colab": {},
    "colab_type": "code",
    "id": "X4SnrW_WQOff",
    "outputId": "9b12e00f-e608-4c31-ce76-a7abf2d12a7b"
   },
   "outputs": [
    {
     "data": {
      "text/plain": [
       "[<matplotlib.lines.Line2D at 0x20f1557aa88>]"
      ]
     },
     "execution_count": 28,
     "metadata": {},
     "output_type": "execute_result"
    },
    {
     "data": {
      "image/png": "[encoded data removed]",
      "text/plain": [
       "<Figure size 432x288 with 1 Axes>"
      ]
     },
     "metadata": {
      "needs_background": "light"
     },
     "output_type": "display_data"
    }
   ],
   "source": [
    "plp.plot(p_n[:-1],delta_pn,\"ro\")"
   ]
  },
  {
   "cell_type": "code",
   "execution_count": 29,
   "metadata": {
    "colab": {},
    "colab_type": "code",
    "id": "Bomql0j9QOfm",
    "outputId": "cc4e74ff-0618-4c6a-91af-6153ed03aa5e"
   },
   "outputs": [],
   "source": [
    "plp.show()"
   ]
  },
  {
   "cell_type": "markdown",
   "metadata": {
    "colab_type": "text",
    "id": "lJ7wEcggQOfr"
   },
   "source": [
    "where R is the intrinsic growth rate\n",
    "$\\Delta x_{(n)}=x_{(n)}R-x_{(n)}^2\\frac{R}{K}$\n",
    "\n",
    "The maximum value is obtained when $x_n=K/2$\n",
    "\n",
    "$\\Delta x^{'}_{(n)}=R-2x_{(n)}\\frac{R}{K}$\n",
    "\n",
    "$\\Delta  x^{'}_{(n)}=0$\n",
    "\n",
    "$x_{(n)}=K/2$\n",
    "\n",
    "$\\Delta x^{''}_{(n)}=-2\\frac{R}{K}$"
   ]
  },
  {
   "cell_type": "code",
   "execution_count": 30,
   "metadata": {
    "colab": {},
    "colab_type": "code",
    "id": "zSUtJn5RQOfu",
    "outputId": "3b783140-51e4-4485-e3e7-6eea594ce0d5"
   },
   "outputs": [
    {
     "name": "stdout",
     "output_type": "stream",
     "text": [
      "[ 7.68066988 10.31769317 13.96940678 18.8065068  24.96185379 32.66748069\n",
      " 41.85840398 52.19653946 62.90754716 72.35008051 78.71704382 80.2734445\n",
      " 75.88869668 66.28161988 53.55545824 40.30512765 28.56436158 19.37889949\n",
      " 12.6920083   8.12951875]\n"
     ]
    }
   ],
   "source": [
    "np.max(delta_pn)\n",
    "print(delta_pn)"
   ]
  },
  {
   "cell_type": "code",
   "execution_count": 31,
   "metadata": {
    "colab": {},
    "colab_type": "code",
    "id": "RcysH4AdQOf0"
   },
   "outputs": [],
   "source": [
    "k_max=2*p_n[np.argmax(delta_pn)+1]"
   ]
  },
  {
   "cell_type": "code",
   "execution_count": 32,
   "metadata": {
    "colab": {},
    "colab_type": "code",
    "id": "mkGgVgxZQOf6"
   },
   "outputs": [],
   "source": [
    "k_min=np.max([p_n[-1],2*p_n[[np.argmax(delta_pn)]]])"
   ]
  },
  {
   "cell_type": "code",
   "execution_count": 33,
   "metadata": {
    "colab": {},
    "colab_type": "code",
    "id": "lMx0rTN6QOgC",
    "outputId": "105d2ae5-23d5-4f1d-b28e-0ef8ee5dbcfb"
   },
   "outputs": [
    {
     "name": "stdout",
     "output_type": "stream",
     "text": [
      "[872.86645211]   1033.4133411096468\n"
     ]
    }
   ],
   "source": [
    "print(k_min,' ',k_max)"
   ]
  },
  {
   "cell_type": "markdown",
   "metadata": {
    "colab_type": "text",
    "id": "nqiAXPqfQOgG"
   },
   "source": [
    "The growth rate function for the logistic model is\n",
    "\n",
    "$\\Delta r(x_{(n)})=x_{(n)}\\frac{R}{K}(K-x_{(n)})$\n",
    "\n",
    "redefine $y$ as\n",
    "\n",
    "$y=x_{(n)}(1-\\frac{x_{(n)}}{K})$\n",
    "then:\n",
    "\n",
    "$r(x_{(n)})=Ry$\n",
    "\n",
    "## Procedure for approximating the values of $K$ y $R$\n",
    "\n",
    "Se establece un rango para el valor de $K$\n",
    "\n",
    "$K=\\{K_{min},K_{max}\\}$\n",
    "\n",
    "The value of $\\hat{K}$ is fixed as the interval middle point\n",
    "\n",
    "$\\hat{K}=\\frac{K_{min}+K_{max}}{2}$\n",
    "\n",
    "We compute the values of the variable\n",
    "\n",
    "$y=x_{(n)}(\\hat{K}-x_{(n)})$\n",
    "\n",
    "We have the growth rate function\n",
    "\n",
    "$r(x_{(n)})=Ry$\n",
    "\n",
    "The estimated values of $K$ and $R$ are obtained using linear estimation. Depending on the results the values of $K_{min}$ and $K_{max}$ are updated, and the whole estimation process is redone.\n"
   ]
  },
  {
   "cell_type": "code",
   "execution_count": 34,
   "metadata": {
    "colab": {},
    "colab_type": "code",
    "id": "dpDD8Xl4QOgK",
    "outputId": "179ba4ca-e570-41b0-8519-113c706926bf"
   },
   "outputs": [
    {
     "name": "stdout",
     "output_type": "stream",
     "text": [
      "[953.13989661]\n"
     ]
    }
   ],
   "source": [
    "k_est=(k_max+k_min)/2\n",
    "print(k_est)"
   ]
  },
  {
   "cell_type": "code",
   "execution_count": 35,
   "metadata": {
    "colab": {},
    "colab_type": "code",
    "id": "20xhKFb3QOgO"
   },
   "outputs": [],
   "source": [
    "y=(1-p_n/k_est)*p_n"
   ]
  },
  {
   "cell_type": "code",
   "execution_count": 36,
   "metadata": {
    "colab": {},
    "colab_type": "code",
    "id": "i6oeHi5AQOgS",
    "outputId": "39c016c5-61db-4022-e0f6-7fe551a8deed"
   },
   "outputs": [
    {
     "data": {
      "image/png": "[encoded data removed]",
      "text/plain": [
       "<Figure size 432x288 with 1 Axes>"
      ]
     },
     "metadata": {
      "needs_background": "light"
     },
     "output_type": "display_data"
    }
   ],
   "source": [
    "plp.scatter(y[0:-1],delta_pn)\n",
    "plp.show()"
   ]
  },
  {
   "cell_type": "code",
   "execution_count": 37,
   "metadata": {
    "colab": {},
    "colab_type": "code",
    "id": "8u-0mKAyQOgc",
    "outputId": "caea00d0-1195-4b4a-d0a0-e017458dc929"
   },
   "outputs": [
    {
     "data": {
      "text/plain": [
       "array([ 19.58033443,  26.87678004,  36.48350086,  49.1343462 ,\n",
       "        65.51901636,  86.12011634, 111.10553409, 139.84764057,\n",
       "       170.53773089, 199.92868345, 223.46425606, 236.59481673,\n",
       "       236.59481673, 224.16123651, 203.41511243, 179.91881226,\n",
       "       158.26675521, 140.85795028, 128.07254191, 119.2718158 ])"
      ]
     },
     "execution_count": 37,
     "metadata": {},
     "output_type": "execute_result"
    }
   ],
   "source": [
    "y[0:-1]"
   ]
  },
  {
   "cell_type": "code",
   "execution_count": 38,
   "metadata": {
    "colab": {},
    "colab_type": "code",
    "id": "66xS2NgmQOgi"
   },
   "outputs": [],
   "source": [
    "A = np.column_stack((y[0:-1], np.ones(len(delta_pn))))"
   ]
  },
  {
   "cell_type": "code",
   "execution_count": 39,
   "metadata": {
    "colab": {},
    "colab_type": "code",
    "id": "fK1SyMP1QOgp",
    "outputId": "cfb170a7-3fa6-4e73-9b47-ef81c65747bf"
   },
   "outputs": [
    {
     "data": {
      "text/plain": [
       "array([[ 19.58033443,   1.        ],\n",
       "       [ 26.87678004,   1.        ],\n",
       "       [ 36.48350086,   1.        ],\n",
       "       [ 49.1343462 ,   1.        ],\n",
       "       [ 65.51901636,   1.        ],\n",
       "       [ 86.12011634,   1.        ],\n",
       "       [111.10553409,   1.        ],\n",
       "       [139.84764057,   1.        ],\n",
       "       [170.53773089,   1.        ],\n",
       "       [199.92868345,   1.        ],\n",
       "       [223.46425606,   1.        ],\n",
       "       [236.59481673,   1.        ],\n",
       "       [236.59481673,   1.        ],\n",
       "       [224.16123651,   1.        ],\n",
       "       [203.41511243,   1.        ],\n",
       "       [179.91881226,   1.        ],\n",
       "       [158.26675521,   1.        ],\n",
       "       [140.85795028,   1.        ],\n",
       "       [128.07254191,   1.        ],\n",
       "       [119.2718158 ,   1.        ]])"
      ]
     },
     "execution_count": 39,
     "metadata": {},
     "output_type": "execute_result"
    }
   ],
   "source": [
    "A"
   ]
  },
  {
   "cell_type": "code",
   "execution_count": 40,
   "metadata": {
    "colab": {},
    "colab_type": "code",
    "id": "NyDSn9YPQOgu"
   },
   "outputs": [
    {
     "name": "stderr",
     "output_type": "stream",
     "text": [
      "C:\\Users\\Tavo Bula\\Anaconda3\\lib\\site-packages\\ipykernel_launcher.py:1: FutureWarning: `rcond` parameter will change to the default of machine precision times ``max(M, N)`` where M and N are the input matrix dimensions.\n",
      "To use the future default and silence this warning we advise to pass `rcond=None`, to keep using the old, explicitly pass `rcond=-1`.\n",
      "  \"\"\"Entry point for launching an IPython kernel.\n"
     ]
    }
   ],
   "source": [
    "popt,res,rank,val= np.linalg.lstsq(A, delta_pn)"
   ]
  },
  {
   "cell_type": "code",
   "execution_count": 41,
   "metadata": {
    "colab": {},
    "colab_type": "code",
    "id": "Ovjfnp7MQOgy",
    "outputId": "b2ea0c47-887a-431a-ae27-1e93f11a7063"
   },
   "outputs": [
    {
     "name": "stdout",
     "output_type": "stream",
     "text": [
      "0.3064401533496387 -2.148532109667542\n"
     ]
    }
   ],
   "source": [
    "m,c=popt\n",
    "print(m,c)"
   ]
  },
  {
   "cell_type": "code",
   "execution_count": 42,
   "metadata": {
    "colab": {},
    "colab_type": "code",
    "id": "dmoMJmBDQOg4",
    "outputId": "d085f527-d381-4741-c68f-c769959feba6"
   },
   "outputs": [
    {
     "data": {
      "text/plain": [
       "array([ 3.85166858,  6.08759249,  9.03147749, 12.90820448, 17.92912531,\n",
       "       24.24212955, 31.89866479, 40.70640031, 50.1110763 , 59.11764431,\n",
       "       66.32988879, 70.35361981, 70.35361981, 66.54347158, 60.18602614,\n",
       "       52.98581631, 46.35075663, 41.01599978, 37.09803727, 34.40114141])"
      ]
     },
     "execution_count": 42,
     "metadata": {},
     "output_type": "execute_result"
    }
   ],
   "source": [
    "delta_pn_est=m*y[0:-1]+c\n",
    "delta_pn_est"
   ]
  },
  {
   "cell_type": "code",
   "execution_count": 43,
   "metadata": {
    "colab": {},
    "colab_type": "code",
    "id": "PLm0i_ikQOg7",
    "outputId": "65a15079-41d8-4613-841c-45a02659e3e1"
   },
   "outputs": [
    {
     "data": {
      "text/plain": [
       "array([ 7.68066988, 10.31769317, 13.96940678, 18.8065068 , 24.96185379,\n",
       "       32.66748069, 41.85840398, 52.19653946, 62.90754716, 72.35008051,\n",
       "       78.71704382, 80.2734445 , 75.88869668, 66.28161988, 53.55545824,\n",
       "       40.30512765, 28.56436158, 19.37889949, 12.6920083 ,  8.12951875])"
      ]
     },
     "execution_count": 43,
     "metadata": {},
     "output_type": "execute_result"
    }
   ],
   "source": [
    "delta_pn"
   ]
  },
  {
   "cell_type": "code",
   "execution_count": 45,
   "metadata": {
    "colab": {},
    "colab_type": "code",
    "id": "AToxGMrQQOhB",
    "outputId": "12b749cf-3168-4b62-9163-461a30bdc3d1"
   },
   "outputs": [
    {
     "name": "stdout",
     "output_type": "stream",
     "text": [
      "3339.92750207057\n",
      "26.27162266127455\n"
     ]
    }
   ],
   "source": [
    "print(sum((delta_pn-delta_pn_est)*(delta_pn-delta_pn_est)))\n",
    "print(np.max(np.abs((delta_pn-delta_pn_est))))"
   ]
  },
  {
   "cell_type": "code",
   "execution_count": 46,
   "metadata": {
    "colab": {},
    "colab_type": "code",
    "id": "NNVDeVklQOhH"
   },
   "outputs": [],
   "source": [
    "if (c<0):\n",
    "    k_max=k_est\n",
    "else:\n",
    "    k_min=k_est"
   ]
  },
  {
   "cell_type": "code",
   "execution_count": 47,
   "metadata": {
    "colab": {},
    "colab_type": "code",
    "id": "2O2uBtI8QOhL",
    "outputId": "9328bb8d-a939-4cd1-ec12-ddee1c4f0601"
   },
   "outputs": [
    {
     "data": {
      "text/plain": [
       "(array([872.86645211]), array([953.13989661]))"
      ]
     },
     "execution_count": 47,
     "metadata": {},
     "output_type": "execute_result"
    }
   ],
   "source": [
    "k_min, k_max"
   ]
  },
  {
   "cell_type": "code",
   "execution_count": 48,
   "metadata": {
    "colab": {},
    "colab_type": "code",
    "id": "k9SPgIq6QOhP",
    "outputId": "359931cf-eb6e-4a11-cb58-9cfa51309bc6"
   },
   "outputs": [
    {
     "data": {
      "text/plain": [
       "array([3339.92750207])"
      ]
     },
     "execution_count": 48,
     "metadata": {},
     "output_type": "execute_result"
    }
   ],
   "source": [
    "res"
   ]
  },
  {
   "cell_type": "code",
   "execution_count": 49,
   "metadata": {
    "colab": {},
    "colab_type": "code",
    "id": "g1nPapBKQOhS",
    "outputId": "5d4f9a7d-bf7f-4a65-b777-d824a431a968"
   },
   "outputs": [
    {
     "data": {
      "text/plain": [
       "3339.92750207057"
      ]
     },
     "execution_count": 49,
     "metadata": {},
     "output_type": "execute_result"
    }
   ],
   "source": [
    "sum((A.dot(popt)-delta_pn)**2)"
   ]
  },
  {
   "cell_type": "code",
   "execution_count": 50,
   "metadata": {
    "colab": {},
    "colab_type": "code",
    "id": "bsMfGvFUQOhV"
   },
   "outputs": [],
   "source": [
    "pob_est=np.zeros(len(p_n))"
   ]
  },
  {
   "cell_type": "code",
   "execution_count": 51,
   "metadata": {
    "colab": {},
    "colab_type": "code",
    "id": "9rhv-olhQOhZ"
   },
   "outputs": [],
   "source": [
    "pob_est[0]=p_n[0]"
   ]
  },
  {
   "cell_type": "code",
   "execution_count": 52,
   "metadata": {
    "colab": {},
    "colab_type": "code",
    "id": "Wgfp6BnmQOhg"
   },
   "outputs": [],
   "source": [
    "for i in range(1,len(p_n)):\n",
    "    pob_est[i]=pob_est[i-1]+m*(1-pob_est[i-1]/k_est)*pob_est[i-1]"
   ]
  },
  {
   "cell_type": "code",
   "execution_count": 53,
   "metadata": {
    "colab": {},
    "colab_type": "code",
    "id": "j6-77GdXQOhi",
    "outputId": "56260067-4bcb-4786-b772-95f6575d994c"
   },
   "outputs": [
    {
     "data": {
      "text/plain": [
       "array([ 20.        ,  26.00020068,  33.75036479,  43.72660846,\n",
       "        56.51147243,  72.80211249,  93.40757399, 119.2262739 ,\n",
       "       151.19181513, 190.17376477, 236.82303847, 291.36341645,\n",
       "       353.35537697, 421.49441203, 493.53926731, 566.46677119,\n",
       "       636.88862452, 701.64533741, 758.37827347, 805.86566234,\n",
       "       844.02303352])"
      ]
     },
     "execution_count": 53,
     "metadata": {},
     "output_type": "execute_result"
    }
   ],
   "source": [
    "pob_est"
   ]
  },
  {
   "cell_type": "code",
   "execution_count": 55,
   "metadata": {
    "colab": {},
    "colab_type": "code",
    "id": "yXzijKuEQOhp",
    "outputId": "ed31dc9f-2ef5-4c3f-b351-90ab73af5ba8"
   },
   "outputs": [
    {
     "data": {
      "text/plain": [
       "[<matplotlib.lines.Line2D at 0x20f156e9188>]"
      ]
     },
     "execution_count": 55,
     "metadata": {},
     "output_type": "execute_result"
    },
    {
     "data": {
      "image/png": "[encoded data removed]",
      "text/plain": [
       "<Figure size 432x288 with 1 Axes>"
      ]
     },
     "metadata": {
      "needs_background": "light"
     },
     "output_type": "display_data"
    }
   ],
   "source": [
    "plp.plot(n,pob_est,\"ro\")\n",
    "plp.plot(n,p_n,\"bo\")"
   ]
  },
  {
   "cell_type": "code",
   "execution_count": 56,
   "metadata": {
    "colab": {},
    "colab_type": "code",
    "id": "XQxjsXrGQOhv",
    "outputId": "a97bebbd-f81f-42fd-e769-83b405ad1e19"
   },
   "outputs": [],
   "source": [
    "plp.show()"
   ]
  },
  {
   "cell_type": "code",
   "execution_count": 57,
   "metadata": {
    "colab": {},
    "colab_type": "code",
    "id": "34SL4k60QOhz",
    "outputId": "bc6f4ed9-392b-443c-aa23-4975923c6c26"
   },
   "outputs": [
    {
     "data": {
      "text/plain": [
       "181169.40250429837"
      ]
     },
     "execution_count": 57,
     "metadata": {},
     "output_type": "execute_result"
    }
   ],
   "source": [
    "np.sum((p_n-pob_est)*(p_n-pob_est))"
   ]
  },
  {
   "cell_type": "code",
   "execution_count": 58,
   "metadata": {
    "colab": {},
    "colab_type": "code",
    "id": "hxWWLyY0QOh8",
    "outputId": "c9af4459-bf2a-4c6f-91ae-dea6e06ca0ef"
   },
   "outputs": [
    {
     "data": {
      "text/plain": [
       "171.10095519601094"
      ]
     },
     "execution_count": 58,
     "metadata": {},
     "output_type": "execute_result"
    }
   ],
   "source": [
    "np.max(np.abs(p_n-pob_est))"
   ]
  },
  {
   "cell_type": "code",
   "execution_count": 60,
   "metadata": {
    "colab": {},
    "colab_type": "code",
    "id": "J7EEgVm_QOiB",
    "outputId": "06c8d99b-42c8-4825-9f68-fc4efab16fac"
   },
   "outputs": [
    {
     "name": "stdout",
     "output_type": "stream",
     "text": [
      "[953.13989661] 0.3064401533496387\n"
     ]
    }
   ],
   "source": [
    "print(k_est, m)"
   ]
  },
  {
   "cell_type": "code",
   "execution_count": 61,
   "metadata": {
    "colab": {},
    "colab_type": "code",
    "id": "Xw_KbjPFQOiF",
    "outputId": "7beab8aa-0ad1-4952-bc79-c791cfb96648"
   },
   "outputs": [
    {
     "data": {
      "text/plain": [
       "array([ 7.68066988, 10.31769317, 13.96940678, 18.8065068 , 24.96185379,\n",
       "       32.66748069, 41.85840398, 52.19653946, 62.90754716, 72.35008051,\n",
       "       78.71704382, 80.2734445 , 75.88869668, 66.28161988, 53.55545824,\n",
       "       40.30512765, 28.56436158, 19.37889949, 12.6920083 ,  8.12951875])"
      ]
     },
     "execution_count": 61,
     "metadata": {},
     "output_type": "execute_result"
    }
   ],
   "source": [
    "delta_pn"
   ]
  },
  {
   "cell_type": "code",
   "execution_count": 62,
   "metadata": {
    "colab": {},
    "colab_type": "code",
    "id": "whOAGChgQOiM",
    "outputId": "83b0a6c3-1b99-464f-f077-a7be3cc71363"
   },
   "outputs": [
    {
     "data": {
      "text/plain": [
       "array([ 19.58033443,  26.87678004,  36.48350086,  49.1343462 ,\n",
       "        65.51901636,  86.12011634, 111.10553409, 139.84764057,\n",
       "       170.53773089, 199.92868345, 223.46425606, 236.59481673,\n",
       "       236.59481673, 224.16123651, 203.41511243, 179.91881226,\n",
       "       158.26675521, 140.85795028, 128.07254191, 119.2718158 ,\n",
       "       113.45716049])"
      ]
     },
     "execution_count": 62,
     "metadata": {},
     "output_type": "execute_result"
    }
   ],
   "source": [
    "y"
   ]
  },
  {
   "cell_type": "code",
   "execution_count": 63,
   "metadata": {
    "colab": {},
    "colab_type": "code",
    "id": "smDOK4CmQOiP",
    "outputId": "cf0751a5-2d7f-4b5a-92ef-ff2b37996e93"
   },
   "outputs": [
    {
     "data": {
      "text/plain": [
       "140840.01803709168"
      ]
     },
     "execution_count": 63,
     "metadata": {},
     "output_type": "execute_result"
    }
   ],
   "source": [
    "np.sum(delta_pn*y[:-1])"
   ]
  },
  {
   "cell_type": "code",
   "execution_count": 64,
   "metadata": {
    "colab": {},
    "colab_type": "code",
    "id": "0r8dKcoQQOiR",
    "outputId": "a25fc6da-6e1a-4a78-f022-8857d3f6e30e"
   },
   "outputs": [
    {
     "data": {
      "text/plain": [
       "0.2940773365892447"
      ]
     },
     "execution_count": 64,
     "metadata": {},
     "output_type": "execute_result"
    }
   ],
   "source": [
    "r_est=np.sum(delta_pn*y[:-1])/np.sum(y[:-1]*y[:-1])\n",
    "r_est"
   ]
  },
  {
   "cell_type": "code",
   "execution_count": 65,
   "metadata": {
    "colab": {},
    "colab_type": "code",
    "id": "hHkcoUvYQOiU",
    "outputId": "b132d772-edc0-44e9-894c-71ebca79cbfe"
   },
   "outputs": [
    {
     "data": {
      "text/plain": [
       "array([953.13989661])"
      ]
     },
     "execution_count": 65,
     "metadata": {},
     "output_type": "execute_result"
    }
   ],
   "source": [
    "k_est"
   ]
  },
  {
   "cell_type": "code",
   "execution_count": 66,
   "metadata": {
    "colab": {},
    "colab_type": "code",
    "id": "ysq0R9R-QOiZ",
    "outputId": "cdbd8b46-771e-49b4-b048-21b12a65b253"
   },
   "outputs": [
    {
     "data": {
      "text/plain": [
       "array([ 7.68066988, 10.31769317, 13.96940678, 18.8065068 , 24.96185379,\n",
       "       32.66748069, 41.85840398, 52.19653946, 62.90754716, 72.35008051,\n",
       "       78.71704382, 80.2734445 , 75.88869668, 66.28161988, 53.55545824,\n",
       "       40.30512765, 28.56436158, 19.37889949, 12.6920083 ,  8.12951875])"
      ]
     },
     "execution_count": 66,
     "metadata": {},
     "output_type": "execute_result"
    }
   ],
   "source": [
    "delta_pn"
   ]
  },
  {
   "cell_type": "code",
   "execution_count": 67,
   "metadata": {
    "colab": {},
    "colab_type": "code",
    "id": "uElRdpetQOif",
    "outputId": "611bc8b4-5416-47d9-cdbe-68fce38ada89"
   },
   "outputs": [
    {
     "data": {
      "text/plain": [
       "array([ 3.85166858,  6.08759249,  9.03147749, 12.90820448, 17.92912531,\n",
       "       24.24212955, 31.89866479, 40.70640031, 50.1110763 , 59.11764431,\n",
       "       66.32988879, 70.35361981, 70.35361981, 66.54347158, 60.18602614,\n",
       "       52.98581631, 46.35075663, 41.01599978, 37.09803727, 34.40114141,\n",
       "       32.61929755])"
      ]
     },
     "execution_count": 67,
     "metadata": {},
     "output_type": "execute_result"
    }
   ],
   "source": [
    "delta_pn_est=y*m+c\n",
    "delta_pn_est"
   ]
  },
  {
   "cell_type": "code",
   "execution_count": 68,
   "metadata": {
    "colab": {},
    "colab_type": "code",
    "id": "erHvg6fdQOij",
    "outputId": "c8155e16-c256-44d8-a4cd-8cb3a1b49606"
   },
   "outputs": [
    {
     "data": {
      "text/plain": [
       "array([[  -1.        ,  -19.58033443,   -1.        ],\n",
       "       [  -1.        ,  -26.87678004,   -1.        ],\n",
       "       [  -1.        ,  -36.48350086,   -1.        ],\n",
       "       [  -1.        ,  -49.1343462 ,   -1.        ],\n",
       "       [  -1.        ,  -65.51901636,   -1.        ],\n",
       "       [  -1.        ,  -86.12011634,   -1.        ],\n",
       "       [  -1.        , -111.10553409,   -1.        ],\n",
       "       [  -1.        , -139.84764057,   -1.        ],\n",
       "       [  -1.        , -170.53773089,   -1.        ],\n",
       "       [  -1.        , -199.92868345,   -1.        ],\n",
       "       [  -1.        , -223.46425606,   -1.        ],\n",
       "       [  -1.        , -236.59481673,   -1.        ],\n",
       "       [  -1.        , -236.59481673,   -1.        ],\n",
       "       [  -1.        , -224.16123651,   -1.        ],\n",
       "       [  -1.        , -203.41511243,   -1.        ],\n",
       "       [  -1.        , -179.91881226,   -1.        ],\n",
       "       [  -1.        , -158.26675521,   -1.        ],\n",
       "       [  -1.        , -140.85795028,   -1.        ],\n",
       "       [  -1.        , -128.07254191,   -1.        ],\n",
       "       [  -1.        , -119.2718158 ,   -1.        ],\n",
       "       [  -1.        ,   19.58033443,    1.        ],\n",
       "       [  -1.        ,   26.87678004,    1.        ],\n",
       "       [  -1.        ,   36.48350086,    1.        ],\n",
       "       [  -1.        ,   49.1343462 ,    1.        ],\n",
       "       [  -1.        ,   65.51901636,    1.        ],\n",
       "       [  -1.        ,   86.12011634,    1.        ],\n",
       "       [  -1.        ,  111.10553409,    1.        ],\n",
       "       [  -1.        ,  139.84764057,    1.        ],\n",
       "       [  -1.        ,  170.53773089,    1.        ],\n",
       "       [  -1.        ,  199.92868345,    1.        ],\n",
       "       [  -1.        ,  223.46425606,    1.        ],\n",
       "       [  -1.        ,  236.59481673,    1.        ],\n",
       "       [  -1.        ,  236.59481673,    1.        ],\n",
       "       [  -1.        ,  224.16123651,    1.        ],\n",
       "       [  -1.        ,  203.41511243,    1.        ],\n",
       "       [  -1.        ,  179.91881226,    1.        ],\n",
       "       [  -1.        ,  158.26675521,    1.        ],\n",
       "       [  -1.        ,  140.85795028,    1.        ],\n",
       "       [  -1.        ,  128.07254191,    1.        ],\n",
       "       [  -1.        ,  119.2718158 ,    1.        ]])"
      ]
     },
     "execution_count": 68,
     "metadata": {},
     "output_type": "execute_result"
    }
   ],
   "source": [
    "#xA=np.concatenate((x,-1*x),axis=0)\n",
    "wA=np.ones(len(delta_pn)*2)*-1\n",
    "yA=np.concatenate((y[0:-1]*-1,y[0:-1]),axis=0)\n",
    "delta_pnA=np.concatenate((delta_pn*-1,delta_pn),axis=0)\n",
    "cA=np.concatenate((np.ones(len(delta_pn))*-1,np.ones(len(delta_pn))),axis=0)\n",
    "A2=np.column_stack((wA,yA,cA))\n",
    "A2"
   ]
  },
  {
   "cell_type": "code",
   "execution_count": 69,
   "metadata": {
    "colab": {},
    "colab_type": "code",
    "id": "4-MBjYpMQOin"
   },
   "outputs": [],
   "source": [
    "from scipy.optimize import linprog"
   ]
  },
  {
   "cell_type": "code",
   "execution_count": 0,
   "metadata": {
    "colab": {},
    "colab_type": "code",
    "id": "VC_jBgr7QOiq"
   },
   "outputs": [],
   "source": [
    "w_bnds = (0, None)\n",
    "m_bnds = (None, None)\n",
    "c_bnds = (None, None)\n",
    "\n",
    "res = linprog((1,0,0), A2, delta_pnA,bounds=(w_bnds,m_bnds,c_bnds))"
   ]
  },
  {
   "cell_type": "code",
   "execution_count": 0,
   "metadata": {
    "colab": {},
    "colab_type": "code",
    "id": "88Fe3RhQQOit",
    "outputId": "d55b01af-61e4-472e-9caa-8ce07f8d05c2"
   },
   "outputs": [
    {
     "data": {
      "text/plain": [
       "array([ 18.33309152,   0.35968608, -16.43780105])"
      ]
     },
     "execution_count": 59,
     "metadata": {
      "tags": []
     },
     "output_type": "execute_result"
    }
   ],
   "source": [
    "res.x"
   ]
  },
  {
   "cell_type": "code",
   "execution_count": 0,
   "metadata": {
    "colab": {},
    "colab_type": "code",
    "id": "I13cCrslQOix"
   },
   "outputs": [],
   "source": [
    "delta_pn_est2=y[0:-1]*res.x[1]+res.x[2]"
   ]
  },
  {
   "cell_type": "code",
   "execution_count": 0,
   "metadata": {
    "colab": {},
    "colab_type": "code",
    "id": "NrICVkX9QOi0",
    "outputId": "967181ff-37b9-438e-9bf0-c898f2a1f8da"
   },
   "outputs": [
    {
     "data": {
      "text/plain": [
       "4587.9944589528022"
      ]
     },
     "execution_count": 61,
     "metadata": {
      "tags": []
     },
     "output_type": "execute_result"
    }
   ],
   "source": [
    "np.sum((delta_pn-delta_pn_est2)*(delta_pn-delta_pn_est2))"
   ]
  },
  {
   "cell_type": "code",
   "execution_count": 0,
   "metadata": {
    "colab": {},
    "colab_type": "code",
    "id": "MHK4AEcqQOi2"
   },
   "outputs": [],
   "source": [
    "pob_est2=np.zeros(len(p_n))\n",
    "pob_est2[0]=p_n[0]\n",
    "for i in range(1,len(p_n)):\n",
    "    pob_est2[i]=pob_est2[i-1]+res.x[1]*(1-pob_est2[i-1]/k_est)*pob_est2[i-1]"
   ]
  },
  {
   "cell_type": "code",
   "execution_count": 0,
   "metadata": {
    "colab": {},
    "colab_type": "code",
    "id": "DFIqmP09QOi5",
    "outputId": "4ff05024-093d-485f-cf5a-68e8567cd02a"
   },
   "outputs": [
    {
     "data": {
      "text/plain": [
       "32795.140541780449"
      ]
     },
     "execution_count": 63,
     "metadata": {
      "tags": []
     },
     "output_type": "execute_result"
    }
   ],
   "source": [
    "np.sum((p_n-pob_est2)*(p_n-pob_est2))"
   ]
  },
  {
   "cell_type": "code",
   "execution_count": 0,
   "metadata": {
    "colab": {},
    "colab_type": "code",
    "id": "tOxWjI0WQOjG",
    "outputId": "2b88c65d-680d-490f-91c1-6d1e2db9b3b6"
   },
   "outputs": [
    {
     "data": {
      "text/plain": [
       "96.688153552103472"
      ]
     },
     "execution_count": 64,
     "metadata": {
      "tags": []
     },
     "output_type": "execute_result"
    }
   ],
   "source": [
    "np.max(np.abs(p_n-pob_est2))"
   ]
  },
  {
   "cell_type": "code",
   "execution_count": 0,
   "metadata": {
    "colab": {},
    "colab_type": "code",
    "id": "HpoGp5H7QOjM"
   },
   "outputs": [],
   "source": []
  },
  {
   "cell_type": "code",
   "execution_count": 0,
   "metadata": {
    "colab": {},
    "colab_type": "code",
    "id": "hIor2ZOWQOjO"
   },
   "outputs": [],
   "source": []
  },
  {
   "cell_type": "code",
   "execution_count": 0,
   "metadata": {
    "colab": {},
    "colab_type": "code",
    "id": "UOWMmGw6QOjQ"
   },
   "outputs": [],
   "source": []
  },
  {
   "cell_type": "code",
   "execution_count": 0,
   "metadata": {
    "colab": {},
    "colab_type": "code",
    "id": "Dk7ydKXnQOjT"
   },
   "outputs": [],
   "source": []
  },
  {
   "cell_type": "code",
   "execution_count": 0,
   "metadata": {
    "colab": {},
    "colab_type": "code",
    "id": "aWYz7j7-QOjW"
   },
   "outputs": [],
   "source": []
  }
 ],
 "metadata": {
  "colab": {
   "name": "logisticModel.ipynb",
   "provenance": []
  },
  "kernelspec": {
   "display_name": "Python 3",
   "language": "python",
   "name": "python3"
  },
  "language_info": {
   "codemirror_mode": {
    "name": "ipython",
    "version": 3
   },
   "file_extension": ".py",
   "mimetype": "text/x-python",
   "name": "python",
   "nbconvert_exporter": "python",
   "pygments_lexer": "ipython3",
   "version": "3.7.4"
  }
 },
 "nbformat": 4,
 "nbformat_minor": 1
}
