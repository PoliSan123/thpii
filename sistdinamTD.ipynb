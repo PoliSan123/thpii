{
 "cells": [
  {
   "cell_type": "code",
   "execution_count": 1,
   "metadata": {},
   "outputs": [],
   "source": [
    "import numpy as np\n",
    "import matplotlib.pyplot as plt"
   ]
  },
  {
   "cell_type": "markdown",
   "metadata": {},
   "source": [
    "Sistema dinámico en tiempo discreto\n",
    "\n",
    "$$a_{n+1}=1.01a_{n}$$\n",
    "$$a_{0}=1000$$\n",
    "\n",
    "$a_{n}$ saldo en pesos de la cuenta al final del mes $n$"
   ]
  },
  {
   "cell_type": "code",
   "execution_count": 2,
   "metadata": {},
   "outputs": [
    {
     "data": {
      "text/plain": [
       "array([0., 1., 2., 3., 4., 5., 6., 7., 8., 9.])"
      ]
     },
     "execution_count": 2,
     "metadata": {},
     "output_type": "execute_result"
    }
   ],
   "source": [
    "n=np.linspace(0,60,61)\n",
    "n[0:10]"
   ]
  },
  {
   "cell_type": "code",
   "execution_count": 3,
   "metadata": {},
   "outputs": [
    {
     "data": {
      "text/plain": [
       "array([1000.        , 1010.        , 1020.1       , 1030.301     ,\n",
       "       1040.60401   , 1051.0100501 , 1061.5201506 , 1072.13535211,\n",
       "       1082.85670563, 1093.68527268])"
      ]
     },
     "execution_count": 3,
     "metadata": {},
     "output_type": "execute_result"
    }
   ],
   "source": [
    "a_n=np.zeros(len(n))\n",
    "a_n[0]=1000\n",
    "for i in range(len(n)-1):\n",
    "    a_n[i+1]=a_n[i]+a_n[i]*0.01# es equivalente a a_n[i](1+0.01)\n",
    "a_n[0:10]    "
   ]
  },
  {
   "cell_type": "code",
   "execution_count": 4,
   "metadata": {},
   "outputs": [
    {
     "data": {
      "text/plain": [
       "[<matplotlib.lines.Line2D at 0x28d909bea08>]"
      ]
     },
     "execution_count": 4,
     "metadata": {},
     "output_type": "execute_result"
    },
    {
     "data": {
      "image/png": "[encoded data removed]",
      "text/plain": [
       "<Figure size 432x288 with 1 Axes>"
      ]
     },
     "metadata": {
      "needs_background": "light"
     },
     "output_type": "display_data"
    }
   ],
   "source": [
    "plt.plot(n,a_n,'bo')"
   ]
  },
  {
   "cell_type": "code",
   "execution_count": 5,
   "metadata": {},
   "outputs": [
    {
     "data": {
      "text/plain": [
       "1816.6966985640897"
      ]
     },
     "execution_count": 5,
     "metadata": {},
     "output_type": "execute_result"
    }
   ],
   "source": [
    "a_n[-1]"
   ]
  },
  {
   "cell_type": "code",
   "execution_count": 6,
   "metadata": {},
   "outputs": [
    {
     "name": "stdout",
     "output_type": "stream",
     "text": [
      "70 2006.7633683953832\n"
     ]
    }
   ],
   "source": [
    "saldo=1000\n",
    "meses=0\n",
    "while(saldo<2000):\n",
    "    saldo=saldo+saldo*0.01# es equivalente a a_n[i](1+0.01)\n",
    "    meses=meses+1\n",
    "print(meses,saldo)    "
   ]
  },
  {
   "cell_type": "markdown",
   "metadata": {},
   "source": [
    "Solución al sistema dinámico en tiempo dicreto es:\n",
    "\n",
    "$$a_{n}=a_{0}*1.01^{n}$$\n",
    "$$a_{0}=1000$$\n",
    "\n",
    "Comprobamos. Dado que,\n",
    "$$a_{n+1}=1.01a_{n}$$\n",
    "y\n",
    "$$a_{n}=a_{0}*1.01^{n}$$\n",
    "entonces\n",
    "$$a_{0}*1.01^{n+1}=a_{0}*1.01^{n}*1.01$$\n",
    "$$a_{0}*1.01^{n+1}=a_{0}*1.01^{n+1}$$"
   ]
  },
  {
   "cell_type": "markdown",
   "metadata": {},
   "source": [
    "Dado que deseo $a_n=2000$ cuál es el valor de $n$\n",
    "\n",
    "$$2000=a_0*1.01^n$$\n",
    "$$2000=1000*1.01^n$$"
   ]
  },
  {
   "cell_type": "code",
   "execution_count": 7,
   "metadata": {},
   "outputs": [
    {
     "data": {
      "text/plain": [
       "69.66071689357483"
      ]
     },
     "execution_count": 7,
     "metadata": {},
     "output_type": "execute_result"
    }
   ],
   "source": [
    "np.log(2)/np.log(1.01)"
   ]
  },
  {
   "cell_type": "markdown",
   "metadata": {},
   "source": [
    "Si se desea tener al menos 2000 pesos al cabo de 3 años (36 meses), cuál debe ser el valor inicial del saldo $a_0?$"
   ]
  },
  {
   "cell_type": "code",
   "execution_count": 8,
   "metadata": {},
   "outputs": [
    {
     "name": "stdout",
     "output_type": "stream",
     "text": [
      "1400.0\n"
     ]
    }
   ],
   "source": [
    "a_0=np.ceil((2000/(np.power(1.01,36))/50))*50\n",
    "print(a_0)"
   ]
  },
  {
   "cell_type": "code",
   "execution_count": 9,
   "metadata": {},
   "outputs": [
    {
     "data": {
      "text/plain": [
       "2003.0762970282135"
      ]
     },
     "execution_count": 9,
     "metadata": {},
     "output_type": "execute_result"
    }
   ],
   "source": [
    "a_0*np.power(1.01,36)"
   ]
  },
  {
   "cell_type": "markdown",
   "metadata": {},
   "source": [
    "Nuevo sistema dinámico en tiempo discreto $x_k$ es el saldo de la cuenta al final del mes $k$\n",
    "\n",
    "$$ x_{k+1}=x_k*1.015+1000$$\n",
    "$$ x_{0}=5000 $$"
   ]
  },
  {
   "cell_type": "code",
   "execution_count": 10,
   "metadata": {},
   "outputs": [],
   "source": [
    "k=np.linspace(0,60,61)\n",
    "x_k=np.zeros(len(k))"
   ]
  },
  {
   "cell_type": "code",
   "execution_count": 11,
   "metadata": {},
   "outputs": [
    {
     "data": {
      "text/plain": [
       "array([ 5000.        ,  6075.        ,  7166.125     ,  8273.616875  ,\n",
       "        9397.72112813, 10538.68694505, 11696.76724922, 12872.21875796,\n",
       "       14065.30203933, 15276.28156992])"
      ]
     },
     "execution_count": 11,
     "metadata": {},
     "output_type": "execute_result"
    }
   ],
   "source": [
    "x_k[0]=5000\n",
    "for i in range(len(k)-1):\n",
    "    x_k[i+1]=(x_k[i]+x_k[i]*0.015)+1000\n",
    "x_k[0:10] "
   ]
  },
  {
   "cell_type": "markdown",
   "metadata": {},
   "source": [
    "$$x_k=r^kx_0+\\left(\\frac{1-r^k}{1-r}\\right)b$$"
   ]
  },
  {
   "cell_type": "code",
   "execution_count": 12,
   "metadata": {},
   "outputs": [
    {
     "data": {
      "text/plain": [
       "array([ 5000.        ,  6075.        ,  7166.125     ,  8273.616875  ,\n",
       "        9397.72112813, 10538.68694505, 11696.76724922, 12872.21875796,\n",
       "       14065.30203933, 15276.28156992])"
      ]
     },
     "execution_count": 12,
     "metadata": {},
     "output_type": "execute_result"
    }
   ],
   "source": [
    "x_k_2=np.zeros(len(k))\n",
    "x_k_2[0]=5000\n",
    "for i in range(len(k)-1):\n",
    "    x_k_2[i+1]=x_k_2[0]*np.power(1.015,(i+1))+((1-np.power(1.015,(i+1)))/(1-1.015))*1000\n",
    "x_k_2[0:10]    "
   ]
  },
  {
   "cell_type": "code",
   "execution_count": 13,
   "metadata": {},
   "outputs": [
    {
     "data": {
      "text/plain": [
       "[<matplotlib.lines.Line2D at 0x28d914c27c8>]"
      ]
     },
     "execution_count": 13,
     "metadata": {},
     "output_type": "execute_result"
    },
    {
     "data": {
      "image/png": "[encoded data removed]",
      "text/plain": [
       "<Figure size 432x288 with 1 Axes>"
      ]
     },
     "metadata": {
      "needs_background": "light"
     },
     "output_type": "display_data"
    }
   ],
   "source": [
    "plt.plot(k,x_k,'ro')\n",
    "plt.plot(k,x_k_2,'go')"
   ]
  },
  {
   "cell_type": "markdown",
   "metadata": {},
   "source": [
    "$$a_{n+1}=ra_{n}$$\n",
    "$$a_{0}$$"
   ]
  },
  {
   "cell_type": "code",
   "execution_count": 14,
   "metadata": {},
   "outputs": [],
   "source": [
    "estado_inicial=200\n",
    "r=0.98"
   ]
  },
  {
   "cell_type": "code",
   "execution_count": 15,
   "metadata": {},
   "outputs": [
    {
     "data": {
      "text/plain": [
       "196.0"
      ]
     },
     "execution_count": 15,
     "metadata": {},
     "output_type": "execute_result"
    }
   ],
   "source": [
    "estado_inicial*r"
   ]
  },
  {
   "cell_type": "code",
   "execution_count": 16,
   "metadata": {},
   "outputs": [
    {
     "data": {
      "text/plain": [
       "array([200.        , 196.        , 192.08      , 188.2384    ,\n",
       "       184.473632  , 180.78415936, 177.16847617, 173.62510665,\n",
       "       170.15260452, 166.74955243])"
      ]
     },
     "execution_count": 16,
     "metadata": {},
     "output_type": "execute_result"
    }
   ],
   "source": [
    "long_n=100\n",
    "n2=np.linspace(0,long_n,long_n+1)\n",
    "y_n=np.zeros(len(n2))\n",
    "y_n[0]=estado_inicial\n",
    "for i in range(len(n2)-1):\n",
    "    y_n[i+1]=y_n[i]*r\n",
    "y_n[0:10]    "
   ]
  },
  {
   "cell_type": "code",
   "execution_count": 17,
   "metadata": {},
   "outputs": [
    {
     "data": {
      "text/plain": [
       "[<matplotlib.lines.Line2D at 0x28d9154ae48>]"
      ]
     },
     "execution_count": 17,
     "metadata": {},
     "output_type": "execute_result"
    },
    {
     "data": {
      "image/png": "[encoded data removed]",
      "text/plain": [
       "<Figure size 432x288 with 1 Axes>"
      ]
     },
     "metadata": {
      "needs_background": "light"
     },
     "output_type": "display_data"
    }
   ],
   "source": [
    "plt.plot(n2[0:10],y_n[0:10])"
   ]
  },
  {
   "cell_type": "code",
   "execution_count": 18,
   "metadata": {},
   "outputs": [
    {
     "name": "stdout",
     "output_type": "stream",
     "text": [
      "26.523911178950602\n"
     ]
    }
   ],
   "source": [
    "print(y_n[-1])"
   ]
  },
  {
   "cell_type": "code",
   "execution_count": 19,
   "metadata": {},
   "outputs": [],
   "source": [
    "y_n1=y_n[1:len(y_n)]"
   ]
  },
  {
   "cell_type": "code",
   "execution_count": 20,
   "metadata": {},
   "outputs": [
    {
     "data": {
      "text/plain": [
       "[<matplotlib.lines.Line2D at 0x28d91596488>]"
      ]
     },
     "execution_count": 20,
     "metadata": {},
     "output_type": "execute_result"
    },
    {
     "data": {
      "image/png": "[encoded data removed]",
      "text/plain": [
       "<Figure size 432x288 with 1 Axes>"
      ]
     },
     "metadata": {
      "needs_background": "light"
     },
     "output_type": "display_data"
    }
   ],
   "source": [
    "plt.plot(y_n[0:len(y_n)-1],y_n1)\n",
    "plt.plot(y_n[0:len(y_n)-1],y_n[0:len(y_n)-1])"
   ]
  },
  {
   "cell_type": "code",
   "execution_count": null,
   "metadata": {},
   "outputs": [],
   "source": []
  },
  {
   "cell_type": "code",
   "execution_count": null,
   "metadata": {},
   "outputs": [],
   "source": []
  }
 ],
 "metadata": {
  "kernelspec": {
   "display_name": "Python 3",
   "language": "python",
   "name": "python3"
  },
  "language_info": {
   "codemirror_mode": {
    "name": "ipython",
    "version": 3
   },
   "file_extension": ".py",
   "mimetype": "text/x-python",
   "name": "python",
   "nbconvert_exporter": "python",
   "pygments_lexer": "ipython3",
   "version": "3.7.4"
  }
 },
 "nbformat": 4,
 "nbformat_minor": 2
}
