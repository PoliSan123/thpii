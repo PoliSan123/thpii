{
 "cells": [
  {
   "cell_type": "code",
   "execution_count": 1,
   "metadata": {
    "colab": {},
    "colab_type": "code",
    "id": "2XNiY_RoB7Ei"
   },
   "outputs": [],
   "source": [
    "import pandas as pd\n",
    "import numpy as np\n",
    "import matplotlib.pyplot as plt"
   ]
  },
  {
   "cell_type": "markdown",
   "metadata": {
    "colab_type": "text",
    "id": "qZUJ-LA82mTZ"
   },
   "source": [
    "#### Lea los dos archivos en Data Frames de Pandas."
   ]
  },
  {
   "cell_type": "code",
   "execution_count": 2,
   "metadata": {
    "colab": {
     "base_uri": "https://localhost:8080/",
     "height": 74,
     "resources": {
      "http://localhost:8080/nbextensions/google.colab/files.js": {
       "data": "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",
       "headers": [
        [
         "content-type",
         "application/javascript"
        ]
       ],
       "ok": true,
       "status": 200,
       "status_text": ""
      }
     }
    },
    "colab_type": "code",
    "id": "_oi5CG3z2pYI",
    "outputId": "7db0b179-aa76-4fe3-a7f5-109c7bd3a982"
   },
   "outputs": [],
   "source": [
    "#from google.colab import files\n",
    "#uploaded = files.upload()"
   ]
  },
  {
   "cell_type": "code",
   "execution_count": 3,
   "metadata": {
    "colab": {},
    "colab_type": "code",
    "id": "ASrgN0ZX2mTd"
   },
   "outputs": [],
   "source": [
    "df1=pd.read_csv('Resultados_Saber_Pro_Competencias_Genericas_2018-2.csv')"
   ]
  },
  {
   "cell_type": "code",
   "execution_count": 4,
   "metadata": {
    "colab": {},
    "colab_type": "code",
    "id": "3qMcgm40B7Es"
   },
   "outputs": [],
   "source": [
    "df2=pd.read_csv('Resultados_Saber_Pro_Competencias_Especificas_2018-2.csv')"
   ]
  },
  {
   "cell_type": "code",
   "execution_count": 5,
   "metadata": {
    "colab": {},
    "colab_type": "code",
    "id": "y_MfABShB7E0",
    "outputId": "991eec1d-44c1-4b01-b2a0-c51a8ae67862",
    "scrolled": true
   },
   "outputs": [
    {
     "data": {
      "text/html": [
       "<div>\n",
       "<style scoped>\n",
       "    .dataframe tbody tr th:only-of-type {\n",
       "        vertical-align: middle;\n",
       "    }\n",
       "\n",
       "    .dataframe tbody tr th {\n",
       "        vertical-align: top;\n",
       "    }\n",
       "\n",
       "    .dataframe thead th {\n",
       "        text-align: right;\n",
       "    }\n",
       "</style>\n",
       "<table border=\"1\" class=\"dataframe\">\n",
       "  <thead>\n",
       "    <tr style=\"text-align: right;\">\n",
       "      <th></th>\n",
       "      <th>ESTU_CONSECUTIVO</th>\n",
       "      <th>INST_NOMBRE_INSTITUCION</th>\n",
       "    </tr>\n",
       "  </thead>\n",
       "  <tbody>\n",
       "    <tr>\n",
       "      <td>87031</td>\n",
       "      <td>EK201830008896</td>\n",
       "      <td>UNIVERSIDAD NACIONAL DE COLOMBIA-BOGOTÁ D.C.</td>\n",
       "    </tr>\n",
       "    <tr>\n",
       "      <td>87821</td>\n",
       "      <td>EK201830008891</td>\n",
       "      <td>UNIVERSIDAD NACIONAL DE COLOMBIA-BOGOTÁ D.C.</td>\n",
       "    </tr>\n",
       "    <tr>\n",
       "      <td>88035</td>\n",
       "      <td>EK201830008872</td>\n",
       "      <td>UNIVERSIDAD NACIONAL DE COLOMBIA-BOGOTÁ D.C.</td>\n",
       "    </tr>\n",
       "    <tr>\n",
       "      <td>89080</td>\n",
       "      <td>EK201830060285</td>\n",
       "      <td>UNIVERSIDAD NACIONAL DE COLOMBIA-BOGOTÁ D.C.</td>\n",
       "    </tr>\n",
       "    <tr>\n",
       "      <td>89180</td>\n",
       "      <td>EK201830060862</td>\n",
       "      <td>UNIVERSIDAD NACIONAL DE COLOMBIA-BOGOTÁ D.C.</td>\n",
       "    </tr>\n",
       "    <tr>\n",
       "      <td>...</td>\n",
       "      <td>...</td>\n",
       "      <td>...</td>\n",
       "    </tr>\n",
       "    <tr>\n",
       "      <td>110475</td>\n",
       "      <td>EK201830059971</td>\n",
       "      <td>UNIVERSIDAD NACIONAL DE COLOMBIA-BOGOTÁ D.C.</td>\n",
       "    </tr>\n",
       "    <tr>\n",
       "      <td>111561</td>\n",
       "      <td>EK201830059946</td>\n",
       "      <td>UNIVERSIDAD NACIONAL DE COLOMBIA-BOGOTÁ D.C.</td>\n",
       "    </tr>\n",
       "    <tr>\n",
       "      <td>111872</td>\n",
       "      <td>EK201820000920</td>\n",
       "      <td>UNIVERSIDAD NACIONAL DE COLOMBIA-BOGOTÁ D.C.</td>\n",
       "    </tr>\n",
       "    <tr>\n",
       "      <td>111980</td>\n",
       "      <td>EK201830008873</td>\n",
       "      <td>UNIVERSIDAD NACIONAL DE COLOMBIA-BOGOTÁ D.C.</td>\n",
       "    </tr>\n",
       "    <tr>\n",
       "      <td>112069</td>\n",
       "      <td>EK201830060445</td>\n",
       "      <td>UNIVERSIDAD NACIONAL DE COLOMBIA-BOGOTÁ D.C.</td>\n",
       "    </tr>\n",
       "  </tbody>\n",
       "</table>\n",
       "<p>70 rows × 2 columns</p>\n",
       "</div>"
      ],
      "text/plain": [
       "       ESTU_CONSECUTIVO                       INST_NOMBRE_INSTITUCION\n",
       "87031    EK201830008896  UNIVERSIDAD NACIONAL DE COLOMBIA-BOGOTÁ D.C.\n",
       "87821    EK201830008891  UNIVERSIDAD NACIONAL DE COLOMBIA-BOGOTÁ D.C.\n",
       "88035    EK201830008872  UNIVERSIDAD NACIONAL DE COLOMBIA-BOGOTÁ D.C.\n",
       "89080    EK201830060285  UNIVERSIDAD NACIONAL DE COLOMBIA-BOGOTÁ D.C.\n",
       "89180    EK201830060862  UNIVERSIDAD NACIONAL DE COLOMBIA-BOGOTÁ D.C.\n",
       "...                 ...                                           ...\n",
       "110475   EK201830059971  UNIVERSIDAD NACIONAL DE COLOMBIA-BOGOTÁ D.C.\n",
       "111561   EK201830059946  UNIVERSIDAD NACIONAL DE COLOMBIA-BOGOTÁ D.C.\n",
       "111872   EK201820000920  UNIVERSIDAD NACIONAL DE COLOMBIA-BOGOTÁ D.C.\n",
       "111980   EK201830008873  UNIVERSIDAD NACIONAL DE COLOMBIA-BOGOTÁ D.C.\n",
       "112069   EK201830060445  UNIVERSIDAD NACIONAL DE COLOMBIA-BOGOTÁ D.C.\n",
       "\n",
       "[70 rows x 2 columns]"
      ]
     },
     "execution_count": 5,
     "metadata": {},
     "output_type": "execute_result"
    }
   ],
   "source": [
    "df1[(df1.ESTU_PRGM_ACADEMICO=='INGENIERIA INDUSTRIAL')&(df1['INST_NOMBRE_INSTITUCION'].str.contains('UNIVERSIDAD NACIONAL DE COLOMBIA-BOGOTÁ D.C.'))][['ESTU_CONSECUTIVO','INST_NOMBRE_INSTITUCION']]"
   ]
  },
  {
   "cell_type": "code",
   "execution_count": 6,
   "metadata": {
    "colab": {},
    "colab_type": "code",
    "id": "4j1zTsHuB7FB",
    "outputId": "2bf34768-3394-4afd-d22a-774f1a03c1d2"
   },
   "outputs": [
    {
     "data": {
      "text/html": [
       "<div>\n",
       "<style scoped>\n",
       "    .dataframe tbody tr th:only-of-type {\n",
       "        vertical-align: middle;\n",
       "    }\n",
       "\n",
       "    .dataframe tbody tr th {\n",
       "        vertical-align: top;\n",
       "    }\n",
       "\n",
       "    .dataframe thead th {\n",
       "        text-align: right;\n",
       "    }\n",
       "</style>\n",
       "<table border=\"1\" class=\"dataframe\">\n",
       "  <thead>\n",
       "    <tr style=\"text-align: right;\">\n",
       "      <th></th>\n",
       "      <th>ESTU_CONSECUTIVO</th>\n",
       "      <th>RESULT_CODIGOPRUEBA</th>\n",
       "      <th>RESULT_NOMBREPRUEBA</th>\n",
       "      <th>RESULT_PUNTAJE</th>\n",
       "      <th>RESULT_DESEMPENO</th>\n",
       "    </tr>\n",
       "  </thead>\n",
       "  <tbody>\n",
       "    <tr>\n",
       "      <td>0</td>\n",
       "      <td>EK201830010858</td>\n",
       "      <td>9003</td>\n",
       "      <td>PENSAMIENTO CIENTÍFICO - MATEMÁTICAS Y ESTADÍS...</td>\n",
       "      <td>168</td>\n",
       "      <td>3</td>\n",
       "    </tr>\n",
       "    <tr>\n",
       "      <td>1</td>\n",
       "      <td>EK201830004053</td>\n",
       "      <td>9003</td>\n",
       "      <td>PENSAMIENTO CIENTÍFICO - MATEMÁTICAS Y ESTADÍS...</td>\n",
       "      <td>165</td>\n",
       "      <td>3</td>\n",
       "    </tr>\n",
       "    <tr>\n",
       "      <td>2</td>\n",
       "      <td>EK201830018583</td>\n",
       "      <td>5002</td>\n",
       "      <td>FORMULACIÓN DE PROYECTOS DE INGENIERÍA</td>\n",
       "      <td>160</td>\n",
       "      <td>3</td>\n",
       "    </tr>\n",
       "    <tr>\n",
       "      <td>3</td>\n",
       "      <td>EK201830018583</td>\n",
       "      <td>9003</td>\n",
       "      <td>PENSAMIENTO CIENTÍFICO - MATEMÁTICAS Y ESTADÍS...</td>\n",
       "      <td>189</td>\n",
       "      <td>3</td>\n",
       "    </tr>\n",
       "    <tr>\n",
       "      <td>4</td>\n",
       "      <td>EK201830009467</td>\n",
       "      <td>5002</td>\n",
       "      <td>FORMULACIÓN DE PROYECTOS DE INGENIERÍA</td>\n",
       "      <td>157</td>\n",
       "      <td>3</td>\n",
       "    </tr>\n",
       "  </tbody>\n",
       "</table>\n",
       "</div>"
      ],
      "text/plain": [
       "  ESTU_CONSECUTIVO  RESULT_CODIGOPRUEBA  \\\n",
       "0   EK201830010858                 9003   \n",
       "1   EK201830004053                 9003   \n",
       "2   EK201830018583                 5002   \n",
       "3   EK201830018583                 9003   \n",
       "4   EK201830009467                 5002   \n",
       "\n",
       "                                 RESULT_NOMBREPRUEBA  RESULT_PUNTAJE  \\\n",
       "0  PENSAMIENTO CIENTÍFICO - MATEMÁTICAS Y ESTADÍS...             168   \n",
       "1  PENSAMIENTO CIENTÍFICO - MATEMÁTICAS Y ESTADÍS...             165   \n",
       "2             FORMULACIÓN DE PROYECTOS DE INGENIERÍA             160   \n",
       "3  PENSAMIENTO CIENTÍFICO - MATEMÁTICAS Y ESTADÍS...             189   \n",
       "4             FORMULACIÓN DE PROYECTOS DE INGENIERÍA             157   \n",
       "\n",
       "   RESULT_DESEMPENO  \n",
       "0                 3  \n",
       "1                 3  \n",
       "2                 3  \n",
       "3                 3  \n",
       "4                 3  "
      ]
     },
     "execution_count": 6,
     "metadata": {},
     "output_type": "execute_result"
    }
   ],
   "source": [
    "df2.head()"
   ]
  },
  {
   "cell_type": "code",
   "execution_count": 7,
   "metadata": {
    "colab": {},
    "colab_type": "code",
    "id": "C2Abc6kiB7FI",
    "outputId": "531fe706-a7de-41b2-ffdd-1dde1d595f88"
   },
   "outputs": [
    {
     "name": "stdout",
     "output_type": "stream",
     "text": [
      "10555\n",
      "10555\n"
     ]
    }
   ],
   "source": [
    "serie1=df1[df1.ESTU_PRGM_ACADEMICO=='INGENIERIA INDUSTRIAL']['ESTU_CONSECUTIVO']\n",
    "print(len(serie1))\n",
    "print(serie1.nunique())"
   ]
  },
  {
   "cell_type": "code",
   "execution_count": 8,
   "metadata": {
    "colab": {},
    "colab_type": "code",
    "id": "Rx7fd1ICB7FO"
   },
   "outputs": [],
   "source": [
    "serie2=[~serie1.isin(df2['ESTU_CONSECUTIVO'])]"
   ]
  },
  {
   "cell_type": "code",
   "execution_count": 9,
   "metadata": {
    "colab": {},
    "colab_type": "code",
    "id": "YuZU6T7-B7FR",
    "outputId": "f7d2f5c1-81cc-44c5-dd10-145f57ff86ac"
   },
   "outputs": [
    {
     "data": {
      "text/plain": [
       "(344588, 5)"
      ]
     },
     "execution_count": 9,
     "metadata": {},
     "output_type": "execute_result"
    }
   ],
   "source": [
    "df2.loc[~df2['ESTU_CONSECUTIVO'].isin(serie1)].shape"
   ]
  },
  {
   "cell_type": "code",
   "execution_count": 10,
   "metadata": {
    "colab": {},
    "colab_type": "code",
    "id": "iixa6nqOB7FY",
    "outputId": "f9976c9b-7f9d-4916-bdda-01a2ca26734e"
   },
   "outputs": [
    {
     "data": {
      "text/html": [
       "<div>\n",
       "<style scoped>\n",
       "    .dataframe tbody tr th:only-of-type {\n",
       "        vertical-align: middle;\n",
       "    }\n",
       "\n",
       "    .dataframe tbody tr th {\n",
       "        vertical-align: top;\n",
       "    }\n",
       "\n",
       "    .dataframe thead th {\n",
       "        text-align: right;\n",
       "    }\n",
       "</style>\n",
       "<table border=\"1\" class=\"dataframe\">\n",
       "  <thead>\n",
       "    <tr style=\"text-align: right;\">\n",
       "      <th></th>\n",
       "      <th>ESTU_CONSECUTIVO</th>\n",
       "      <th>RESULT_CODIGOPRUEBA</th>\n",
       "      <th>RESULT_PUNTAJE</th>\n",
       "    </tr>\n",
       "  </thead>\n",
       "  <tbody>\n",
       "  </tbody>\n",
       "</table>\n",
       "</div>"
      ],
      "text/plain": [
       "Empty DataFrame\n",
       "Columns: [ESTU_CONSECUTIVO, RESULT_CODIGOPRUEBA, RESULT_PUNTAJE]\n",
       "Index: []"
      ]
     },
     "execution_count": 10,
     "metadata": {},
     "output_type": "execute_result"
    }
   ],
   "source": [
    "dataFrameFinal=pd.DataFrame(columns=['ESTU_CONSECUTIVO','RESULT_CODIGOPRUEBA','RESULT_PUNTAJE'])\n",
    "dataFrameFinal"
   ]
  },
  {
   "cell_type": "code",
   "execution_count": 11,
   "metadata": {
    "colab": {},
    "colab_type": "code",
    "id": "CjMqEXcwB7Fd",
    "outputId": "6995c556-4c05-4d51-ee46-e5548b98f654"
   },
   "outputs": [
    {
     "name": "stdout",
     "output_type": "stream",
     "text": [
      "10337 316 10021\n"
     ]
    }
   ],
   "source": [
    "contador=0\n",
    "contador2=0\n",
    "contador3=0\n",
    "contador0=0\n",
    "for element in serie1:\n",
    "    a=df2[df2.ESTU_CONSECUTIVO==element][['ESTU_CONSECUTIVO','RESULT_CODIGOPRUEBA','RESULT_PUNTAJE']]\n",
    "    if a.shape[0]>0:\n",
    "        dataFrameFinal=dataFrameFinal.append(a , ignore_index=True)\n",
    "        contador+=1\n",
    "        if a.shape[0]==3:\n",
    "            contador3+=1\n",
    "        elif a.shape[0]==2:\n",
    "            contador2+=1 \n",
    "        else:\n",
    "            contador0+=1\n",
    "print(contador,contador2,contador3)         \n"
   ]
  },
  {
   "cell_type": "code",
   "execution_count": 12,
   "metadata": {
    "colab": {},
    "colab_type": "code",
    "id": "aN18UNU5B7Fn",
    "outputId": "94cc3d97-12ef-401c-c043-f74566f2b37a"
   },
   "outputs": [
    {
     "data": {
      "text/plain": [
       "0"
      ]
     },
     "execution_count": 12,
     "metadata": {},
     "output_type": "execute_result"
    }
   ],
   "source": [
    "contador0"
   ]
  },
  {
   "cell_type": "code",
   "execution_count": 13,
   "metadata": {
    "colab": {},
    "colab_type": "code",
    "id": "sigXtBurB7Fx",
    "outputId": "b67446be-1895-4c90-bc46-cedee0d14d68"
   },
   "outputs": [
    {
     "data": {
      "text/plain": [
       "(30695, 3)"
      ]
     },
     "execution_count": 13,
     "metadata": {},
     "output_type": "execute_result"
    }
   ],
   "source": [
    "dataFrameFinal.shape"
   ]
  },
  {
   "cell_type": "code",
   "execution_count": 14,
   "metadata": {
    "colab": {},
    "colab_type": "code",
    "id": "0ntloyP7B7F1",
    "outputId": "5fea91c8-40d1-40c1-a183-fabf60f1449d"
   },
   "outputs": [
    {
     "data": {
      "text/plain": [
       "(30695, 5)"
      ]
     },
     "execution_count": 14,
     "metadata": {},
     "output_type": "execute_result"
    }
   ],
   "source": [
    "nuevodf=df2.loc[df2['ESTU_CONSECUTIVO'].isin(serie1)]\n",
    "nuevodf.shape"
   ]
  },
  {
   "cell_type": "code",
   "execution_count": 15,
   "metadata": {
    "colab": {},
    "colab_type": "code",
    "id": "--q1WEpPB7F5",
    "outputId": "796d1317-0976-459b-c5c0-a1c2532a9f26"
   },
   "outputs": [
    {
     "data": {
      "text/plain": [
       "(10337, 3)"
      ]
     },
     "execution_count": 15,
     "metadata": {},
     "output_type": "execute_result"
    }
   ],
   "source": [
    "df3=nuevodf.pivot_table('RESULT_PUNTAJE', ['ESTU_CONSECUTIVO'], 'RESULT_NOMBREPRUEBA')\n",
    "df3.shape"
   ]
  },
  {
   "cell_type": "code",
   "execution_count": 16,
   "metadata": {
    "colab": {},
    "colab_type": "code",
    "id": "NgU5Hul6B7F9",
    "outputId": "d4231dc3-8a8d-4565-d4b9-b1fb36337c6b"
   },
   "outputs": [
    {
     "data": {
      "text/plain": [
       "30695"
      ]
     },
     "execution_count": 16,
     "metadata": {},
     "output_type": "execute_result"
    }
   ],
   "source": [
    "(10337-316)*3+316*2"
   ]
  },
  {
   "cell_type": "code",
   "execution_count": 17,
   "metadata": {
    "colab": {},
    "colab_type": "code",
    "id": "DeLOriVVB7GB",
    "outputId": "72c7df31-b96e-44bb-da2e-63bd426363cc"
   },
   "outputs": [
    {
     "data": {
      "text/plain": [
       "RESULT_NOMBREPRUEBA\n",
       "DISEÑO DE SISTEMAS PRODUCTIVOS Y LOGÍSTICOS           10021\n",
       "FORMULACIÓN DE PROYECTOS DE INGENIERÍA                10021\n",
       "PENSAMIENTO CIENTÍFICO - MATEMÁTICAS Y ESTADÍSTICA    10021\n",
       "dtype: int64"
      ]
     },
     "execution_count": 17,
     "metadata": {},
     "output_type": "execute_result"
    }
   ],
   "source": [
    "df3.dropna().count()"
   ]
  },
  {
   "cell_type": "code",
   "execution_count": 18,
   "metadata": {
    "colab": {},
    "colab_type": "code",
    "id": "2KrX5F1mB7GF",
    "outputId": "4c0ba9b0-4a39-4635-b4a1-85ecdd8b3bf9"
   },
   "outputs": [
    {
     "data": {
      "text/plain": [
       "316"
      ]
     },
     "execution_count": 18,
     "metadata": {},
     "output_type": "execute_result"
    }
   ],
   "source": [
    "df3['DISEÑO DE SISTEMAS PRODUCTIVOS Y LOGÍSTICOS'].isnull().sum()"
   ]
  },
  {
   "cell_type": "code",
   "execution_count": 19,
   "metadata": {
    "colab": {},
    "colab_type": "code",
    "id": "LOXeXZKiB7GI"
   },
   "outputs": [],
   "source": [
    "df3.reset_index(drop=False, inplace=True )"
   ]
  },
  {
   "cell_type": "code",
   "execution_count": 20,
   "metadata": {
    "colab": {},
    "colab_type": "code",
    "id": "4_bbntZL2mVS",
    "outputId": "213ccaf2-050e-4e34-bb0f-a40e6dad3097"
   },
   "outputs": [
    {
     "data": {
      "text/html": [
       "<div>\n",
       "<style scoped>\n",
       "    .dataframe tbody tr th:only-of-type {\n",
       "        vertical-align: middle;\n",
       "    }\n",
       "\n",
       "    .dataframe tbody tr th {\n",
       "        vertical-align: top;\n",
       "    }\n",
       "\n",
       "    .dataframe thead th {\n",
       "        text-align: right;\n",
       "    }\n",
       "</style>\n",
       "<table border=\"1\" class=\"dataframe\">\n",
       "  <thead>\n",
       "    <tr style=\"text-align: right;\">\n",
       "      <th>RESULT_NOMBREPRUEBA</th>\n",
       "      <th>ESTU_CONSECUTIVO</th>\n",
       "      <th>DISEÑO DE SISTEMAS PRODUCTIVOS Y LOGÍSTICOS</th>\n",
       "      <th>FORMULACIÓN DE PROYECTOS DE INGENIERÍA</th>\n",
       "      <th>PENSAMIENTO CIENTÍFICO - MATEMÁTICAS Y ESTADÍSTICA</th>\n",
       "    </tr>\n",
       "  </thead>\n",
       "  <tbody>\n",
       "    <tr>\n",
       "      <td>0</td>\n",
       "      <td>EK201830002394</td>\n",
       "      <td>179.0</td>\n",
       "      <td>110.0</td>\n",
       "      <td>118.0</td>\n",
       "    </tr>\n",
       "    <tr>\n",
       "      <td>1</td>\n",
       "      <td>EK201830002395</td>\n",
       "      <td>216.0</td>\n",
       "      <td>194.0</td>\n",
       "      <td>180.0</td>\n",
       "    </tr>\n",
       "    <tr>\n",
       "      <td>2</td>\n",
       "      <td>EK201830002396</td>\n",
       "      <td>172.0</td>\n",
       "      <td>185.0</td>\n",
       "      <td>156.0</td>\n",
       "    </tr>\n",
       "    <tr>\n",
       "      <td>3</td>\n",
       "      <td>EK201830002397</td>\n",
       "      <td>216.0</td>\n",
       "      <td>160.0</td>\n",
       "      <td>142.0</td>\n",
       "    </tr>\n",
       "    <tr>\n",
       "      <td>4</td>\n",
       "      <td>EK201830002398</td>\n",
       "      <td>206.0</td>\n",
       "      <td>178.0</td>\n",
       "      <td>138.0</td>\n",
       "    </tr>\n",
       "  </tbody>\n",
       "</table>\n",
       "</div>"
      ],
      "text/plain": [
       "RESULT_NOMBREPRUEBA ESTU_CONSECUTIVO  \\\n",
       "0                     EK201830002394   \n",
       "1                     EK201830002395   \n",
       "2                     EK201830002396   \n",
       "3                     EK201830002397   \n",
       "4                     EK201830002398   \n",
       "\n",
       "RESULT_NOMBREPRUEBA  DISEÑO DE SISTEMAS PRODUCTIVOS Y LOGÍSTICOS  \\\n",
       "0                                                          179.0   \n",
       "1                                                          216.0   \n",
       "2                                                          172.0   \n",
       "3                                                          216.0   \n",
       "4                                                          206.0   \n",
       "\n",
       "RESULT_NOMBREPRUEBA  FORMULACIÓN DE PROYECTOS DE INGENIERÍA  \\\n",
       "0                                                     110.0   \n",
       "1                                                     194.0   \n",
       "2                                                     185.0   \n",
       "3                                                     160.0   \n",
       "4                                                     178.0   \n",
       "\n",
       "RESULT_NOMBREPRUEBA  PENSAMIENTO CIENTÍFICO - MATEMÁTICAS Y ESTADÍSTICA  \n",
       "0                                                                118.0   \n",
       "1                                                                180.0   \n",
       "2                                                                156.0   \n",
       "3                                                                142.0   \n",
       "4                                                                138.0   "
      ]
     },
     "execution_count": 20,
     "metadata": {},
     "output_type": "execute_result"
    }
   ],
   "source": [
    "df3.reset_index(drop=True, inplace=False )\n",
    "df3.head()"
   ]
  },
  {
   "cell_type": "code",
   "execution_count": 21,
   "metadata": {
    "colab": {},
    "colab_type": "code",
    "id": "io5K96jMB7GK",
    "outputId": "83a43b7a-c68b-4453-a379-ab112fecf544"
   },
   "outputs": [
    {
     "data": {
      "text/plain": [
       "Index(['ESTU_CONSECUTIVO', 'DISEÑO DE SISTEMAS PRODUCTIVOS Y LOGÍSTICOS',\n",
       "       'FORMULACIÓN DE PROYECTOS DE INGENIERÍA',\n",
       "       'PENSAMIENTO CIENTÍFICO - MATEMÁTICAS Y ESTADÍSTICA'],\n",
       "      dtype='object', name='RESULT_NOMBREPRUEBA')"
      ]
     },
     "execution_count": 21,
     "metadata": {},
     "output_type": "execute_result"
    }
   ],
   "source": [
    "df3.columns"
   ]
  },
  {
   "cell_type": "code",
   "execution_count": 25,
   "metadata": {
    "colab": {},
    "colab_type": "code",
    "id": "cz22RKAYB7GU",
    "outputId": "ca10abbb-f86f-442f-af95-87cbd52fa9b7",
    "scrolled": true
   },
   "outputs": [
    {
     "data": {
      "text/html": [
       "<div>\n",
       "<style scoped>\n",
       "    .dataframe tbody tr th:only-of-type {\n",
       "        vertical-align: middle;\n",
       "    }\n",
       "\n",
       "    .dataframe tbody tr th {\n",
       "        vertical-align: top;\n",
       "    }\n",
       "\n",
       "    .dataframe thead th {\n",
       "        text-align: right;\n",
       "    }\n",
       "</style>\n",
       "<table border=\"1\" class=\"dataframe\">\n",
       "  <thead>\n",
       "    <tr style=\"text-align: right;\">\n",
       "      <th>RESULT_NOMBREPRUEBA</th>\n",
       "      <th>ESTU_CONSECUTIVO</th>\n",
       "      <th>DISEÑO DE SISTEMAS PRODUCTIVOS Y LOGÍSTICOS</th>\n",
       "      <th>FORMULACIÓN DE PROYECTOS DE INGENIERÍA</th>\n",
       "      <th>PENSAMIENTO CIENTÍFICO - MATEMÁTICAS Y ESTADÍSTICA</th>\n",
       "    </tr>\n",
       "  </thead>\n",
       "  <tbody>\n",
       "    <tr>\n",
       "      <td>0</td>\n",
       "      <td>EK201830002394</td>\n",
       "      <td>179.0</td>\n",
       "      <td>110.0</td>\n",
       "      <td>118.0</td>\n",
       "    </tr>\n",
       "    <tr>\n",
       "      <td>1</td>\n",
       "      <td>EK201830002395</td>\n",
       "      <td>216.0</td>\n",
       "      <td>194.0</td>\n",
       "      <td>180.0</td>\n",
       "    </tr>\n",
       "    <tr>\n",
       "      <td>2</td>\n",
       "      <td>EK201830002396</td>\n",
       "      <td>172.0</td>\n",
       "      <td>185.0</td>\n",
       "      <td>156.0</td>\n",
       "    </tr>\n",
       "    <tr>\n",
       "      <td>3</td>\n",
       "      <td>EK201830002397</td>\n",
       "      <td>216.0</td>\n",
       "      <td>160.0</td>\n",
       "      <td>142.0</td>\n",
       "    </tr>\n",
       "    <tr>\n",
       "      <td>4</td>\n",
       "      <td>EK201830002398</td>\n",
       "      <td>206.0</td>\n",
       "      <td>178.0</td>\n",
       "      <td>138.0</td>\n",
       "    </tr>\n",
       "    <tr>\n",
       "      <td>...</td>\n",
       "      <td>...</td>\n",
       "      <td>...</td>\n",
       "      <td>...</td>\n",
       "      <td>...</td>\n",
       "    </tr>\n",
       "    <tr>\n",
       "      <td>10332</td>\n",
       "      <td>EK201830242692</td>\n",
       "      <td>81.0</td>\n",
       "      <td>144.0</td>\n",
       "      <td>108.0</td>\n",
       "    </tr>\n",
       "    <tr>\n",
       "      <td>10333</td>\n",
       "      <td>EK201830242705</td>\n",
       "      <td>164.0</td>\n",
       "      <td>185.0</td>\n",
       "      <td>137.0</td>\n",
       "    </tr>\n",
       "    <tr>\n",
       "      <td>10334</td>\n",
       "      <td>EK201830242874</td>\n",
       "      <td>115.0</td>\n",
       "      <td>123.0</td>\n",
       "      <td>124.0</td>\n",
       "    </tr>\n",
       "    <tr>\n",
       "      <td>10335</td>\n",
       "      <td>EK201830242954</td>\n",
       "      <td>135.0</td>\n",
       "      <td>159.0</td>\n",
       "      <td>125.0</td>\n",
       "    </tr>\n",
       "    <tr>\n",
       "      <td>10336</td>\n",
       "      <td>EK201830243061</td>\n",
       "      <td>79.0</td>\n",
       "      <td>135.0</td>\n",
       "      <td>144.0</td>\n",
       "    </tr>\n",
       "  </tbody>\n",
       "</table>\n",
       "<p>10337 rows × 4 columns</p>\n",
       "</div>"
      ],
      "text/plain": [
       "RESULT_NOMBREPRUEBA ESTU_CONSECUTIVO  \\\n",
       "0                     EK201830002394   \n",
       "1                     EK201830002395   \n",
       "2                     EK201830002396   \n",
       "3                     EK201830002397   \n",
       "4                     EK201830002398   \n",
       "...                              ...   \n",
       "10332                 EK201830242692   \n",
       "10333                 EK201830242705   \n",
       "10334                 EK201830242874   \n",
       "10335                 EK201830242954   \n",
       "10336                 EK201830243061   \n",
       "\n",
       "RESULT_NOMBREPRUEBA  DISEÑO DE SISTEMAS PRODUCTIVOS Y LOGÍSTICOS  \\\n",
       "0                                                          179.0   \n",
       "1                                                          216.0   \n",
       "2                                                          172.0   \n",
       "3                                                          216.0   \n",
       "4                                                          206.0   \n",
       "...                                                          ...   \n",
       "10332                                                       81.0   \n",
       "10333                                                      164.0   \n",
       "10334                                                      115.0   \n",
       "10335                                                      135.0   \n",
       "10336                                                       79.0   \n",
       "\n",
       "RESULT_NOMBREPRUEBA  FORMULACIÓN DE PROYECTOS DE INGENIERÍA  \\\n",
       "0                                                     110.0   \n",
       "1                                                     194.0   \n",
       "2                                                     185.0   \n",
       "3                                                     160.0   \n",
       "4                                                     178.0   \n",
       "...                                                     ...   \n",
       "10332                                                 144.0   \n",
       "10333                                                 185.0   \n",
       "10334                                                 123.0   \n",
       "10335                                                 159.0   \n",
       "10336                                                 135.0   \n",
       "\n",
       "RESULT_NOMBREPRUEBA  PENSAMIENTO CIENTÍFICO - MATEMÁTICAS Y ESTADÍSTICA  \n",
       "0                                                                118.0   \n",
       "1                                                                180.0   \n",
       "2                                                                156.0   \n",
       "3                                                                142.0   \n",
       "4                                                                138.0   \n",
       "...                                                                ...   \n",
       "10332                                                            108.0   \n",
       "10333                                                            137.0   \n",
       "10334                                                            124.0   \n",
       "10335                                                            125.0   \n",
       "10336                                                            144.0   \n",
       "\n",
       "[10337 rows x 4 columns]"
      ]
     },
     "execution_count": 25,
     "metadata": {},
     "output_type": "execute_result"
    }
   ],
   "source": [
    "df3"
   ]
  },
  {
   "cell_type": "code",
   "execution_count": null,
   "metadata": {},
   "outputs": [],
   "source": []
  }
 ],
 "metadata": {
  "colab": {
   "collapsed_sections": [],
   "name": "saberPRO.ipynb",
   "provenance": []
  },
  "kernelspec": {
   "display_name": "Python 3",
   "language": "python",
   "name": "python3"
  },
  "language_info": {
   "codemirror_mode": {
    "name": "ipython",
    "version": 3
   },
   "file_extension": ".py",
   "mimetype": "text/x-python",
   "name": "python",
   "nbconvert_exporter": "python",
   "pygments_lexer": "ipython3",
   "version": "3.7.4"
  }
 },
 "nbformat": 4,
 "nbformat_minor": 1
}
