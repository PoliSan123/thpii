{
 "cells": [
  {
   "cell_type": "markdown",
   "metadata": {},
   "source": [
    "## Lectura 1\n",
    "## Análisis exploratorio datos (EDA por Exporatory Data Analysis)\n",
    "\n",
    "Es un enfoque del análisis de datos que usa varias técnicas para mostrar información oculta en los datos y maximizar la información acerca un conjunto de datos. Es el primer paso en el proceso de análisis de datos. Ayuda a comprender mejor los datos con los que se cuenta. EDA tiene mucho más que ver con datos obtenidos a través de observaciones que por medio de las formalidades de un diseño de experimentos.\n",
    "\n",
    "Los objetivos de EDA son:\n",
    "\n",
    "* La presentación de los datos. Para representar las k-tuplas, o árboles, o hipergrafoss, que constituyen los datos, de una manera que coincida con nuestras capacidades de manejo de información, especialmente con nuestra visión.\n",
    "* Reconocimiento de patrones. Para encontrar patrones que no son obvios.\n",
    "* Formulación de hipótesis. Encontrar hipótesis de explicaciones razonables para explicar los patrones.\n",
    "* Buscar hipótesis de mayores explicatividades, como por ejemplo tratar los residuos como nuevos datos. Si las hipótesis se mejoran demasiado, el analista estaría haciendo ciencia ordinaria en lugar de EDA. Por lo tanto, EDA es intermedia entre estadística descriptiva y ciencia dura.\n",
    "* Racionalidad tipo II. Para maximizar la utilidad esperada permitiendo los costos estimados y los retrasos de la computación y el pensamiento. Este principio siempre se usa, pero es especialmente relevante para EDA debido a la gran variedad de posibles formas de examinar los datos.\n",
    "\n",
    "Los métodos para realizar el análisis exploratorio de datos pueden clasificarse en:\n",
    "\n",
    "* Métodos univariados no gráficos\n",
    "* Métodos univariados  gráficos\n",
    "* Métodos multi-variados no gráficos\n",
    "* Métodos multi-variados gráficos\n",
    "\n",
    "## Nuestros objetivos para esta parte\n",
    "\n",
    "* Desarrollar la mentalidad EDA \n",
    "    * Preguntas a tener en cuenta al explorar\n",
    "    * Cosas a tener en cuenta\n",
    "* Aprender los métodos básicos para un EDA efectivo\n",
    "    * Extracción de información\n",
    "    * Cálculo de estadísticas resumidas\n",
    "    * Gráficos básico\n",
    "    * Mapeo básico\n",
    "    \n",
    "EDA es una extensión de estadística descriptiva y gráfica. Pensemos que las estadísticas descriptivas incluyen estadísticas gráficas. El propósito de las estadísticas descriptivas es principalmente presentar las características más destacadas de los datos en una forma inteligible. EDA va un poco más allá de las estadísticas descriptivas, aunque la distinción es más cuantitativa que cualitativa. El analista exploratorio de datos sabe que quiere formular hipótesis, mientras que el estadístico descriptivo es menos consciente de ello.  "
   ]
  },
  {
   "cell_type": "markdown",
   "metadata": {
    "collapsed": true
   },
   "source": [
    "## Estadística descriptiva \n",
    "\n",
    "Trata esta parte de la estadística del resumen y descripción de los datos. Dicho resumen puede ser tabular, gráfico o numérico. Este análisis se limita así mismo a los datos recolectados, y no se realiza inferencia alguna o generalizaciones acerca de la totalidad de donde provienen esas observaciones (Población). La estadística descriptiva aprovecha nuestra percepción espacial de las tablas y, más obviamente, de los diagramas. Pero la estadística descriptiva no solo se refiere a la presentación de datos a la vista, sino también a la llamada \"reducción de los datos\", como cuando se calculan los promedios. Quizás el primer ejemplo de reducción de datos en todas las civilizaciones y tribus fue contar\n",
    "\n",
    "### FUENTES DE LOS DATOS\n",
    "\n",
    "* **Datos internos y externos:** Los datos internos son los tomados de los archivos, los procedimientos de operaciones estandarizadas, o experimentos planeados por la división de investigación de una compañía. Ejemplos: Ganancias, pérdidas,  salarios de los empleados, datos de producción, etc. \n",
    "Los datos externos proceden de fuentes externas a la empresa. Los datos externos pueden ser de dos tipos primarios y secundarios. Los datos primarios son obtenidos de las empresas que originalmente los recolectaron. Los datos secundarios son obtenidos de una fuente distinta a aquella que originalmente los recolectó.\n",
    "\n",
    "### TERMINOLOGÍA ESTADÍSTICA\n",
    "\n",
    "* **Población:** la población son todas las unidades bajo estudio. Una característica (**variable aleatoria**) asociada a la población es un atributo de una unidad de la población.\n",
    "* **Censo de la población:** Es la evaluación de la característica en cada una de las unidades de la población.\n",
    "* **Muestra:** Es una parte de la población en donde la característica es estudiada, para luego poder realizar inferencias del estudio de la muestra acerca del total de la población.\n",
    "* **Muestra Aleatoria:** Una Muestra aleatoria de tamaño n de la distribución de X es una colección de n independientes variables aleatorias, cada una con la misma distribución de X.\n",
    "* **Error Muestral:** Este es la diferencia entre estudiar una muestra e inducir un resultado acerca de la característica poblacional y determinar el resultado realizando un censo de la población y evaluando la característica poblacional.\n",
    "* **Error de No - Muestreo:** Son errores que ocurren en la recolección o tabulación de los datos estadísticos que no pueden atribuirse a errores muestrales. Pueden aparecer en los censos o en las muestras.\n",
    "* **Parámetro:** Un parámetro es una medida numérica de la característica de la población.\n",
    "* **Estadístico o Estimador:** Es una medida numérica calculada del conjunto de observaciones de la muestra.\n",
    "\n",
    "### ADQUISICIÓN DE DATOS\n",
    "* **Muestreo estadístico:** Un muestreo es el proceso de recolección de datos de unas unidades de una población existente, sin ningún control particular sobre otros factores que puedan afectar la característica de la población de interés en el estudio.\n",
    "* **Experimento estadístico:** Es un proceso de recolección de datos acerca de la característica de una población donde se ejerce control sobre otros factores que pueden afectar la característica de la población en estudio.\n",
    "\n",
    "### VARIABLES Y ESCALAS DE MEDIDAS\n",
    "\n",
    "#### Variable: \n",
    "Es la característica de la población bajo estudio y puede tomar dos o más diferentes valores dentro de las unidades que componen la población. Las variables pueden ser independientes o dependientes, dependiendo de cual es la variable base de interés y cuales son las variables que la afectan.\n",
    "\n",
    "#### Escalas de medidas: \n",
    "Las escalas de medidas son cuatro:\n",
    "\n",
    "* Nominal: la medida nominal (asignar un nombre) casi ni merece tal denominación. En tal caso, se trata de agrupar en clases, de modo que todos los que pertenezcan a la misma clase sean equivalentes respecto del atributo o propiedad en estudio, después de lo cual se le asignan nombres a las clases y el hecho de a que a veces, en lugar de denominaciones, se le asignen números, pude ser la razón por la cual se denominen nominales. Los números asignados a las escalas nominales tienen iguales propiedades que los demás, por lo cual pueden sumarse, restarse, dividirse o compararse entre sí. Pero si recurrimos a una medida nominal en la asignación de números, en ningún momento podemos pensar en nuestro manejo con el orden, tamaño y demás propiedades de las cifras, impliquen algo respecto de los objetos medidos, puesto que no tuvimos en cuenta el orden, tamaño o demás propiedades de los números asignados a tales objetos. \n",
    "Ejemplo: Clasificar sexo asignando 0 a mujer y 1 a hombre.\n",
    "\n",
    "* Ordinal: Difiere de la anterior en que el orden de los números tiene sentido, pero la magnitud de los número no, de modo que, si la cifra asignada al objeto A es mayor que la del objeto B, puede inferirse que A posee un mayor grado de atributo que Ejemplo: Respuesta de selección múltiple:\n",
    "\n",
    "|Nunca|Rara vez|Normal|Casi siempre|Siempre|\n",
    "|-----|--------|------|------------|-------|\n",
    "|  -2 |   -1   |  0\t  |\t+1\t\t   |   +2  |\n",
    "\n",
    "* Intervalos: El orden relativo de los números es importante, así como la distancia, de tal forma que la distancia entre dos números cualquiera puede ser expresados en algún número de unidades. El origen (cero) en esta escala es necesario pero su localización es arbitraria y no indica que el objeto carece de la característica. Ejemplo las escalas de temperatura Celsius y Fharenheit.\n",
    "\n",
    "* Razón: Aquí el tamaño del intervalo es importante, así como la razón entre dos números tiene significado. En esta escala se puede decir que un número es el doble o triple que otro. El punto cero  no es arbitrario y indica ausencia del atributo en el objeto. Ejemplo: peso, longitud. Se tratará en esta parte de la materia con variables que puedan ser medidas al menos en escala de intervalos.\n",
    "\n",
    "Cuando se estudia una variable aleatoria $X$, una pregunta importante a ser contestada es, “¿A cuál de la familias de variables aleatorias pertenece $X$?” En el caso discreto es a menudo posible determinar la familia apropiada de la descripción física del experimento. El único trabajo que resta es aproximar los valores de los parámetros que caracterizan la distribución. Las variables continuas son más difíciles de manejar. Para determinar la familia a la cual tal variable pertenece, debemos tener una idea de la forma de su densidad de probabilidad.\n",
    "\n",
    "\n",
    "### Medidas de tendencia central\n",
    "* Media Aritmética: Este valor representa el punto medio de las observaciones, si consideramos la frecuencia de cada observación como su peso relativo y la distancia de la observación a la media como la longitud del brazo, la media sería el punto donde la suma de momentos es igual a cero o el centro de masa. La media aritmetica se calcula como \n",
    "\n",
    "$\\bar{x}=\\sum\\limits_{i=1}^n\\frac{x_i}{n}$"
   ]
  },
  {
   "cell_type": "code",
   "execution_count": 25,
   "metadata": {},
   "outputs": [],
   "source": [
    "tiempo=[[60,22,40,45,45,60,20,5,17,50,55,22,80,30,30,5,12,25,45,45,65\n",
    "         ,90,30,23,70,65,30,60,50,40,90,25,10,60,50,50,30,18,40]]"
   ]
  },
  {
   "cell_type": "code",
   "execution_count": 26,
   "metadata": {},
   "outputs": [],
   "source": [
    "import numpy as np"
   ]
  },
  {
   "cell_type": "code",
   "execution_count": 27,
   "metadata": {},
   "outputs": [
    {
     "data": {
      "text/plain": [
       "41.256410256410255"
      ]
     },
     "execution_count": 27,
     "metadata": {},
     "output_type": "execute_result"
    }
   ],
   "source": [
    "np.mean(tiempo)"
   ]
  },
  {
   "cell_type": "code",
   "execution_count": 28,
   "metadata": {},
   "outputs": [
    {
     "data": {
      "text/plain": [
       "41.256410256410255"
      ]
     },
     "execution_count": 28,
     "metadata": {},
     "output_type": "execute_result"
    }
   ],
   "source": [
    "np.sum(tiempo)/(np.size(tiempo)*1.0)"
   ]
  },
  {
   "cell_type": "markdown",
   "metadata": {},
   "source": [
    "* Mediana: La mediana separa el conjunto de datos de forma tal que si se ordenan los datos de mayor a menor el número de observaciones con valores menores iguales a la mediana es mayor al 50%, es decir que por debajo de este punto se encuentran al menos el 50% de las observaciones y por encima de este punto se encuentran al menos el 50% de las observaciones (incluido el punto). \n",
    "\n",
    "$\\tilde{x}\\rightarrow F(X\\leq \\tilde{x})\\geq 0.5$"
   ]
  },
  {
   "cell_type": "markdown",
   "metadata": {},
   "source": [
    "La mediana debe preferirse sobre la media como medida de tendencia central cuando exista uno o varios datos extremos que alteren significativamente la media aritmética, o en caso de datos agrupados cuando la última clase tenga límite superior abierto o la primera clase tenga límite inferior abierto."
   ]
  },
  {
   "cell_type": "code",
   "execution_count": 29,
   "metadata": {},
   "outputs": [
    {
     "data": {
      "text/plain": [
       "40.0"
      ]
     },
     "execution_count": 29,
     "metadata": {},
     "output_type": "execute_result"
    }
   ],
   "source": [
    "np.median(tiempo)"
   ]
  },
  {
   "cell_type": "code",
   "execution_count": 30,
   "metadata": {},
   "outputs": [],
   "source": [
    "tiempo_ordered=np.sort(tiempo)"
   ]
  },
  {
   "cell_type": "code",
   "execution_count": 31,
   "metadata": {},
   "outputs": [
    {
     "data": {
      "text/plain": [
       "array([[ 5,  5, 10, 12, 17, 18, 20, 22, 22, 23, 25, 25, 30, 30, 30, 30,\n",
       "        30, 40, 40, 40, 45, 45, 45, 45, 50, 50, 50, 50, 55, 60, 60, 60,\n",
       "        60, 65, 65, 70, 80, 90, 90]])"
      ]
     },
     "execution_count": 31,
     "metadata": {},
     "output_type": "execute_result"
    }
   ],
   "source": [
    "tiempo_ordered"
   ]
  },
  {
   "cell_type": "code",
   "execution_count": 32,
   "metadata": {},
   "outputs": [
    {
     "data": {
      "text/plain": [
       "40"
      ]
     },
     "execution_count": 32,
     "metadata": {},
     "output_type": "execute_result"
    }
   ],
   "source": [
    "tiempo_ordered[0,19]"
   ]
  },
  {
   "cell_type": "markdown",
   "metadata": {},
   "source": [
    "* Moda: La moda de una serie de datos corresponde al valor que tiene la mayor frecuencia de observaciones por ejemplo en la siguiente serie de datos el valor de la moda es 10 con una frecuencia de 7.\n",
    "\n",
    "10\t11\t13\t11\t15\t10\t9\t10\t15\t13\t12\t14\n",
    "10\t8\t16\t11\t9\t12\t10\t10\t9\t11\t13\t12\n",
    "8\t15\t10\t12\t11\t10\t9\t13\t14\t10\t9\t11\n",
    "\n",
    "Cuando los datos se encuentran agrupados el procedimiento a seguir es distinto; primero debe ubicarse el intervalo de clase de mayor frecuencia; esta es la clase modal"
   ]
  },
  {
   "cell_type": "code",
   "execution_count": 33,
   "metadata": {},
   "outputs": [
    {
     "data": {
      "text/plain": [
       "<zip at 0x26714c45048>"
      ]
     },
     "execution_count": 33,
     "metadata": {},
     "output_type": "execute_result"
    }
   ],
   "source": [
    "x = np.array([10,11,13,11,15,10,9,10,15,13,12,14,10,8,16,11,9\n",
    "              ,12,10,10,9,11,13,12,8,15,10,12,11,10,9,13,14,10,9,11])\n",
    "y = np.bincount(x)\n",
    "ii = np.nonzero(y)[0]\n",
    "zip(ii,y[ii]) "
   ]
  },
  {
   "cell_type": "markdown",
   "metadata": {},
   "source": [
    "* Percentiles: El 100p percentil de cualquiera población o muestra de un conjunto de observaciones que han sido ordenadas en forma ascendente es el valor que al menos el 100p por ciento de las medidas están en o a la izquierda (Menor igual que) de él; y al menos 100(1-p) por ciento  de las medidas están en o a la derecha (Mayor igual que) de tal valor.\n",
    "\n",
    "$x_p\\rightarrow F(X\\leq x_p)\\geq p$"
   ]
  },
  {
   "cell_type": "code",
   "execution_count": 34,
   "metadata": {},
   "outputs": [
    {
     "data": {
      "text/plain": [
       "array([24. , 40. , 57.5])"
      ]
     },
     "execution_count": 34,
     "metadata": {},
     "output_type": "execute_result"
    }
   ],
   "source": [
    "np.percentile(tiempo,[25,50,75])"
   ]
  },
  {
   "cell_type": "markdown",
   "metadata": {
    "collapsed": true
   },
   "source": [
    "### Medidas de dispersion\n",
    "* Rango: es la diferencia entre el mayor valor observado y el menor valor observado\n",
    "\n",
    "* Varianza: esta medida sirve para mostrar el grado de dispersión de los datos con respecto a la media aritmética $\\bar{x}$. Se calcula como:\n",
    "\n",
    "$S^2=\\frac{\\sum\\limits_{i=1}^n(x_i-\\bar{x})^2}{n}$\n",
    "\n",
    "Dado que esta medida está en unidades de medición elevado al cuadrado se acostumbra a utilizar la desviación estándar $S=\\sqrt{S^2}$"
   ]
  },
  {
   "cell_type": "code",
   "execution_count": 35,
   "metadata": {},
   "outputs": [
    {
     "name": "stdout",
     "output_type": "stream",
     "text": [
      "85\n"
     ]
    }
   ],
   "source": [
    "rango=np.max(tiempo)-np.min(tiempo)\n",
    "print(rango)"
   ]
  },
  {
   "cell_type": "code",
   "execution_count": 36,
   "metadata": {},
   "outputs": [
    {
     "data": {
      "text/plain": [
       "473.01117685733084"
      ]
     },
     "execution_count": 36,
     "metadata": {},
     "output_type": "execute_result"
    }
   ],
   "source": [
    "np.var(tiempo)"
   ]
  },
  {
   "cell_type": "code",
   "execution_count": 37,
   "metadata": {},
   "outputs": [
    {
     "data": {
      "text/plain": [
       "21.74882012563741"
      ]
     },
     "execution_count": 37,
     "metadata": {},
     "output_type": "execute_result"
    }
   ],
   "source": [
    "np.std(tiempo)"
   ]
  },
  {
   "cell_type": "code",
   "execution_count": 38,
   "metadata": {},
   "outputs": [],
   "source": [
    "numerador=np.sum((tiempo-np.mean(tiempo))*(tiempo-np.mean(tiempo)))"
   ]
  },
  {
   "cell_type": "code",
   "execution_count": 39,
   "metadata": {},
   "outputs": [
    {
     "data": {
      "text/plain": [
       "473.01117685733084"
      ]
     },
     "execution_count": 39,
     "metadata": {},
     "output_type": "execute_result"
    }
   ],
   "source": [
    "numerador/(np.size(tiempo))"
   ]
  },
  {
   "cell_type": "code",
   "execution_count": 40,
   "metadata": {},
   "outputs": [],
   "source": [
    "var_tiempo=np.inner((tiempo-np.mean(tiempo)),(tiempo-np.mean(tiempo)))/(np.size(tiempo))"
   ]
  },
  {
   "cell_type": "code",
   "execution_count": 41,
   "metadata": {},
   "outputs": [
    {
     "data": {
      "text/plain": [
       "array([[473.01117686]])"
      ]
     },
     "execution_count": 41,
     "metadata": {},
     "output_type": "execute_result"
    }
   ],
   "source": [
    "var_tiempo"
   ]
  },
  {
   "cell_type": "markdown",
   "metadata": {},
   "source": [
    "# Histograma de frecuencias\n",
    "## Tabla de frecuencias\n",
    "Realiza una partición del rango de los datos en $n$ intervalos y realiza un conteo de las observaciones pertenecientes a cada uno de ellos. Para determinar la amplitud de los intervalos y los límites inferior y superior respectivos algunas guías han de ser seguidas:\n",
    "1. Los intervalos deben ser mutuamente excluyentes y colectivamente exhaustivos.\n",
    "2. Se acostumbra a que el limite inferior del intervalo sea cerrado y el limite superior abierto esto es $[lim_{Inf},lim_{Sup})$\n",
    "3. Dado que el histograma se utiliza para una primera aproximación de la función de densidad de probabilidad las caraterísticas de los intervalos deben ser tal que no haya intervalos vacíos, la frecuencia absoluta sea 0.\n"
   ]
  },
  {
   "cell_type": "code",
   "execution_count": 42,
   "metadata": {},
   "outputs": [],
   "source": [
    "import numpy as np\n",
    "xarray=np.random.normal(0,1,50)"
   ]
  },
  {
   "cell_type": "code",
   "execution_count": 43,
   "metadata": {},
   "outputs": [],
   "source": [
    "mean_x=np.mean(xarray)"
   ]
  },
  {
   "cell_type": "code",
   "execution_count": 44,
   "metadata": {},
   "outputs": [],
   "source": [
    "sd_x=np.std(xarray)"
   ]
  },
  {
   "cell_type": "code",
   "execution_count": 45,
   "metadata": {},
   "outputs": [],
   "source": [
    "interval_1=((xarray>=0)&(xarray<=sd_x))"
   ]
  },
  {
   "cell_type": "code",
   "execution_count": 46,
   "metadata": {},
   "outputs": [
    {
     "data": {
      "text/plain": [
       "9"
      ]
     },
     "execution_count": 46,
     "metadata": {},
     "output_type": "execute_result"
    }
   ],
   "source": [
    "np.sum(interval_1)"
   ]
  },
  {
   "cell_type": "code",
   "execution_count": 47,
   "metadata": {},
   "outputs": [
    {
     "name": "stdout",
     "output_type": "stream",
     "text": [
      "[-2.4562564  -1.75609369 -1.05593098 -0.35576827  0.34439445  1.04455716\n",
      "  1.74471987]\n",
      "[3 2 3 4 3 4 6 6 3 3 3 5 1 3 4 2 3 4 3 6 4 5 2 3 2 4 3 4 4 3 5 5 5 3 3 2 3\n",
      " 4 4 2 4 3 3 6 5 1 5 4 3 5]\n",
      "[2, 6, 18, 12, 8, 4]\n"
     ]
    }
   ],
   "source": [
    "range_x=np.max(xarray)-np.min(xarray)\n",
    "numberOfIntervals=6\n",
    "interval_width=(range_x+0.1)/numberOfIntervals\n",
    "bins=np.linspace(np.min(xarray)-0.05, np.max(xarray)+0.05, num=(numberOfIntervals+1))\n",
    "print(bins)\n",
    "binplace = np.digitize(xarray, bins) \n",
    "print(binplace)\n",
    "bin_counts = [len(xarray[binplace == i]) for i in range(1, len(bins))]\n",
    "print(bin_counts)\n",
    "\n"
   ]
  },
  {
   "cell_type": "code",
   "execution_count": 48,
   "metadata": {},
   "outputs": [],
   "source": [
    "import pandas as pd"
   ]
  },
  {
   "cell_type": "code",
   "execution_count": 49,
   "metadata": {},
   "outputs": [],
   "source": [
    "weigth=np.ones(len(xarray))\n"
   ]
  },
  {
   "cell_type": "code",
   "execution_count": 50,
   "metadata": {},
   "outputs": [
    {
     "name": "stdout",
     "output_type": "stream",
     "text": [
      "[-2.4562564049138222,-1.756093692394837)\n",
      "[-1.756093692394837,-1.0559309798758516)\n",
      "[-1.0559309798758516,-0.3557682673568663)\n",
      "[-0.3557682673568663,0.34439444516211903)\n",
      "[0.34439444516211903,1.0445571576811044)\n",
      "[1.0445571576811044,1.7447198702000895)\n"
     ]
    },
    {
     "data": {
      "text/html": [
       "<div>\n",
       "<style scoped>\n",
       "    .dataframe tbody tr th:only-of-type {\n",
       "        vertical-align: middle;\n",
       "    }\n",
       "\n",
       "    .dataframe tbody tr th {\n",
       "        vertical-align: top;\n",
       "    }\n",
       "\n",
       "    .dataframe thead th {\n",
       "        text-align: right;\n",
       "    }\n",
       "</style>\n",
       "<table border=\"1\" class=\"dataframe\">\n",
       "  <thead>\n",
       "    <tr style=\"text-align: right;\">\n",
       "      <th></th>\n",
       "      <th>Frequency</th>\n",
       "    </tr>\n",
       "  </thead>\n",
       "  <tbody>\n",
       "    <tr>\n",
       "      <th>[-2.4562564049138222,-1.756093692394837)</th>\n",
       "      <td>2</td>\n",
       "    </tr>\n",
       "    <tr>\n",
       "      <th>[-1.756093692394837,-1.0559309798758516)</th>\n",
       "      <td>6</td>\n",
       "    </tr>\n",
       "    <tr>\n",
       "      <th>[-1.0559309798758516,-0.3557682673568663)</th>\n",
       "      <td>18</td>\n",
       "    </tr>\n",
       "    <tr>\n",
       "      <th>[-0.3557682673568663,0.34439444516211903)</th>\n",
       "      <td>12</td>\n",
       "    </tr>\n",
       "    <tr>\n",
       "      <th>[0.34439444516211903,1.0445571576811044)</th>\n",
       "      <td>8</td>\n",
       "    </tr>\n",
       "    <tr>\n",
       "      <th>[1.0445571576811044,1.7447198702000895)</th>\n",
       "      <td>4</td>\n",
       "    </tr>\n",
       "  </tbody>\n",
       "</table>\n",
       "</div>"
      ],
      "text/plain": [
       "                                           Frequency\n",
       "[-2.4562564049138222,-1.756093692394837)           2\n",
       "[-1.756093692394837,-1.0559309798758516)           6\n",
       "[-1.0559309798758516,-0.3557682673568663)         18\n",
       "[-0.3557682673568663,0.34439444516211903)         12\n",
       "[0.34439444516211903,1.0445571576811044)           8\n",
       "[1.0445571576811044,1.7447198702000895)            4"
      ]
     },
     "execution_count": 50,
     "metadata": {},
     "output_type": "execute_result"
    }
   ],
   "source": [
    "pd.crosstab(binplace,weigth)/len(xarray)\n",
    "intervals_name=[]\n",
    "for i in range(len(bins)-1):\n",
    "    lim_inf=bins[i]\n",
    "    lim_sup=bins[i+1]\n",
    "    label='['+str(lim_inf)+\",\"+str(lim_sup)+\")\"\n",
    "    intervals_name.append(label)\n",
    "    print(label)\n",
    "freq_table=pd.crosstab(binplace,np.ones(len(xarray)))    \n",
    "freq_table\n",
    "freq_table.index=(intervals_name)\n",
    "freq_table.columns=(['Frequency'])\n",
    "freq_table"
   ]
  },
  {
   "cell_type": "code",
   "execution_count": 51,
   "metadata": {},
   "outputs": [
    {
     "data": {
      "text/plain": [
       "50"
      ]
     },
     "execution_count": 51,
     "metadata": {},
     "output_type": "execute_result"
    }
   ],
   "source": [
    "freq_table['Frequency'].sum()"
   ]
  },
  {
   "cell_type": "code",
   "execution_count": 52,
   "metadata": {},
   "outputs": [
    {
     "data": {
      "text/plain": [
       "(array([ 2,  6, 18, 12,  8,  4], dtype=int64),\n",
       " array([-2.4562564 , -1.75609369, -1.05593098, -0.35576827,  0.34439445,\n",
       "         1.04455716,  1.74471987]))"
      ]
     },
     "execution_count": 52,
     "metadata": {},
     "output_type": "execute_result"
    }
   ],
   "source": [
    "np.histogram(xarray,bins)"
   ]
  },
  {
   "cell_type": "code",
   "execution_count": 53,
   "metadata": {},
   "outputs": [],
   "source": [
    "import matplotlib.pyplot as plt"
   ]
  },
  {
   "cell_type": "code",
   "execution_count": 54,
   "metadata": {},
   "outputs": [
    {
     "data": {
      "text/plain": [
       "(array([ 2.,  6., 18., 12.,  8.,  4.]),\n",
       " array([-2.4562564 , -1.75609369, -1.05593098, -0.35576827,  0.34439445,\n",
       "         1.04455716,  1.74471987]),\n",
       " <a list of 6 Patch objects>)"
      ]
     },
     "execution_count": 54,
     "metadata": {},
     "output_type": "execute_result"
    },
    {
     "data": {
      "image/png": "[encoded data removed]",
      "text/plain": [
       "<Figure size 432x288 with 1 Axes>"
      ]
     },
     "metadata": {
      "needs_background": "light"
     },
     "output_type": "display_data"
    }
   ],
   "source": [
    "plt.hist(xarray,bins=bins,color='blue')"
   ]
  },
  {
   "cell_type": "code",
   "execution_count": 55,
   "metadata": {},
   "outputs": [],
   "source": [
    "plt.show()"
   ]
  },
  {
   "cell_type": "code",
   "execution_count": 56,
   "metadata": {},
   "outputs": [
    {
     "data": {
      "text/plain": [
       "array([-0.50147865, -1.62364492, -1.02677296,  0.10164326, -0.56534273,\n",
       "       -0.0612412 ,  1.58168841,  1.47841866, -1.01412509, -0.42984497,\n",
       "       -0.415659  ,  0.88903714, -2.4062564 , -0.43587936, -0.1010358 ,\n",
       "       -1.53753961, -0.42947097,  0.02213557, -0.7509839 ,  1.69471987,\n",
       "       -0.06213531,  0.46677312, -1.30193308, -0.80139413, -1.2957221 ,\n",
       "       -0.25689572, -1.03979047,  0.08829202, -0.14336539, -0.41700292,\n",
       "        0.37802637,  0.4793573 ,  0.38457923, -0.96882089, -0.74083289,\n",
       "       -1.08792348, -0.79246231, -0.34086099, -0.0046917 , -1.40368642,\n",
       "       -0.26160968, -0.5737985 , -0.79203658,  1.16287221,  0.4186192 ,\n",
       "       -2.20580254,  0.879945  , -0.04173364, -0.46676289,  0.3508131 ])"
      ]
     },
     "execution_count": 56,
     "metadata": {},
     "output_type": "execute_result"
    }
   ],
   "source": [
    "xarray"
   ]
  },
  {
   "cell_type": "code",
   "execution_count": 57,
   "metadata": {},
   "outputs": [],
   "source": [
    "import matplotlib.pyplot as plt "
   ]
  },
  {
   "cell_type": "code",
   "execution_count": 58,
   "metadata": {},
   "outputs": [
    {
     "data": {
      "text/plain": [
       "{'whiskers': [<matplotlib.lines.Line2D at 0x26714d51b38>,\n",
       "  <matplotlib.lines.Line2D at 0x26714d51e80>],\n",
       " 'caps': [<matplotlib.lines.Line2D at 0x26714d5b208>,\n",
       "  <matplotlib.lines.Line2D at 0x26714d5b550>],\n",
       " 'boxes': [<matplotlib.lines.Line2D at 0x26714d519e8>],\n",
       " 'medians': [<matplotlib.lines.Line2D at 0x26714d5b898>],\n",
       " 'fliers': [<matplotlib.lines.Line2D at 0x26714d5bbe0>],\n",
       " 'means': []}"
      ]
     },
     "execution_count": 58,
     "metadata": {},
     "output_type": "execute_result"
    },
    {
     "data": {
      "image/png": "[encoded data removed]",
      "text/plain": [
       "<Figure size 432x288 with 1 Axes>"
      ]
     },
     "metadata": {
      "needs_background": "light"
     },
     "output_type": "display_data"
    }
   ],
   "source": [
    "plt.boxplot(xarray)"
   ]
  },
  {
   "cell_type": "code",
   "execution_count": 59,
   "metadata": {},
   "outputs": [],
   "source": [
    "plt.show()"
   ]
  },
  {
   "cell_type": "code",
   "execution_count": 60,
   "metadata": {},
   "outputs": [
    {
     "data": {
      "image/png": "[encoded data removed]",
      "text/plain": [
       "<Figure size 432x288 with 1 Axes>"
      ]
     },
     "metadata": {
      "needs_background": "light"
     },
     "output_type": "display_data"
    }
   ],
   "source": [
    "plt.boxplot(xarray)\n",
    "plt.savefig('fig1.png', bbox_inches='tight')"
   ]
  },
  {
   "cell_type": "code",
   "execution_count": 61,
   "metadata": {},
   "outputs": [
    {
     "name": "stdout",
     "output_type": "stream",
     "text": [
      "[ 2  6 18 12  8  4]\n",
      "[-2.4562564  -1.75609369 -1.05593098 -0.35576827  0.34439445  1.04455716\n",
      "  1.74471987]\n"
     ]
    }
   ],
   "source": [
    "bins2, edges = np.histogram(xarray,bins)\n",
    "print(bins2)\n",
    "print(edges)"
   ]
  },
  {
   "cell_type": "code",
   "execution_count": 62,
   "metadata": {},
   "outputs": [
    {
     "name": "stdout",
     "output_type": "stream",
     "text": [
      "[-2.10617505 -1.40601234 -0.70584962 -0.00568691  0.6944758   1.39463851]\n",
      "[ 2  6 18 12  8  4]\n"
     ]
    },
    {
     "data": {
      "image/png": "[encoded data removed]",
      "text/plain": [
       "<Figure size 432x288 with 1 Axes>"
      ]
     },
     "metadata": {
      "needs_background": "light"
     },
     "output_type": "display_data"
    }
   ],
   "source": [
    "left,right = edges[:-1],edges[1:]\n",
    "#X = np.array([left,right]).T.flatten()\n",
    "X = np.array((left+right)/2)\n",
    "#Y = np.array([bins2,bins2]).T.flatten()\n",
    "Y = np.array(bins2)\n",
    "print(X)\n",
    "print(Y)\n",
    "plt.plot(X,Y)\n",
    "plt.show()\n"
   ]
  },
  {
   "cell_type": "code",
   "execution_count": null,
   "metadata": {},
   "outputs": [],
   "source": []
  },
  {
   "cell_type": "code",
   "execution_count": null,
   "metadata": {},
   "outputs": [],
   "source": []
  }
 ],
 "metadata": {
  "kernelspec": {
   "display_name": "Python 3",
   "language": "python",
   "name": "python3"
  },
  "language_info": {
   "codemirror_mode": {
    "name": "ipython",
    "version": 3
   },
   "file_extension": ".py",
   "mimetype": "text/x-python",
   "name": "python",
   "nbconvert_exporter": "python",
   "pygments_lexer": "ipython3",
   "version": "3.7.3"
  }
 },
 "nbformat": 4,
 "nbformat_minor": 2
}
